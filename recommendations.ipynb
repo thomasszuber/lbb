{
 "cells": [
  {
   "cell_type": "code",
   "execution_count": 1,
   "metadata": {},
   "outputs": [],
   "source": [
    "import numpy as np\n",
    "import pandas as pd \n",
    "import networkx as nx\n",
    "import numpy.random as rd\n",
    "from scipy.optimize import minimize "
   ]
  },
  {
   "cell_type": "code",
   "execution_count": 319,
   "metadata": {},
   "outputs": [],
   "source": [
    "%run rome.py\n",
    "romes = list(graph.keys())\n",
    "romes = rd.choice(romes,10)"
   ]
  },
  {
   "cell_type": "code",
   "execution_count": 320,
   "metadata": {},
   "outputs": [],
   "source": [
    "g = nx.DiGraph(graph)\n",
    "distance = {}\n",
    "for rome in graph.keys():\n",
    "    distance[rome] = {}\n",
    "    distance[rome][rome] = 0\n",
    "    for connex in (x for x in romes if x != rome):\n",
    "        try: \n",
    "            distance[rome][connex] = nx.shortest_path_length(g,rome,connex)\n",
    "        except:\n",
    "            distance[rome][connex] = 20"
   ]
  },
  {
   "cell_type": "markdown",
   "metadata": {},
   "source": [
    "DEFINE TYPES"
   ]
  },
  {
   "cell_type": "code",
   "execution_count": 30,
   "metadata": {},
   "outputs": [],
   "source": [
    "class JobSeeker: \n",
    "    def __init__(self,rome,rho,T,bni='.'):\n",
    "        self.rome = rome \n",
    "        self.rho = rho\n",
    "        self.T = T\n",
    "        self.bni = bni\n",
    "    def theta(self,theta):\n",
    "        self.theta = theta\n",
    "        \n",
    "class Branch: \n",
    "    def __init__(self,rome,rho,m,hirings,siren='.',nb='.'):\n",
    "        self.rho = rho\n",
    "        self.m = m \n",
    "        self.hirings = hirings\n",
    "        self.rome = rome\n",
    "        self.siren = siren\n",
    "        self.nb = nb\n",
    "    def theta(self,theta):\n",
    "        self.theta = theta     \n",
    "        \n",
    "class Firm: \n",
    "    def __init__(self,rho,m,branches,siren='.'):\n",
    "        self.rho = rho\n",
    "        self.m = m \n",
    "        self.branches = branches\n",
    "        self.romes = list(branches.keys())\n",
    "        self.nb_branches = len(branches)\n",
    "        self.tot_hirings = sum(branches.values())\n",
    "        self.siren = siren \n",
    "    \n",
    "    def split(self):\n",
    "        return [Branch(rome,self.rho,self.m,h,siren=self.siren,nb=b) for b, (rome, h) in enumerate(self.branches.items())]\n",
    "        \n",
    "def random_firm(rho,m,max_branches,hirings_per_branch,siren='.'): \n",
    "    branches = rd.choice(romes,rd.randint(1,high=max_branches))\n",
    "    hirings = {b:rd.chisquare(hirings_per_branches) for b in branches} \n",
    "    return Firm(rd.choice(rho),rd.choice(m),hirings,siren=siren)\n",
    "\n",
    "def random_branch(rho,m,hirings_per_branch,siren='.'): \n",
    "    rome = rd.choice(romes,1)\n",
    "    hirings = rd.chisquare(hirings_per_branches)\n",
    "    return Branch(rome,rd.choice(rho),rd.choice(m),hirings,siren=siren)\n",
    "\n",
    "\n"
   ]
  },
  {
   "cell_type": "markdown",
   "metadata": {},
   "source": [
    "CALCULATE PREDICTED NUMBER OF MATCHES "
   ]
  },
  {
   "cell_type": "code",
   "execution_count": 344,
   "metadata": {},
   "outputs": [],
   "source": [
    "def get_D(distance,DE,BRANCHES):\n",
    "    D = np.empty(shape=(len(DE),len(BRANCHES)))\n",
    "    for n,de in enumerate(DE):\n",
    "        for b,branch in enumerate(BRANCHES):\n",
    "            D[n][b] = distance[de.rome][branch.rome]\n",
    "    return D\n",
    "\n",
    "def get_THETA(DE,BRANCHES):\n",
    "    thetas = {rome:{'U':0.0,'V':0.0} for rome in romes}\n",
    "    for de in DE:\n",
    "        thetas[de.rome]['U'] += 1\n",
    "    for branch in BRANCHES: \n",
    "        thetas[branch.rome]['V'] += branch.hirings\n",
    "    return thetas\n",
    "\n",
    "def get_RHO_DE(D,DE,BRANCHES):\n",
    "    RHO_DE = np.transpose(np.repeat([[de.rho for de in DE]],len(BRANCHES),axis=0))**D\n",
    "    return RHO_DE\n",
    "\n",
    "def get_RHO_BRANCHES(D,DE,BRANCHES):\n",
    "    RHO_BRANCHES = np.repeat([[branch.rho for branch in BRANCHES]],len(DE),axis=0)**D\n",
    "    return RHO_BRANCHES\n",
    "\n",
    "def get_X(D,DE,BRANCHES):\n",
    "    X = {}\n",
    "    THETA = get_THETA(DE,BRANCHES)\n",
    "    for n,de in enumerate(DE):\n",
    "        X[n] = np.empty(shape=(10,len(BRANCHES)))\n",
    "        for b,branch in enumerate(BRANCHES):\n",
    "            X[n][0][b] = de.rho\n",
    "            X[n][1][b] = de.rho*D[n][b]\n",
    "            X[n][2][b] = branch.rho\n",
    "            X[n][3][b] = branch.rho*D[n][b]\n",
    "            X[n][4][b] = branch.m \n",
    "            X[n][5][b] = D[n][b]\n",
    "            X[n][6][b] = THETA[de.rome]['U']           \n",
    "            X[n][7][b] = THETA[de.rome]['V']\n",
    "            X[n][8][b] = THETA[branch.rome]['U']\n",
    "            X[n][9][b] = THETA[branch.rome]['V']\n",
    "    return X\n",
    "\n",
    "def interpret(beta):\n",
    "    result = {}\n",
    "    result['rho (DE)'] = beta[0]\n",
    "    result['rho*d (DE)'] = beta[1]\n",
    "    result['rho (F)'] = beta[2]\n",
    "    result['rho*d (F)'] = beta[3]\n",
    "    result['m (F)'] = beta[4]\n",
    "    result['d'] = beta[5]\n",
    "    result['U (DE)'] = beta[6]\n",
    "    result['V (DE)'] = beta[7]\n",
    "    result['U (F)'] = beta[8]\n",
    "    result['V (F)'] = beta[9]\n",
    "    return result\n",
    "    \n",
    "def get_ALPHA(beta,X,DE,BRANCHES):\n",
    "    ALPHA = np.zeros(shape=(len(DE),len(BRANCHES)))\n",
    "    for n,de in enumerate(DE):\n",
    "        ALPHA[n] = np.exp(beta.dot(X[n]))\n",
    "        ALPHA[n] = ALPHA[n]/np.sum(ALPHA[n])\n",
    "    return ALPHA\n",
    "\n",
    "def get_P(alpha,RHO_DE,DE,BRANCHES):\n",
    "    P = np.empty(shape=(len(DE),len(BRANCHES)))\n",
    "    T = np.transpose(np.repeat([[de.T for de in DE]],len(BRANCHES),axis=0))\n",
    "    O = np.ones(shape=(len(DE),len(BRANCHES)))\n",
    "    P = (O - (O-alpha)**T)*RHO_DE\n",
    "    return P \n",
    "\n",
    "def get_PI(P,DE,BRANCHES):\n",
    "    PI = np.sum(P,axis=0)\n",
    "    H = np.array([branch.hirings for branch in BRANCHES])\n",
    "    M = np.array([branch.m for branch in BRANCHES])\n",
    "    return np.repeat([M*(H/(PI+H))**2],len(DE),axis=0)\n",
    "\n",
    "def get_matches(beta,X,RHO_DE,RHO_BRANCHES,DE,BRANCHES):\n",
    "    ALPHA = get_ALPHA(beta,X,DE,BRANCHES)\n",
    "    P = get_P(ALPHA,RHO_DE,DE,BRANCHES)\n",
    "    PI = get_PI(P,DE,BRANCHES)\n",
    "    return np.sum(RHO_BRANCHES*PI*P)"
   ]
  },
  {
   "cell_type": "code",
   "execution_count": 345,
   "metadata": {},
   "outputs": [],
   "source": [
    "def draws_without_recall(objects,prob,nb_draws):\n",
    "    draws = []\n",
    "    balls = [b for b in objects]\n",
    "    pi = [p for p in prob]\n",
    "    for d in range(nb_draws):\n",
    "        draws += [rd.choice(balls,p=pi)]\n",
    "        pi = [pi[p] for p,b in enumerate(balls) if b != draws[d]]\n",
    "        balls = [b for b in balls if b != draws[d]]\n",
    "        pi = [p/sum(pi) for p in pi]\n",
    "    return draws\n",
    "\n",
    "def recommendations(beta,X,DE,BRANCHES):\n",
    "    R = {}\n",
    "    ALPHA = get_ALPHA(beta,X,DE,BRANCHES)\n",
    "    branches = list(range(len(BRANCHES)))\n",
    "    for n,de in enumerate(DE):\n",
    "        #R[n] = draws_without_recall(branches,ALPHA[n],de.T)\n",
    "        R[n] = ALPHA[n].argsort()[-de.T:][::-1]\n",
    "    return {n:[(BRANCHES[b].siren,BRANCHES[b].rome) for b in branches] for n,branches in R.items()}\n",
    "\n",
    "def back_to_firms(R,DE,FIRMS):\n",
    "    T = {(firm.siren,firm.m,firm.rho): 0 for firm in FIRMS}\n",
    "    for n,r in R.items():\n",
    "        for f in r:\n",
    "            T[(FIRMS[f[0]].siren,FIRMS[f[0]].m,FIRMS[f[0]].rho)] += 1/FIRMS[f[0]].tot_hirings\n",
    "    return T\n",
    "\n",
    "def average_distance(R,DE):\n",
    "    return {(n,DE[n].rho):np.mean([distance[DE[n].rome][r[1]] for r in rn]) for n,rn in R.items()}\n",
    "   "
   ]
  },
  {
   "cell_type": "code",
   "execution_count": 346,
   "metadata": {},
   "outputs": [],
   "source": [
    "rd.seed(123)\n",
    "N = 50\n",
    "F = 10\n",
    "rho = [0.5,0.01]\n",
    "m = [1,0.01]\n",
    "T = [6,3]\n",
    "max_branches = 2\n",
    "hirings_per_branches = 1\n",
    "\n",
    "DE = [JobSeeker(rd.choice(romes),rd.choice(rho),rd.choice(T),n) for n in range(N)]\n",
    "FIRMS = [random_firm(rho,m,max_branches,hirings_per_branches,siren=f) for f in range(F)]\n",
    "BRANCHES = []\n",
    "for firm in FIRMS:\n",
    "    BRANCHES = BRANCHES + firm.split()"
   ]
  },
  {
   "cell_type": "code",
   "execution_count": 347,
   "metadata": {},
   "outputs": [],
   "source": [
    "D = get_D(distance,DE,BRANCHES)\n",
    "RHO_DE = get_RHO_DE(D,DE,BRANCHES)\n",
    "RHO_BRANCHES = get_RHO_BRANCHES(D,DE,BRANCHES)\n",
    "X = get_X(D,DE,BRANCHES)"
   ]
  },
  {
   "cell_type": "code",
   "execution_count": 348,
   "metadata": {},
   "outputs": [],
   "source": [
    "res = minimize(lambda beta: -get_matches(beta,X,RHO_DE,RHO_BRANCHES,DE,BRANCHES),np.zeros(10),method='Nelder-Mead')"
   ]
  },
  {
   "cell_type": "code",
   "execution_count": 349,
   "metadata": {},
   "outputs": [
    {
     "data": {
      "text/plain": [
       "{'rho (DE)': -11.377319264111673,\n",
       " 'rho*d (DE)': -0.20516546644874462,\n",
       " 'rho (F)': -3.6267588187233804,\n",
       " 'rho*d (F)': 9.239409540965688,\n",
       " 'm (F)': 0.2558300045272456,\n",
       " 'd': -7.219493221204403,\n",
       " 'U (DE)': 39.62180987926279,\n",
       " 'V (DE)': -17.062703641815496,\n",
       " 'U (F)': -5.15716268612955,\n",
       " 'V (F)': 14.09479625877075}"
      ]
     },
     "execution_count": 349,
     "metadata": {},
     "output_type": "execute_result"
    }
   ],
   "source": [
    "interpret(res.x)"
   ]
  },
  {
   "cell_type": "code",
   "execution_count": null,
   "metadata": {},
   "outputs": [],
   "source": []
  },
  {
   "cell_type": "code",
   "execution_count": 325,
   "metadata": {},
   "outputs": [
    {
     "data": {
      "text/plain": [
       "{(0, 1.0, 0.01): 1890.5483554055756,\n",
       " (1, 0.01, 0.01): 172.37942579279942,\n",
       " (2, 1.0, 0.5): 71.43404040903626,\n",
       " (3, 0.01, 0.5): 3.1042049951559614,\n",
       " (4, 0.01, 0.01): 23.633528635355912,\n",
       " (5, 0.01, 0.01): 427.0731249863933,\n",
       " (6, 1.0, 0.01): 86.36923318216236,\n",
       " (7, 0.01, 0.01): 0.26493326159318187,\n",
       " (8, 0.01, 0.01): 17.356896538123063,\n",
       " (9, 1.0, 0.01): 36.850305830411855}"
      ]
     },
     "execution_count": 325,
     "metadata": {},
     "output_type": "execute_result"
    }
   ],
   "source": [
    "R = recommendations(res.x,X,DE,BRANCHES)\n",
    "#average_distance(R,DE)\n",
    "back_to_firms(R,DE,FIRMS)"
   ]
  },
  {
   "cell_type": "code",
   "execution_count": 151,
   "metadata": {},
   "outputs": [
    {
     "data": {
      "text/plain": [
       "5"
      ]
     },
     "execution_count": 151,
     "metadata": {},
     "output_type": "execute_result"
    }
   ],
   "source": [
    "distance['J1305']['H1207']"
   ]
  },
  {
   "cell_type": "code",
   "execution_count": 209,
   "metadata": {},
   "outputs": [],
   "source": []
  },
  {
   "cell_type": "code",
   "execution_count": 211,
   "metadata": {},
   "outputs": [
    {
     "data": {
      "text/plain": [
       "[]"
      ]
     },
     "execution_count": 211,
     "metadata": {},
     "output_type": "execute_result"
    }
   ],
   "source": [
    "graph[DE[13].rome]"
   ]
  },
  {
   "cell_type": "code",
   "execution_count": 216,
   "metadata": {},
   "outputs": [
    {
     "data": {
      "text/plain": [
       "0.05"
      ]
     },
     "execution_count": 216,
     "metadata": {},
     "output_type": "execute_result"
    }
   ],
   "source": [
    "firm_romes = []\n",
    "for firm in FIRMS.values():\n",
    "    firm_romes += firm.romes\n",
    "sum([DE[n].rome in firm_romes for n in DE.keys()])/len(DE)"
   ]
  },
  {
   "cell_type": "code",
   "execution_count": 213,
   "metadata": {},
   "outputs": [
    {
     "ename": "NameError",
     "evalue": "name 'unique' is not defined",
     "output_type": "error",
     "traceback": [
      "\u001b[0;31m---------------------------------------------------------------------------\u001b[0m",
      "\u001b[0;31mNameError\u001b[0m                                 Traceback (most recent call last)",
      "\u001b[0;32m<ipython-input-213-7b59230ebca7>\u001b[0m in \u001b[0;36m<module>\u001b[0;34m\u001b[0m\n\u001b[0;32m----> 1\u001b[0;31m \u001b[0munique\u001b[0m\u001b[0;34m(\u001b[0m\u001b[0;34m[\u001b[0m\u001b[0;36m0\u001b[0m\u001b[0;34m,\u001b[0m\u001b[0;36m0\u001b[0m\u001b[0;34m]\u001b[0m\u001b[0;34m)\u001b[0m\u001b[0;34m\u001b[0m\u001b[0;34m\u001b[0m\u001b[0m\n\u001b[0m",
      "\u001b[0;31mNameError\u001b[0m: name 'unique' is not defined"
     ]
    }
   ],
   "source": []
  },
  {
   "cell_type": "code",
   "execution_count": null,
   "metadata": {},
   "outputs": [],
   "source": []
  }
 ],
 "metadata": {
  "kernelspec": {
   "display_name": "Python 3",
   "language": "python",
   "name": "python3"
  },
  "language_info": {
   "codemirror_mode": {
    "name": "ipython",
    "version": 3
   },
   "file_extension": ".py",
   "mimetype": "text/x-python",
   "name": "python",
   "nbconvert_exporter": "python",
   "pygments_lexer": "ipython3",
   "version": "3.7.3"
  }
 },
 "nbformat": 4,
 "nbformat_minor": 2
}
