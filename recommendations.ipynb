{
 "cells": [
  {
   "cell_type": "code",
   "execution_count": 1,
   "metadata": {},
   "outputs": [],
   "source": [
    "import numpy as np\n",
    "import pandas as pd \n",
    "import networkx as nx\n",
    "import numpy.random as rd\n",
    "from scipy.optimize import minimize "
   ]
  },
  {
   "cell_type": "code",
   "execution_count": 2,
   "metadata": {},
   "outputs": [],
   "source": [
    "%run rome.py\n",
    "romes = list(graph.keys())\n",
    "#romes = rd.choice(romes,10)"
   ]
  },
  {
   "cell_type": "markdown",
   "metadata": {},
   "source": [
    "DEFINE GRAPH TO CALCULATE OCCUPATIONAL DISTANCES "
   ]
  },
  {
   "cell_type": "code",
   "execution_count": 3,
   "metadata": {},
   "outputs": [],
   "source": [
    "#g = nx.DiGraph(graph)"
   ]
  },
  {
   "cell_type": "code",
   "execution_count": 4,
   "metadata": {},
   "outputs": [],
   "source": [
    "g = nx.Graph()\n",
    "g.add_nodes_from(romes)\n",
    "for rome1 in romes:\n",
    "    current_edges = list(g.edges)\n",
    "    for rome2 in romes:\n",
    "        if (rome2,rome1) not in current_edges and (rome1 in graph[rome2] or rome2 in graph[rome1]):\n",
    "            g.add_edge(rome1,rome2)\n",
    "                "
   ]
  },
  {
   "cell_type": "code",
   "execution_count": 176,
   "metadata": {},
   "outputs": [],
   "source": [
    "distance = {}\n",
    "for rome in graph.keys():\n",
    "    distance[rome] = {}\n",
    "    distance[rome][rome] = 0\n",
    "    for connex in (x for x in romes if x != rome):\n",
    "        try: \n",
    "            distance[rome][connex] = nx.shortest_path_length(g,rome,connex)\n",
    "        except:\n",
    "            distance[rome][connex] = 20"
   ]
  },
  {
   "cell_type": "markdown",
   "metadata": {},
   "source": [
    "DEFINE TYPES"
   ]
  },
  {
   "cell_type": "code",
   "execution_count": 128,
   "metadata": {},
   "outputs": [],
   "source": [
    "class JobSeeker: \n",
    "    def __init__(self,rome,rho,T,bni='.'):\n",
    "        self.rome = rome \n",
    "        self.rho = rho\n",
    "        self.T = T\n",
    "        self.bni = bni\n",
    "    def theta(self,theta):\n",
    "        self.theta = theta\n",
    "        \n",
    "class Branch: \n",
    "    def __init__(self,rome,rho,m,hirings,siren='.',nb='.'):\n",
    "        self.rho = rho\n",
    "        self.m = m \n",
    "        self.hirings = hirings\n",
    "        self.rome = rome\n",
    "        self.siren = siren\n",
    "        self.nb = nb\n",
    "    def theta(self,theta):\n",
    "        self.theta = theta     \n",
    "        \n",
    "class Firm: \n",
    "    def __init__(self,rho,m,branches,siren='.'):\n",
    "        self.rho = rho\n",
    "        self.m = m \n",
    "        self.branches = branches\n",
    "        self.romes = [b.rome for b in branches]\n",
    "        self.nb_branches = len(branches)\n",
    "        self.tot_hirings = sum([b.hirings for b in branches]) \n",
    "        self.siren = siren \n",
    "\n",
    "def random_branch(romes,rho,m,mean_hirings,siren='.',nb='.'): \n",
    "    return Branch(rd.choice(romes),rd.choice(rho),rd.choice(m),rd.chisquare(mean_hirings),siren=siren,nb=nb)\n",
    "\n",
    "def random_firm(romes,rho,m,max_branches,mean_hirings,siren='.'):\n",
    "    rho_f = rd.choice(rho)\n",
    "    m_f = rd.choice(m)\n",
    "    NB = rd.randint(1,high=max_branches)\n",
    "    branches = [random_branch(romes,[rho_f],[m_f],mean_hirings,siren=siren,nb=i) for i in range(NB)]\n",
    "    return Firm(rho_f,m_f,branches,siren = siren) "
   ]
  },
  {
   "cell_type": "markdown",
   "metadata": {},
   "source": [
    "CALCULATE PREDICTED NUMBER OF MATCHES "
   ]
  },
  {
   "cell_type": "code",
   "execution_count": 184,
   "metadata": {},
   "outputs": [],
   "source": [
    "def get_D(distance,DE,BRANCHES):\n",
    "    D = np.empty(shape=(len(DE),len(BRANCHES)))\n",
    "    for n,de in enumerate(DE):\n",
    "        for b,branch in enumerate(BRANCHES):\n",
    "            D[n][b] = distance[de.rome][branch.rome]\n",
    "    return D\n",
    "\n",
    "def get_THETA(DE,BRANCHES):\n",
    "    thetas = {rome:{'U':0.0,'V':0.0} for rome in romes}\n",
    "    for de in DE:\n",
    "        thetas[de.rome]['U'] += 1\n",
    "    for branch in BRANCHES: \n",
    "        thetas[branch.rome]['V'] += branch.hirings\n",
    "    return thetas\n",
    "\n",
    "def get_RHO_DE(D,DE,BRANCHES):\n",
    "    RHO_DE = np.transpose(np.repeat([[de.rho for de in DE]],len(BRANCHES),axis=0))**D\n",
    "    #RHO_DE = np.exp(-np.transpose(np.repeat([[de.rho for de in DE]],len(BRANCHES),axis=0))*D)\n",
    "    return RHO_DE\n",
    "\n",
    "def get_RHO_BRANCHES(D,DE,BRANCHES):\n",
    "    RHO_BRANCHES = np.repeat([[branch.rho for branch in BRANCHES]],len(DE),axis=0)**D\n",
    "    #RHO_BRANCHES = np.exp(-np.repeat([[branch.rho for branch in BRANCHES]],len(DE),axis=0)*D)\n",
    "    return RHO_BRANCHES\n",
    "\n",
    "def get_X(D,DE,BRANCHES):\n",
    "    X = {}\n",
    "    THETA = get_THETA(DE,BRANCHES)\n",
    "    for n,de in enumerate(DE):\n",
    "        X[n] = np.empty(shape=(6,len(BRANCHES)))\n",
    "        for b,branch in enumerate(BRANCHES):\n",
    "            #X[n][0][b] = de.rho\n",
    "            X[n][0][b] = de.rho*D[n][b]\n",
    "            X[n][1][b] = branch.rho*D[n][b]\n",
    "            X[n][2][b] = branch.m \n",
    "            X[n][3][b] = D[n][b]\n",
    "            X[n][4][b] = THETA[branch.rome]['U']\n",
    "            X[n][5][b] = THETA[branch.rome]['V']\n",
    "            #X[n][8][b] = THETA[de.rome]['U']           \n",
    "            #X[n][9][b] = THETA[de.rome]['V']\n",
    "\n",
    "    return X\n",
    "\n",
    "def interpret(beta):\n",
    "    result = {}\n",
    "    #result['rho (DE)'] = beta[0]\n",
    "    result['rho*d (DE)'] = beta[0]\n",
    "    result['rho*d (F)'] = beta[1]\n",
    "    result['m (F)'] = beta[2]\n",
    "    result['d'] = beta[3]\n",
    "    result['U (F)'] = beta[4]\n",
    "    result['V (F)'] = beta[5]\n",
    "    #result['U (DE)'] = beta[8]\n",
    "    #result['V (DE)'] = beta[9]\n",
    "    return result\n",
    "    \n",
    "def get_ALPHA(beta,X,D,DE,BRANCHES,method='.'):\n",
    "    ALPHA = np.zeros(shape=(len(DE),len(BRANCHES)))\n",
    "    for n,de in enumerate(DE):\n",
    "        ALPHA[n] = np.exp(beta.dot(X[n]))\n",
    "        ALPHA[n] = ALPHA[n]/np.sum(ALPHA[n])\n",
    "        if method == 'correct' and (np.isnan(ALPHA[n]).any() or np.isinf(ALPHA[n]).any()):\n",
    "            ALPHA[n] = np.exp(-D[n])/sum(np.exp(-D[n]))\n",
    "            print(f'corected alpha for DE nb {n}')\n",
    "    return ALPHA\n",
    "\n",
    "def get_P(alpha,RHO_DE,DE,BRANCHES):\n",
    "    P = np.empty(shape=(len(DE),len(BRANCHES)))\n",
    "    T = np.transpose(np.repeat([[de.T for de in DE]],len(BRANCHES),axis=0))\n",
    "    O = np.ones(shape=(len(DE),len(BRANCHES)))\n",
    "    P = (O - (O-alpha)**T)*RHO_DE\n",
    "    return P \n",
    "\n",
    "def get_C(P,DE,BRANCHES):\n",
    "    PI = np.sum(P,axis=0)\n",
    "    H = np.array([branch.hirings for branch in BRANCHES])\n",
    "    M = np.array([branch.m for branch in BRANCHES])\n",
    "    return M*(PI/H)**2\n",
    "\n",
    "def get_PI(P,DE,BRANCHES):\n",
    "    PI = np.sum(P,axis=0)\n",
    "    H = np.array([branch.hirings for branch in BRANCHES])\n",
    "    M = np.array([branch.m for branch in BRANCHES])\n",
    "    #return np.repeat([(H/PI)*(np.ones(len(BRANCHES))-np.exp(-M*PI/H))],len(DE),axis=0)\n",
    "    #return np.repeat([M*(np.ones(len(BRANCHES))-np.exp(-H/PI))],len(DE),axis=0)\n",
    "    return np.repeat([M*(H/(PI+H))],len(DE),axis=0)\n",
    "\n",
    "def get_matches(beta,X,D,RHO_DE,RHO_BRANCHES,DE,BRANCHES,method='.'):\n",
    "    ALPHA = get_ALPHA(beta,X,D,DE,BRANCHES,method=method)\n",
    "    P = get_P(ALPHA,RHO_DE,DE,BRANCHES)\n",
    "    PI = get_PI(P,DE,BRANCHES)\n",
    "    #C = get_C(P,DE,BRANCHES)\n",
    "    return np.sum(RHO_BRANCHES*PI*P) #- np.sum(C)"
   ]
  },
  {
   "cell_type": "markdown",
   "metadata": {},
   "source": [
    "DEFINE RECOMMENDATIONS"
   ]
  },
  {
   "cell_type": "code",
   "execution_count": 191,
   "metadata": {},
   "outputs": [],
   "source": [
    "def draws_without_recall(objects,prob,nb_draws):\n",
    "    draws = []\n",
    "    balls = [b for b in objects]\n",
    "    pi = [p for p in prob]\n",
    "    for d in range(nb_draws):\n",
    "        draws += [rd.choice(balls,p=pi)]\n",
    "        pi = [pi[p] for p,b in enumerate(balls) if b != draws[d]]\n",
    "        balls = [b for b in balls if b != draws[d]]\n",
    "        pi = [p/sum(pi) for p in pi]\n",
    "    return draws\n",
    "\n",
    "def recommendations(beta,X,D,DE,BRANCHES,method='norecall',method_alpha='correct'):\n",
    "    R = {}\n",
    "    ALPHA = get_ALPHA(beta,X,D,DE,BRANCHES,method=method_alpha)\n",
    "    branches = list(range(len(BRANCHES)))\n",
    "    if method == 'norecall':\n",
    "        for n,de in enumerate(DE):\n",
    "            R[n] = draws_without_recall(branches,ALPHA[n],de.T)\n",
    "    if method == 'rank':\n",
    "        for n,de in enumerate(DE):\n",
    "            R[n] = ALPHA[n].argsort()[-de.T:][::-1]\n",
    "    if method == 'recall':\n",
    "        for n,de in enumerate(DE):\n",
    "            R[n] = rd.choice(branches,p=ALPHA[n],size=de.T)\n",
    "    return {n:[(BRANCHES[b].siren,BRANCHES[b].nb) for b in branches] for n,branches in R.items()}\n",
    "\n",
    "def stat_des(R,DE,FIRMS,m,rho):\n",
    "    AD_DE = {r:0 for r in rho}\n",
    "    AD_F = {r:0 for r in rho}\n",
    "    NB_R_B = {f:{b:0 for b in range(FIRMS[f].nb_branches)} for f in range(len(FIRMS))}\n",
    "    AR_F = {e:0 for e in m}\n",
    "    for r in R.values():\n",
    "        for f,b in r:\n",
    "            NB_R_B[f][b] += 1\n",
    "    NB_R_F = {f:sum(list(nb.values())) for f, nb in NB_R_B.items()}\n",
    "    for n,de in enumerate(DE):\n",
    "        AD_DE[de.rho] += np.mean([distance[de.rome][FIRMS[f].branches[b].rome] for f,b in R[n]])/(len(DE)/2)\n",
    "    for n,r in R.items():\n",
    "        for f,b in r:\n",
    "            AD_F[FIRMS[f].rho] += (distance[DE[n].rome][FIRMS[f].branches[b].rome]/NB_R_F[f])/(len(FIRMS)/2)\n",
    "    NB_R_F = {f:r/FIRMS[f].tot_hirings for f, r in NB_R_F.items()}\n",
    "    for f,h in NB_R_F.items():\n",
    "        AR_F[FIRMS[f].m] += h/(len(FIRMS)/2)\n",
    "    return AD_DE, AD_F, AR_F "
   ]
  },
  {
   "cell_type": "code",
   "execution_count": 185,
   "metadata": {},
   "outputs": [],
   "source": [
    "rd.seed(123)\n",
    "N = 100\n",
    "F = 30\n",
    "rho = [0.9,0.5]\n",
    "m = [1,0.5]\n",
    "T = [6,3]\n",
    "max_branches = 2\n",
    "hirings_per_branches = 10\n",
    "\n",
    "DE = [JobSeeker(rd.choice(romes),rd.choice(rho),rd.choice(T),n) for n in range(N)]\n",
    "FIRMS = [random_firm(romes,rho,m,max_branches,hirings_per_branches,siren=f) for f in range(F)]\n",
    "BRANCHES = []\n",
    "for firm in FIRMS:\n",
    "    BRANCHES = BRANCHES + firm.branches"
   ]
  },
  {
   "cell_type": "code",
   "execution_count": 186,
   "metadata": {},
   "outputs": [],
   "source": [
    "D = get_D(distance,DE,BRANCHES)\n",
    "RHO_DE = get_RHO_DE(D,DE,BRANCHES)\n",
    "RHO_BRANCHES = get_RHO_BRANCHES(D,DE,BRANCHES)\n",
    "X = get_X(D,DE,BRANCHES)"
   ]
  },
  {
   "cell_type": "code",
   "execution_count": 187,
   "metadata": {
    "scrolled": true
   },
   "outputs": [],
   "source": [
    "res = minimize(lambda beta: -get_matches(beta,X,D,RHO_DE,RHO_BRANCHES,DE,BRANCHES,method='correct'),\\\n",
    "               np.zeros(6),method='Nelder-Mead')"
   ]
  },
  {
   "cell_type": "code",
   "execution_count": 188,
   "metadata": {
    "scrolled": true
   },
   "outputs": [
    {
     "data": {
      "text/plain": [
       "{'rho*d (DE)': 13.911316160283093,\n",
       " 'rho*d (F)': 2.82384825832799,\n",
       " 'm (F)': 2.4328808605880132,\n",
       " 'd': -15.631504302312706,\n",
       " 'U (F)': -0.46317837348661983,\n",
       " 'V (F)': 0.04897278381247512}"
      ]
     },
     "execution_count": 188,
     "metadata": {},
     "output_type": "execute_result"
    }
   ],
   "source": [
    "interpret(res.x)"
   ]
  },
  {
   "cell_type": "code",
   "execution_count": 189,
   "metadata": {},
   "outputs": [
    {
     "data": {
      "text/plain": [
       "array([0.98462142, 0.14143872, 0.98360576, 0.59934871, 0.99998109,\n",
       "       0.99846205, 0.99847872, 0.3411907 , 0.12920176, 0.99341025,\n",
       "       0.20648608, 0.14498091, 0.58325905, 0.89258091, 0.14262886,\n",
       "       0.96044375, 0.18945149, 0.50871972, 0.15635242, 0.24835541,\n",
       "       0.93875468, 0.14990894, 0.96960408, 0.21885187, 0.92559845,\n",
       "       0.86029469, 0.61272666, 0.24386079, 0.17167756, 0.36919898,\n",
       "       0.19810298, 0.65126142, 0.60273172, 0.27290267, 0.76947205,\n",
       "       0.17086968, 0.31566066, 0.99996927, 0.19690188, 0.99882537,\n",
       "       0.99844406, 0.26507961, 0.46647063, 0.9986264 , 0.66745884,\n",
       "       0.1607888 , 0.82303125, 0.35075753, 0.22496986, 0.26002348,\n",
       "       0.19579102, 0.45481351, 0.20863686, 0.21885187, 0.14087897,\n",
       "       0.34197785, 0.27175707, 0.14759414, 0.57912183, 0.89258091,\n",
       "       0.97482524, 0.15614649, 0.65609158, 0.26002348, 1.        ,\n",
       "       0.17313921, 0.96812716, 0.6935592 , 0.21592307, 0.19579102,\n",
       "       0.77140003, 0.99999798, 0.98858799, 0.9999957 , 0.24386079,\n",
       "       0.17294626, 0.99708373, 0.26068619, 0.70980537, 0.14143872,\n",
       "       0.99218367, 0.21885187, 0.18070007, 0.99999798, 0.81033295,\n",
       "       0.98935172, 0.34281721, 0.16090981, 0.13648407, 0.99875989,\n",
       "       0.21391918, 0.9968093 , 0.14087897, 0.86086673, 0.17504007,\n",
       "       0.99909286, 0.33739343, 0.52323986, 0.17602808, 0.23167116])"
      ]
     },
     "execution_count": 189,
     "metadata": {},
     "output_type": "execute_result"
    }
   ],
   "source": [
    "beta = res.x\n",
    "\n",
    "ALPHA = get_ALPHA(beta,X,D,DE,BRANCHES,method='correct')\n",
    " \n",
    "np.nan_to_num(ALPHA).max(axis=1)"
   ]
  },
  {
   "cell_type": "code",
   "execution_count": 192,
   "metadata": {},
   "outputs": [],
   "source": [
    "R = recommendations(res.x,X,D,DE,BRANCHES,method='recall')"
   ]
  },
  {
   "cell_type": "code",
   "execution_count": 193,
   "metadata": {},
   "outputs": [],
   "source": [
    "AD_DE, AD_F, AR_F  = stat_des(R,DE,FIRMS,m,rho)"
   ]
  },
  {
   "cell_type": "code",
   "execution_count": 194,
   "metadata": {},
   "outputs": [
    {
     "data": {
      "text/plain": [
       "{0.9: 4.089999999999999, 0.5: 2.230000000000001}"
      ]
     },
     "execution_count": 194,
     "metadata": {},
     "output_type": "execute_result"
    }
   ],
   "source": [
    "AD_DE"
   ]
  },
  {
   "cell_type": "code",
   "execution_count": 195,
   "metadata": {},
   "outputs": [
    {
     "data": {
      "text/plain": [
       "{0.9: 3.9626873881118305, 0.5: 0.9124542124542127}"
      ]
     },
     "execution_count": 195,
     "metadata": {},
     "output_type": "execute_result"
    }
   ],
   "source": [
    "AD_F"
   ]
  },
  {
   "cell_type": "code",
   "execution_count": 196,
   "metadata": {},
   "outputs": [
    {
     "data": {
      "text/plain": [
       "{1: 1.6980412883952598, 0.5: 1.5781815804223691}"
      ]
     },
     "execution_count": 196,
     "metadata": {},
     "output_type": "execute_result"
    }
   ],
   "source": [
    "AR_F"
   ]
  },
  {
   "cell_type": "code",
   "execution_count": null,
   "metadata": {},
   "outputs": [],
   "source": []
  }
 ],
 "metadata": {
  "kernelspec": {
   "display_name": "Python 3",
   "language": "python",
   "name": "python3"
  },
  "language_info": {
   "codemirror_mode": {
    "name": "ipython",
    "version": 3
   },
   "file_extension": ".py",
   "mimetype": "text/x-python",
   "name": "python",
   "nbconvert_exporter": "python",
   "pygments_lexer": "ipython3",
   "version": "3.7.3"
  }
 },
 "nbformat": 4,
 "nbformat_minor": 2
}
