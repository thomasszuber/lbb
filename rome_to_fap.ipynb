{
 "cells": [
  {
   "cell_type": "code",
   "execution_count": 1,
   "metadata": {},
   "outputs": [],
   "source": [
    "import pandas as pd\n",
    "import numpy as np"
   ]
  },
  {
   "cell_type": "code",
   "execution_count": null,
   "metadata": {},
   "outputs": [],
   "source": []
  },
  {
   "cell_type": "code",
   "execution_count": 2,
   "metadata": {},
   "outputs": [],
   "source": [
    "data = pd.read_csv(\"../bases/rome_tension.csv\")\n",
    "data = data[['rome5','BE_id','T']]\n",
    "data = data.pivot(index='BE_id',columns='rome5',values='T')"
   ]
  },
  {
   "cell_type": "code",
   "execution_count": 3,
   "metadata": {},
   "outputs": [],
   "source": [
    "run rome.py"
   ]
  },
  {
   "cell_type": "code",
   "execution_count": 4,
   "metadata": {},
   "outputs": [],
   "source": [
    "def count_by(df,var):\n",
    "    nb = df.groupby([var],group_keys=False).size()\n",
    "    nb = pd.DataFrame({var:nb.index,'nb_'+var:nb.values})\n",
    "    nb = pd.merge(df,nb,on=var,how='left')\n",
    "    return nb\n",
    "    \n",
    "def mode_of_by(df,var1,var2):\n",
    "    modes = tree.groupby([var2]).apply(lambda x: x[var1].mode()[0])\n",
    "    modes = pd.DataFrame({var2:modes.index,'mode_'+var2:modes.values})\n",
    "    modes = pd.merge(df,modes,on=var2,how='left')\n",
    "    return modes"
   ]
  },
  {
   "cell_type": "code",
   "execution_count": 5,
   "metadata": {},
   "outputs": [],
   "source": [
    "tree = pd.read_csv(\"../bases/fap_pcs_rome.csv\")\n",
    "tree.columns = 'fap','fap_lab','pcs','pcs_lab','rome','qual','rome_lab'\n",
    "tree = tree.filter(items=['fap','fap_lab','rome','rome_lab'])\n",
    "tree['fap']= tree['fap'].fillna(method='ffill')\n",
    "tree['fap_lab']= tree['fap_lab'].fillna(method='ffill')\n",
    "tree = tree.dropna(subset=['rome'],axis=0)\n",
    "tree = count_by(tree,'rome')"
   ]
  },
  {
   "cell_type": "markdown",
   "metadata": {},
   "source": [
    "### Placing corr before competence"
   ]
  },
  {
   "cell_type": "code",
   "execution_count": 6,
   "metadata": {
    "scrolled": true
   },
   "outputs": [],
   "source": [
    "multiple = tree.query('nb_rome > 1').rome.tolist()\n",
    "tree['best_faps'] = tree['fap']\n",
    "tree['method'] = ''\n",
    "tree['n_branch'] = ''\n",
    "tree['n_common'] = ''\n",
    "tree['corr'] = np.nan\n",
    "tree['criterium'] = ''\n",
    "for rome in multiple:\n",
    "    faps = tree.loc[tree.rome == rome,'fap'].tolist()\n",
    "    n_branch, n_common = [0], [0]\n",
    "    fap_branch, fap_corr, fap_common = '', '', ''\n",
    "    tie_branch, tie_common = False, False\n",
    "    sig = 0\n",
    "    for fap in faps: \n",
    "        group = tree.loc[tree.fap == fap,'rome'].tolist()\n",
    "        if len(group) > 1: group.remove(rome)\n",
    "        corr = np.mean([data[rome].corr(data[x]) for x in group])\n",
    "        branch = sum([rome[0] == x[0] for x in group])\n",
    "        common = sum([x in graph[rome] for x in group])\n",
    "        if corr > sig:\n",
    "            sig = corr \n",
    "            fap_corr = fap\n",
    "        if branch == n_branch: tie_branch = True\n",
    "        if common == n_common: tie_common = True\n",
    "        if branch > n_branch[-1]:\n",
    "            n_branch.append(branch) \n",
    "            fap_branch = fap\n",
    "            if n_branch[-2] == branch: tie = True\n",
    "            else: tie_branch = False\n",
    "        if common > n_common[-1]:\n",
    "            n_common.append(common) \n",
    "            fap_common = fap\n",
    "            if n_common[-2] == common: tie = True\n",
    "            else: tie_common = False\n",
    "    if sig > 0:\n",
    "        best_fap = fap_corr\n",
    "        method = 'corr'\n",
    "        t = sig\n",
    "    else:\n",
    "        if n_common[-1] > 0 and tie_common == False: \n",
    "            method = 'connex'\n",
    "            best_fap = fap_common\n",
    "            t = n_common[-1]\n",
    "        else:\n",
    "            if n_branch[-1] > 0 and tie_branch == False:\n",
    "                method = 'branch'\n",
    "                best_fap = fap_branch\n",
    "                t = n_branch[-1]\n",
    "            else: \n",
    "                method = 'failed'\n",
    "                best_fap = ''\n",
    "                t = ''\n",
    "    tree.loc[tree.rome == rome,'best_faps'] = best_fap\n",
    "    tree.loc[tree.rome == rome,'method'] = method\n",
    "    tree.loc[tree.rome == rome,'n_common'] = n_common[-1]\n",
    "    tree.loc[tree.rome == rome,'n_branch'] = n_branch[-1]\n",
    "    tree.loc[tree.rome == rome,'corr'] = sig\n",
    "    tree.loc[tree.rome == rome,'criterium'] = t\n"
   ]
  },
  {
   "cell_type": "code",
   "execution_count": 7,
   "metadata": {
    "scrolled": true
   },
   "outputs": [
    {
     "data": {
      "text/html": [
       "<div>\n",
       "<style scoped>\n",
       "    .dataframe tbody tr th:only-of-type {\n",
       "        vertical-align: middle;\n",
       "    }\n",
       "\n",
       "    .dataframe tbody tr th {\n",
       "        vertical-align: top;\n",
       "    }\n",
       "\n",
       "    .dataframe thead th {\n",
       "        text-align: right;\n",
       "    }\n",
       "</style>\n",
       "<table border=\"1\" class=\"dataframe\">\n",
       "  <thead>\n",
       "    <tr style=\"text-align: right;\">\n",
       "      <th></th>\n",
       "      <th>fap</th>\n",
       "      <th>fap_lab</th>\n",
       "      <th>rome</th>\n",
       "      <th>rome_lab</th>\n",
       "      <th>nb_rome</th>\n",
       "      <th>best_faps</th>\n",
       "      <th>method</th>\n",
       "      <th>n_branch</th>\n",
       "      <th>n_common</th>\n",
       "      <th>corr</th>\n",
       "      <th>criterium</th>\n",
       "    </tr>\n",
       "  </thead>\n",
       "  <tbody>\n",
       "    <tr>\n",
       "      <th>252</th>\n",
       "      <td>F2Z20</td>\n",
       "      <td>Ouvriers non qualifiés du travail du bois et d...</td>\n",
       "      <td>B1806</td>\n",
       "      <td>Tapisserie - décoration en ameublement</td>\n",
       "      <td>2</td>\n",
       "      <td></td>\n",
       "      <td>failed</td>\n",
       "      <td>0</td>\n",
       "      <td>0</td>\n",
       "      <td>0.0</td>\n",
       "      <td></td>\n",
       "    </tr>\n",
       "    <tr>\n",
       "      <th>258</th>\n",
       "      <td>F3Z40</td>\n",
       "      <td>Artisans du travail du bois et de l'ameublemen...</td>\n",
       "      <td>B1806</td>\n",
       "      <td>Tapisserie - décoration en ameublement</td>\n",
       "      <td>2</td>\n",
       "      <td></td>\n",
       "      <td>failed</td>\n",
       "      <td>0</td>\n",
       "      <td>0</td>\n",
       "      <td>0.0</td>\n",
       "      <td></td>\n",
       "    </tr>\n",
       "    <tr>\n",
       "      <th>171</th>\n",
       "      <td>E0Z22</td>\n",
       "      <td>Ouvriers non qualifiés en métallurgie, verre, ...</td>\n",
       "      <td>F1706</td>\n",
       "      <td>Préfabrication en béton industriel</td>\n",
       "      <td>2</td>\n",
       "      <td></td>\n",
       "      <td>failed</td>\n",
       "      <td>0</td>\n",
       "      <td>0</td>\n",
       "      <td>0.0</td>\n",
       "      <td></td>\n",
       "    </tr>\n",
       "    <tr>\n",
       "      <th>191</th>\n",
       "      <td>E1Z43</td>\n",
       "      <td>Autres ouvriers qualifiés en verre, céramique,...</td>\n",
       "      <td>F1706</td>\n",
       "      <td>Préfabrication en béton industriel</td>\n",
       "      <td>2</td>\n",
       "      <td></td>\n",
       "      <td>failed</td>\n",
       "      <td>0</td>\n",
       "      <td>0</td>\n",
       "      <td>0.0</td>\n",
       "      <td></td>\n",
       "    </tr>\n",
       "  </tbody>\n",
       "</table>\n",
       "</div>"
      ],
      "text/plain": [
       "       fap                                            fap_lab   rome  \\\n",
       "252  F2Z20  Ouvriers non qualifiés du travail du bois et d...  B1806   \n",
       "258  F3Z40  Artisans du travail du bois et de l'ameublemen...  B1806   \n",
       "171  E0Z22  Ouvriers non qualifiés en métallurgie, verre, ...  F1706   \n",
       "191  E1Z43  Autres ouvriers qualifiés en verre, céramique,...  F1706   \n",
       "\n",
       "                                   rome_lab  nb_rome best_faps  method  \\\n",
       "252  Tapisserie - décoration en ameublement        2            failed   \n",
       "258  Tapisserie - décoration en ameublement        2            failed   \n",
       "171      Préfabrication en béton industriel        2            failed   \n",
       "191      Préfabrication en béton industriel        2            failed   \n",
       "\n",
       "    n_branch n_common  corr criterium  \n",
       "252        0        0   0.0            \n",
       "258        0        0   0.0            \n",
       "171        0        0   0.0            \n",
       "191        0        0   0.0            "
      ]
     },
     "execution_count": 7,
     "metadata": {},
     "output_type": "execute_result"
    }
   ],
   "source": [
    "tree.loc[tree.method == 'failed'].sort_values(by='rome')"
   ]
  },
  {
   "cell_type": "markdown",
   "metadata": {},
   "source": [
    "##### Manual choices "
   ]
  },
  {
   "cell_type": "code",
   "execution_count": 8,
   "metadata": {},
   "outputs": [],
   "source": [
    "tree.loc[tree.rome == 'B1806','best_faps'] = 'F3Z40'\n",
    "tree.loc[tree.rome == 'F1706','best_faps'] = 'E0Z22'"
   ]
  },
  {
   "cell_type": "code",
   "execution_count": 9,
   "metadata": {},
   "outputs": [],
   "source": [
    "tree = tree.loc[tree.fap == tree.best_faps].reset_index(drop=True)\n",
    "tree = tree.filter(items=['fap','fap_lab','rome','rome_lab','method','criterium'])"
   ]
  },
  {
   "cell_type": "markdown",
   "metadata": {},
   "source": [
    "Attention: le rome 'L1510' n'est pas dans la table de passage FAP/ROME qui date de 2009 "
   ]
  },
  {
   "cell_type": "code",
   "execution_count": 10,
   "metadata": {},
   "outputs": [],
   "source": [
    "tree.loc[531] = ['U1Z80', 'Professionnels des spectacles', 'L1510', \"Films d'animation et effets spéciaux\", '', '']"
   ]
  },
  {
   "cell_type": "code",
   "execution_count": 16,
   "metadata": {},
   "outputs": [
    {
     "data": {
      "text/html": [
       "<div>\n",
       "<style scoped>\n",
       "    .dataframe tbody tr th:only-of-type {\n",
       "        vertical-align: middle;\n",
       "    }\n",
       "\n",
       "    .dataframe tbody tr th {\n",
       "        vertical-align: top;\n",
       "    }\n",
       "\n",
       "    .dataframe thead th {\n",
       "        text-align: right;\n",
       "    }\n",
       "</style>\n",
       "<table border=\"1\" class=\"dataframe\">\n",
       "  <thead>\n",
       "    <tr style=\"text-align: right;\">\n",
       "      <th></th>\n",
       "      <th>fap</th>\n",
       "      <th>fap_lab</th>\n",
       "      <th>rome</th>\n",
       "      <th>rome_lab</th>\n",
       "      <th>method</th>\n",
       "      <th>criterium</th>\n",
       "    </tr>\n",
       "  </thead>\n",
       "  <tbody>\n",
       "    <tr>\n",
       "      <th>220</th>\n",
       "      <td>J3Z44</td>\n",
       "      <td>Conducteurs sur rails et d'engins de traction</td>\n",
       "      <td>N4402</td>\n",
       "      <td>Exploitation et manœuvre des remontées mécaniques</td>\n",
       "      <td></td>\n",
       "      <td></td>\n",
       "    </tr>\n",
       "  </tbody>\n",
       "</table>\n",
       "</div>"
      ],
      "text/plain": [
       "       fap                                        fap_lab   rome  \\\n",
       "220  J3Z44  Conducteurs sur rails et d'engins de traction  N4402   \n",
       "\n",
       "                                              rome_lab method criterium  \n",
       "220  Exploitation et manœuvre des remontées mécaniques                   "
      ]
     },
     "execution_count": 16,
     "metadata": {},
     "output_type": "execute_result"
    }
   ],
   "source": [
    "tree.loc[tree.rome == 'N4402']"
   ]
  },
  {
   "cell_type": "code",
   "execution_count": 11,
   "metadata": {},
   "outputs": [],
   "source": [
    "tree.to_csv(\"../bases/fap_rome_correlation.csv\",header=True,index=False)"
   ]
  },
  {
   "cell_type": "code",
   "execution_count": 12,
   "metadata": {},
   "outputs": [],
   "source": [
    "directed_clusters = pd.read_csv('../bases/directed_clusters.csv',header=None,names=['dir_clus','rome'])\n",
    "tree = pd.merge(tree,directed_clusters,how='left',on='rome')\n",
    "tree.dir_clus = tree.dir_clus.apply(lambda x: x[1:])\n",
    "tree = tree.filter(items=['fap','dir_clus','fap_lab','rome','rome_lab']).sort_values(by=['fap','dir_clus','rome'])"
   ]
  },
  {
   "cell_type": "code",
   "execution_count": 126,
   "metadata": {},
   "outputs": [],
   "source": [
    "#undirected_clusters = pd.read_csv('../bases/undirected_clusters.csv',header=None,names=['undir_clus','rome'])\n",
    "#tree = pd.merge(tree,undirected_clusters,how='left',on='rome')\n",
    "#tree.undir_clus = tree.undir_clus.apply(lambda x: x[1:])\n",
    "#tree = tree.filter(items=['fap','dir_clus','undir_clus','fap_lab','rome','rome_lab']).sort_values(by=['fap','dir_clus','undir_clus','rome'])\n"
   ]
  },
  {
   "cell_type": "code",
   "execution_count": 127,
   "metadata": {},
   "outputs": [],
   "source": [
    "tree.to_csv(\"../bases/fap_clusters.csv\",header=True,index=False)"
   ]
  },
  {
   "cell_type": "code",
   "execution_count": 27,
   "metadata": {},
   "outputs": [],
   "source": [
    "faps = tree.fap.unique().tolist()\n",
    "fap_groups = {i:tree.loc[tree.fap == fap, 'rome'].tolist() for i,fap in enumerate(faps)}\n",
    "clusters = tree.dir_clus.unique().tolist()\n",
    "cluster_groups = {i:tree.loc[tree.dir_clus == clus, 'rome'].tolist() for i, clus in enumerate(clusters)}"
   ]
  },
  {
   "cell_type": "markdown",
   "metadata": {},
   "source": [
    "#### Redefine graph at the upper agregation level"
   ]
  },
  {
   "cell_type": "code",
   "execution_count": 35,
   "metadata": {},
   "outputs": [],
   "source": [
    "cluster_graph = {}\n",
    "for i,group in cluster_groups.items(): \n",
    "    cluster_graph[i] = []\n",
    "    for rome in group:\n",
    "        cluster_graph[i] += [j for j, clus in cluster_groups.items() if list(set(clus) & set(graph[rome])) != [] and j != i ]\n",
    "    cluster_graph[i] = list(set(cluster_graph[i]))\n",
    "    \n",
    "fap_graph = {}\n",
    "for i,group in fap_groups.items(): \n",
    "    fap_graph[i] = []\n",
    "    for rome in group:\n",
    "        fap_graph[i] += [j for j, fap in fap_groups.items() if list(set(fap) & set(graph[rome])) != [] and j != i ]\n",
    "    fap_graph[i] = list(set(fap_graph[i]))\n",
    "        "
   ]
  }
 ],
 "metadata": {
  "kernelspec": {
   "display_name": "Python 3",
   "language": "python",
   "name": "python3"
  },
  "language_info": {
   "codemirror_mode": {
    "name": "ipython",
    "version": 3
   },
   "file_extension": ".py",
   "mimetype": "text/x-python",
   "name": "python",
   "nbconvert_exporter": "python",
   "pygments_lexer": "ipython3",
   "version": "3.7.3"
  }
 },
 "nbformat": 4,
 "nbformat_minor": 2
}
