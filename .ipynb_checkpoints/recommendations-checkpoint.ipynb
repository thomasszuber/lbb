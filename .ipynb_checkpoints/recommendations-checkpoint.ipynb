{
 "cells": [
  {
   "cell_type": "code",
   "execution_count": 1,
   "metadata": {},
   "outputs": [],
   "source": [
    "import numpy as np\n",
    "import pandas as pd \n",
    "import networkx as nx\n",
    "import numpy.random as rd\n",
    "from scipy.optimize import minimize \n",
    "import statsmodels.formula.api as sm\n",
    "import itertools as it\n",
    "import pandas as pd\n",
    "import shelve\n",
    "import matplotlib.pyplot as plt \n",
    "%matplotlib inline "
   ]
  },
  {
   "cell_type": "code",
   "execution_count": 2,
   "metadata": {},
   "outputs": [
    {
     "data": {
      "text/plain": [
       "<matplotlib.legend.Legend at 0x1a1b936e48>"
      ]
     },
     "execution_count": 2,
     "metadata": {},
     "output_type": "execute_result"
    },
    {
     "data": {
      "image/png": "[encoded data removed]",
      "text/plain": [
       "<Figure size 432x288 with 1 Axes>"
      ]
     },
     "metadata": {
      "needs_background": "light"
     },
     "output_type": "display_data"
    }
   ],
   "source": [
    "x = np.linspace(0.01,5,100)\n",
    "fig, ax = plt.subplots()\n",
    "h = 10\n",
    "H = ((h-1)/(h+1))**(-1/h)\n",
    "for a,c in [(0.5,'orange'),(1,'red'),(1.5,'darkblue')]:\n",
    "    y1 = (x/(H*a*1))**(-h)/((x/(H*a*1))**(-h)+1)\n",
    "    ax.plot(x, y1, linewidth=2,label=f'{a}',color=c,alpha=0.7)\n",
    "    plt.axvline(x=a*1,color=c,linestyle='--',alpha=0.5)\n",
    "plt.legend()"
   ]
  },
  {
   "cell_type": "code",
   "execution_count": 2,
   "metadata": {},
   "outputs": [],
   "source": [
    "import rome \n",
    "graph = rome.get_graph()\n",
    "romes = list(graph.keys())"
   ]
  },
  {
   "cell_type": "markdown",
   "metadata": {},
   "source": [
    "DEFINE GRAPH TO CALCULATE OCCUPATIONAL DISTANCES "
   ]
  },
  {
   "cell_type": "code",
   "execution_count": 3,
   "metadata": {},
   "outputs": [],
   "source": [
    "g = nx.Graph()\n",
    "g.add_nodes_from(romes)\n",
    "for rome1 in romes:\n",
    "    current_edges = list(g.edges)\n",
    "    for rome2 in romes:\n",
    "        if (rome2,rome1) not in current_edges and (rome1 in graph[rome2] or rome2 in graph[rome1]):\n",
    "            g.add_edge(rome1,rome2)\n",
    "                "
   ]
  },
  {
   "cell_type": "code",
   "execution_count": 4,
   "metadata": {},
   "outputs": [],
   "source": [
    "def get_distance(romes,g):\n",
    "    distance = {}\n",
    "    for rome in romes:\n",
    "        distance[rome] = {} \n",
    "        for connex in (x for x in romes if x != rome):\n",
    "            try: \n",
    "                distance[rome][connex] = nx.shortest_path_length(g,rome,connex)\n",
    "            except:\n",
    "                distance[rome][connex] = 20\n",
    "        distance[rome][rome] = 0\n",
    "    return distance\n",
    "\n",
    "distance = get_distance(romes,g)"
   ]
  },
  {
   "cell_type": "code",
   "execution_count": 5,
   "metadata": {},
   "outputs": [],
   "source": [
    "isolated = [rome for rome in romes if np.mean([d for connex,d in distance[rome].items() if connex != rome]) >= 15]\n",
    "romes = [rome for rome in romes if rome not in isolated]\n",
    "distance = get_distance(romes,g)"
   ]
  },
  {
   "cell_type": "markdown",
   "metadata": {},
   "source": [
    "DEFINE TYPES"
   ]
  },
  {
   "cell_type": "code",
   "execution_count": 6,
   "metadata": {},
   "outputs": [],
   "source": [
    "class JobSeeker: \n",
    "    def __init__(self,rome,rho,T,bni='.',be='.'):\n",
    "        self.rome = rome \n",
    "        self.rho = rho\n",
    "        self.T = T\n",
    "        self.bni = bni\n",
    "        self.be = be\n",
    "    def theta(self,theta):\n",
    "        self.theta = theta\n",
    "        \n",
    "class Branch: \n",
    "    def __init__(self,rome,rho,m,hirings,siren='.',nb='.',be='.',naf='.'):\n",
    "        self.rho = rho\n",
    "        self.m = m \n",
    "        self.hirings = hirings\n",
    "        self.rome = rome\n",
    "        self.siren = siren\n",
    "        self.nb = nb\n",
    "        self.be = be\n",
    "        self.naf = naf\n",
    "        self.tot_hirings = None \n",
    "    def theta(self,theta):\n",
    "        self.theta = theta     \n",
    "        \n",
    "class Firm: \n",
    "    def __init__(self,branches):\n",
    "        self.rho = branches[0].rho\n",
    "        self.m = branches[0].m \n",
    "        self.branches = branches\n",
    "        self.romes = [b.rome for b in branches]\n",
    "        self.nb_branches = len(branches)\n",
    "        self.tot_hirings = sum([b.hirings for b in branches]) \n",
    "        self.siren = branches[0].siren\n",
    "        self.be = branches[0].be\n",
    "        self.naf = branches[0].naf\n",
    "        \n",
    "    def add_branch(self,branch):\n",
    "        self.branches.append(branch)\n",
    "        self.romes.append(branch.rome)\n",
    "        self.tot_hirings += branch.hirings\n",
    "        self.nb_branches += 1\n",
    "\n",
    "def random_branch(romes,rho,m,mean_hirings,siren='.',nb='.'): \n",
    "    return Branch(rd.choice(romes),rd.choice(rho),m[rd.choice(range(len(m)))],rd.chisquare(mean_hirings),siren=siren,nb=nb)\n",
    "\n",
    "def random_firm(romes,rho,m,max_branches,mean_hirings,siren='.'):\n",
    "    rho_f = rd.choice(rho)\n",
    "    m_f = m[rd.choice(range(len(m)))]\n",
    "    NB = rd.randint(1,high=max_branches)\n",
    "    branches = [random_branch(romes,[rho_f],[m_f],mean_hirings,siren=siren,nb=i) for i in range(NB)]\n",
    "    return Firm(branches) "
   ]
  },
  {
   "cell_type": "markdown",
   "metadata": {},
   "source": [
    "CALCULATE PREDICTED NUMBER OF MATCHES "
   ]
  },
  {
   "cell_type": "code",
   "execution_count": 7,
   "metadata": {},
   "outputs": [],
   "source": [
    "def rho_equiv(mH,mL,b,d):\n",
    "    rhoH = np.round(((1+mH**(-b))/(1+mL**(-b)))**(1/(2*d)),2)\n",
    "    rhoL = np.round(rhoH/2,2)\n",
    "    return rhoH,rhoL\n",
    "\n",
    "def get_D(distance,DE,BRANCHES):\n",
    "    D = np.empty(shape=(len(DE),len(BRANCHES)))\n",
    "    for n,de in enumerate(DE):\n",
    "        for b,branch in enumerate(BRANCHES):\n",
    "            D[n][b] = distance[de.rome][branch.rome]\n",
    "    return D\n",
    "\n",
    "def get_THETA(DE,BRANCHES):\n",
    "    thetas = {rome:{'U':0.0,'V':0.0} for rome in romes}\n",
    "    for de in DE:\n",
    "        thetas[de.rome]['U'] += 1\n",
    "    for branch in BRANCHES: \n",
    "        thetas[branch.rome]['V'] += branch.hirings\n",
    "    return thetas\n",
    "\n",
    "def get_RHO_DE(D,DE,BRANCHES):\n",
    "    RHO_DE = np.transpose(np.repeat([[de.rho for de in DE]],len(BRANCHES),axis=0))**D\n",
    "    return RHO_DE\n",
    "\n",
    "def get_RHO_BRANCHES(D,DE,BRANCHES):\n",
    "    RHO_BRANCHES = np.repeat([[branch.rho for branch in BRANCHES]],len(DE),axis=0)**D\n",
    "    return RHO_BRANCHES\n",
    "\n",
    "def get_T(DE,BRANCHES):\n",
    "    return np.transpose(np.repeat([[de.T for de in DE]],len(BRANCHES),axis=0))\n",
    "\n",
    "def get_H_M(BRANCHES):\n",
    "    H = np.array([branch.hirings for branch in BRANCHES])\n",
    "    M0 = np.array([branch.m[0] for branch in BRANCHES])\n",
    "    M1 = np.array([branch.m[1] for branch in BRANCHES])\n",
    "    return H, M0, M1\n",
    "\n",
    "def get_X(D,DE,BRANCHES):\n",
    "    X = {}\n",
    "    #THETA = get_THETA(DE,BRANCHES)\n",
    "    for n,de in enumerate(DE):\n",
    "        X[n] = np.empty(shape=(3,len(BRANCHES)))\n",
    "        for b,branch in enumerate(BRANCHES):\n",
    "            X[n][0][b] = D[n][b]\n",
    "            X[n][1][b] = branch.rho*de.rho*D[n][b]\n",
    "            X[n][2][b] = branch.m[0] \n",
    "            ##X[n][4][b] = THETA[branch.rome]['U']\n",
    "            #X[n][5][b] = THETA[branch.rome]['V']\n",
    "    return X\n",
    "\n",
    "def interpret(beta):\n",
    "    result = {}\n",
    "    result['d'] = beta[0]\n",
    "    result['rhos*d'] = beta[1]\n",
    "    result['m (F)'] = beta[2]\n",
    "    return result\n",
    "    \n",
    "def get_ALPHA(beta,MAT,DE,BRANCHES,method):\n",
    "    MAT.ALPHA = np.zeros(shape=(len(DE),len(BRANCHES)))\n",
    "    for n,de in enumerate(DE):\n",
    "        MAT.ALPHA[n] = np.exp(beta.dot(MAT.X[n]))\n",
    "        MAT.ALPHA[n] = MAT.ALPHA[n]/np.sum(MAT.ALPHA[n])\n",
    "        if method.correct_alpha == True and (np.isnan(MAT.ALPHA[n]).any() or np.isinf(MAT.ALPHA[n]).any()):\n",
    "            MAT.ALPHA[n] = np.exp(-MAT.D[n])/sum(np.exp(-MAT.D[n]))\n",
    "            #print(f'corrected alpha for DE nb {n}')\n",
    "\n",
    "def get_P(MAT,DE,BRANCHES):\n",
    "    MAT.P = 1 - (1-MAT.ALPHA)**MAT.T\n",
    "\n",
    "def f(x,a,b):\n",
    "    return 1/(1+(x/a)**b)\n",
    "\n",
    "def D2f(x,a,b): \n",
    "    return (b/(a**2))*((x/a)**(b-2))*((b-1)-(b+1)*(x/a)**b)*(f(x,a,b)**3)\n",
    "\n",
    "def get_PI(MAT,DE,BRANCHES,method):\n",
    "    MAT.W = np.sum(MAT.P*MAT.RHO_DE,axis=0)\n",
    "    if method.var == True:\n",
    "        MAT.V = np.sum(MAT.P*MAT.RHO_DE*(1-MAT.P*MAT.RHO_DE),axis=0)\n",
    "        MAT.PI = np.repeat([f(MAT.W,MAT.H*MAT.LOCAL_THETA*MAT.M0,MAT.M1)+0.5*MAT.V*D2f(MAT.W,MAT.H*MAT.LOCAL_THETA*MAT.M0,MAT.M1)],len(DE),axis=0)\n",
    "    elif method.var == False:\n",
    "        MAT.PI = np.repeat([f(MAT.W,MAT.H*MAT.LOCAL_THETA*MAT.M0,MAT.M1)],len(DE),axis=0)   \n",
    "                      \n",
    "def get_matches(beta,MAT,DE,BRANCHES,method):\n",
    "    get_ALPHA(beta,MAT,DE,BRANCHES,method)\n",
    "    get_P(MAT,DE,BRANCHES)\n",
    "    get_PI(MAT,DE,BRANCHES,method)\n",
    "    return np.sum(MAT.RHO_BRANCHES*MAT.PI*MAT.P*MAT.RHO_DE) \n",
    "\n",
    "def prepare_matrices(distance,DE,BRANCHES):\n",
    "    T = get_T(DE,BRANCHES)\n",
    "    H, M0, M1 = get_H_M(BRANCHES)\n",
    "    D = get_D(distance,DE,BRANCHES)\n",
    "    RHO_DE = get_RHO_DE(D,DE,BRANCHES)\n",
    "    RHO_BRANCHES = get_RHO_BRANCHES(D,DE,BRANCHES)\n",
    "    X = get_X(D,DE,BRANCHES)\n",
    "    return D, T, H, M0, M1, RHO_DE, RHO_BRANCHES, X \n",
    "\n",
    "class Matrices: \n",
    "    def __init__(self,distance,DE,BRANCHES):\n",
    "        D, T, H, M0, M1, RHO_DE, RHO_BRANCHES, X = prepare_matrices(distance,DE,BRANCHES)\n",
    "        self.D = D\n",
    "        self.T = T\n",
    "        self.H = H\n",
    "        self.M0 = M0*((M1-1)/(M1+1))**(-1/M1)\n",
    "        self.M1 = M1\n",
    "        self.RHO_DE = RHO_DE\n",
    "        self.RHO_BRANCHES = RHO_BRANCHES\n",
    "        self.X = X\n",
    "        self.theta = sum([de.T for de in DE])/np.sum([b.hirings for b in BRANCHES])\n",
    "        self.ALPHA = np.zeros(shape=(len(DE),len(BRANCHES)))\n",
    "        self.P = np.zeros(shape=(len(DE),len(BRANCHES)))\n",
    "        self.PI = np.zeros(shape=(len(DE),len(BRANCHES)))\n",
    "        self.W = np.zeros(len(BRANCHES))\n",
    "        self.local_theta = {}\n",
    "        \n",
    "        tot = {n:0.0 for n in range(len(DE))}\n",
    "        for branch in BRANCHES:\n",
    "            if branch.rome not in list(self.local_theta.keys()):\n",
    "                self.local_theta[branch.rome] = {'U':0.0,'V':0.0}\n",
    "            self.local_theta[branch.rome]['V'] += branch.hirings\n",
    "        for rome in self.local_theta.keys():\n",
    "            for n,de in enumerate(DE):\n",
    "                tot[n] += de.rho**distance[de.rome][rome]\n",
    "        for rome in self.local_theta.keys():\n",
    "            for n,de in enumerate(DE):\n",
    "                self.local_theta[rome]['U'] += de.T*de.rho**distance[de.rome][rome]/tot[n]\n",
    "            self.local_theta[rome]['theta'] = self.local_theta[rome]['U']/self.local_theta[rome]['V']\n",
    "        \n",
    "        self.LOCAL_THETA = np.zeros(len(BRANCHES))\n",
    "        for b,branch in enumerate(BRANCHES):\n",
    "               self.LOCAL_THETA[b] = self.local_theta[branch.rome]['theta']\n",
    "                \n",
    "        self.REC = np.zeros(shape=(len(DE),len(BRANCHES))) \n",
    "        self.PASS = np.zeros(shape=(len(DE),len(BRANCHES))) \n",
    "                       \n",
    "class Method: \n",
    "    def __init__(self,var=True,opt='Nelder-Mead',correct_alpha=True,draws='recall'):\n",
    "        self.var = var \n",
    "        self.opt = opt \n",
    "        self.correct_alpha = correct_alpha \n",
    "        self.draws = draws"
   ]
  },
  {
   "cell_type": "markdown",
   "metadata": {},
   "source": [
    "DEFINE RECOMMENDATIONS"
   ]
  },
  {
   "cell_type": "code",
   "execution_count": 8,
   "metadata": {},
   "outputs": [],
   "source": [
    "def draws_without_recall(objects,prob,nb_draws):\n",
    "    draws = []\n",
    "    balls = objects\n",
    "    pi = prob\n",
    "    for d in range(nb_draws):\n",
    "        draws += [rd.choice(balls,p=pi)]\n",
    "        pi = [pi[p] for p,b in enumerate(balls) if b != draws[d]]\n",
    "        balls = [b for b in balls if b != draws[d]]\n",
    "        pi = [p/sum(pi) for p in pi]\n",
    "    return draws\n",
    "\n",
    "def recommendations(beta,MAT,DE,BRANCHES,method,seed=123):\n",
    "    rd.seed(seed)\n",
    "    R = {}\n",
    "    get_ALPHA(beta,MAT,DE,BRANCHES,method)\n",
    "    branches = list(range(len(BRANCHES)))\n",
    "    if method.draws == 'norecall':\n",
    "        for n,de in enumerate(DE):\n",
    "            R[n] = draws_without_recall(branches,MAT.ALPHA[n],de.T)\n",
    "    if method.draws == 'rank':\n",
    "        for n,de in enumerate(DE):\n",
    "            R[n] = MAT.ALPHA[n].argsort()[-de.T:][::-1]\n",
    "    if method.draws == 'recall':\n",
    "        for n,de in enumerate(DE):\n",
    "            R[n] = rd.choice(branches,p=MAT.ALPHA[n],size=de.T)\n",
    "    for n,branches in R.items():\n",
    "        for b in branches:\n",
    "            MAT.REC[n][b] = 1\n",
    "    return R\n",
    "\n",
    "def stat_des(R,DE,BRANCHES,m_BB,rho_DE,rho_BB):\n",
    "    \n",
    "    S = {}\n",
    "    \n",
    "    T_BB = {b:0 for b in range(len(BRANCHES))}\n",
    "    for n,r in R.items():\n",
    "        for b in r:\n",
    "            T_BB[b] += 1\n",
    "    \n",
    "    S = {'d_DE':{rho:[0.0,sum([int(de.rho == rho)*de.T for de in DE])] for rho in rho_DE},\n",
    "         'd_BB':{rho:[0.0,sum([int(branch.rho == rho)*T_BB[b] for b,branch in enumerate(BRANCHES)])] for rho in rho_BB},\n",
    "         'nb_BB':{m:[0.0,sum([int(branch.m == m) for branch in BRANCHES])] for m in m_BB}}\n",
    "    \n",
    "    for n,r in R.items():\n",
    "        for b in r:\n",
    "            d = distance[DE[n].rome][BRANCHES[b].rome]\n",
    "            S['d_DE'][DE[n].rho][0] += d/S['d_DE'][DE[n].rho][1]\n",
    "            S['d_BB'][BRANCHES[b].rho][0] += d/S['d_BB'][BRANCHES[b].rho][1]\n",
    "    \n",
    "    for b,T in T_BB.items():\n",
    "        S['nb_BB'][BRANCHES[b].m][0] += T/(BRANCHES[b].hirings*S['nb_BB'][BRANCHES[b].m][1])\n",
    "    \n",
    "    S = {'d_DE':{rho:list(np.round(S['d_DE'][rho],2)) for rho in rho_DE},\n",
    "         'd_BB':{rho:list(np.round(S['d_BB'][rho],2)) for rho in rho_BB},\n",
    "         'nb_BB':{m:list(np.round(S['nb_BB'][m],2)) for m in m_BB}}\n",
    "    \n",
    "    return S"
   ]
  },
  {
   "cell_type": "markdown",
   "metadata": {},
   "source": [
    "Simulate for reduced form "
   ]
  },
  {
   "cell_type": "code",
   "execution_count": 9,
   "metadata": {},
   "outputs": [],
   "source": [
    "def simulate_results_pd(out,param=[0.5,0.2,10,3],seed=123):\n",
    "    \n",
    "    rd.seed(seed)\n",
    "    \n",
    "    l = out.shape[0]\n",
    "    \n",
    "    # True Paramaters \n",
    "    \n",
    "    rho_DE, rho_BB, m0, m1 = param \n",
    "                \n",
    "    # Draw applications\n",
    "    \n",
    "    out['pass'] = (rd.uniform(size=l) < out['rec']*rho_DE**out['d'])*1\n",
    "    \n",
    "    # Screening rates for applications\n",
    "    \n",
    "    out['pass'] = f(out['pass'].groupby([out['siret'],out['rome_BB']]).transform('sum')/out['h'],m0,m1)*out['pass']\n",
    "    \n",
    "    # Screen applications \n",
    "    \n",
    "    out['pass'] = (rd.uniform(size=l) < out['pass'])*1\n",
    "    \n",
    "    # Hire screened applications\n",
    "    \n",
    "    out['pass'] = (rd.uniform(size=l) < out['pass']*rho_BB**out['d'])*1\n",
    "    \n",
    "    out['DE_hired'] = (out['pass'].groupby(out['bni']).transform('sum') > 0)*1\n",
    "    \n",
    "    out['BB_hires'] = out['pass'].groupby(out['siret']).transform('sum')/out['tot_h']\n",
    "    \n",
    "def bootstrap_pd(out,nb_iter=100,true_param=[0.7,0.2,10,3],seed=123):\n",
    "\n",
    "    rd.seed(seed)\n",
    "\n",
    "    SEED = rd.randint(1,high=nb_iter*1000,size=nb_iter)\n",
    "\n",
    "    Betas = {'DE':{'T_DE':[],'d_DE':[],'T_DE:d_DE':[]},'BB':{'R':[],'d_BB':[],'R:d_BB':[]}}\n",
    "\n",
    "    for i,seed in enumerate(SEED):\n",
    "    \n",
    "        #print(f'{i} out of {nb_iter} bootstraps')\n",
    "    \n",
    "        simulate_results_pd(out,param=true_param,seed=seed)\n",
    "    \n",
    "        res= sm.ols(formula=\"DE_hired ~ T_DE*d_DE + C(BE_id*rome_DE)\",\n",
    "                     data=out[['bni','DE_hired','T_DE','d_DE','BE_id','rome_DE']].drop_duplicates()).fit()\n",
    "    \n",
    "        Betas['DE']['T_DE'].append(res.params['T_DE'])\n",
    "        Betas['DE']['d_DE'].append(res.params['d_DE'])\n",
    "        Betas['DE']['T_DE:d_DE'].append(res.params['T_DE:d_DE'])\n",
    "        \n",
    "        res = sm.ols(formula=\"BB_hires ~ R*d_BB + C(BE_id*naf)\",\n",
    "                data=out[['bni','BB_hires','R','d_BB','BE_id','naf']].drop_duplicates()).fit() \n",
    "        \n",
    "        Betas['BB']['R'].append(res.params['R'])\n",
    "        Betas['BB']['d_BB'].append(res.params['d_BB'])\n",
    "        Betas['BB']['R:d_BB'].append(res.params['R:d_BB'])\n",
    "    \n",
    "    return Betas"
   ]
  },
  {
   "cell_type": "markdown",
   "metadata": {},
   "source": [
    "Simulate for structural model"
   ]
  },
  {
   "cell_type": "code",
   "execution_count": 10,
   "metadata": {},
   "outputs": [],
   "source": [
    "def simulate_results(RS,MATS,DES,BRANCHESS,param=[0.5,0.2,10,3],seed=123):\n",
    "    \n",
    "    rd.seed(seed)\n",
    "    \n",
    "    # True Paramaters \n",
    "    \n",
    "    rho_DE, rho_BB, m0, m1 = param \n",
    "    \n",
    "    for R,MAT,DE,BRANCHES in zip(RS,MATS,DES,BRANCHESS):\n",
    "    \n",
    "        MAT.RHO_DE = rho_DE**MAT.D\n",
    "    \n",
    "        MAT.RHO_BRANCHES = rho_BB**MAT.D\n",
    "                \n",
    "        # Draw applications\n",
    "    \n",
    "        MAT.PASS = (rd.uniform(size=(len(DE),len(BRANCHES))) < MAT.REC*MAT.RHO_DE)*1\n",
    "    \n",
    "        # Screening rates \n",
    "    \n",
    "        MAT.PASS = np.repeat([f(np.sum(MAT.PASS,axis=0)/MAT.H,m0,m1)],len(DE),axis=0) \n",
    "    \n",
    "        # Screen applications \n",
    "    \n",
    "        MAT.PASS = (rd.uniform(size=(len(DE),len(BRANCHES))) < MAT.PASS)*1\n",
    "    \n",
    "        # Hire screened applications \n",
    "    \n",
    "        MAT.PASS = (rd.uniform(size=(len(DE),len(BRANCHES))) < MAT.PASS*MAT.RHO_BRANCHES)*1  \n",
    "        \n",
    "def likelihood(MATS,param=[0.5,0.5,1,3]):\n",
    "    \n",
    "    l = 0\n",
    "    \n",
    "    rho_DE, rho_BB, m0, m1= param \n",
    "    \n",
    "    for MAT in MATS:\n",
    "        \n",
    "        nDE = MAT.D.shape[0]\n",
    "        \n",
    "        MAT.RHO_DE = rho_DE**MAT.D\n",
    "    \n",
    "        MAT.RHO_BRANCHES = rho_BB**MAT.D\n",
    "    \n",
    "        L = MAT.RHO_BRANCHES*np.repeat([f(np.sum(MAT.REC*MAT.RHO_DE,axis=0)/MAT.H,m0,m1)],nDE,axis=0)*MAT.RHO_DE\n",
    "    \n",
    "        l += np.sum(0.5*MAT.P*((MAT.PASS-L)**2))/np.sum(MAT.P)\n",
    "    \n",
    "    return l \n",
    "\n",
    "def bootstrap(RS,MATS,DES,BRANCHESS,nb_iter = 100,true_param=[0.7,0.2,10,3],seed=123):\n",
    "\n",
    "    rd.seed(seed)\n",
    "\n",
    "    SEED = rd.randint(1,high=nb_iter*1000,size=nb_iter)\n",
    "\n",
    "    bounds = Bounds([0,0,0,1],[1,1,np.inf,np.inf])\n",
    "\n",
    "    beta = {'rho_DE':[],'rho_BB':[],'m0':[],'m1':[]}\n",
    "\n",
    "    for i,seed in enumerate(SEED):\n",
    "    \n",
    "        print(f'{i} out of {nb_iter} bootstraps')\n",
    "    \n",
    "        simulate_results([RS[0]],[MATS[0]],[DES[0]],[BRANCHESS[0]],param=true_param,seed=seed)\n",
    "    \n",
    "        res = minimize(lambda x: likelihood([MATS[0]],x),true_param,bounds=bounds,method='trust-constr')\n",
    "    \n",
    "        beta['rho_DE'].append(res.x[0])\n",
    "    \n",
    "        beta['rho_BB'].append(res.x[1])\n",
    "        \n",
    "        beta['m0'].append(res.x[2])\n",
    "    \n",
    "        beta['m1'].append(res.x[3])\n",
    "        \n",
    "    var = {}\n",
    "    for x,betas in beta.items():\n",
    "        var[x] = np.var(betas)\n",
    "    return beta, var "
   ]
  },
  {
   "cell_type": "code",
   "execution_count": 23,
   "metadata": {},
   "outputs": [],
   "source": [
    "def gen_DE(data,rho_DE,t):\n",
    "    DE = []\n",
    "    for i,row in data.iterrows():\n",
    "        DE.append(JobSeeker(row['rome'],rho_DE[row['rho_DE']],t[row['T_DE']],bni=row['bni'],be=row['BE_id']))\n",
    "    return DE\n",
    "\n",
    "def gen_BB(data,rho_BB,m):\n",
    "    BRANCHES = []\n",
    "    for i,row in data.iterrows():\n",
    "        BRANCHES.append(Branch(row['rome'],rho_BB[row['rho_BB']],m[row['m_BB']],row['h'],siren=row['siret'],be=row['BE_id'],naf=row['codenaf']))\n",
    "    FIRMS = {}\n",
    "    siren = 0 \n",
    "    for branch in BRANCHES:\n",
    "        if siren != branch.siren:\n",
    "            i = 0\n",
    "            branch.nb = i\n",
    "            siren = branch.siren\n",
    "            FIRMS[siren] = Firm([branch])\n",
    "        else:\n",
    "            i += 1 \n",
    "            branch.nb = i\n",
    "            FIRMS[siren].add_branch(branch)\n",
    "    return BRANCHES, FIRMS \n",
    "\n",
    "class Output:\n",
    "    def __init__(self):\n",
    "        self.data = {'bni':[],'rome_DE':[],'siret':[],'naf':[],'rome_BB':[],'h':[], \n",
    "                     'd':[],'rho_DE':[],'T_DE':[],'rec':[],'pi':[],'rho_BB':[],'m_BB':[],'BE_id':[]}\n",
    "    def fill_output(self,RS,MATS,DES,BRANCHESS):\n",
    "        for R,MAT,DE,BRANCHES in zip(RS,MATS,DES,BRANCHESS):\n",
    "            for n,r in R.items():\n",
    "                self.data['bni'] += [DE[n].bni]*len(r)\n",
    "                self.data['rome_DE'] += [DE[n].rome]*len(r)\n",
    "                self.data['rho_DE'] += [DE[n].rho]*len(r)\n",
    "                self.data['T_DE'] += [DE[n].T]*len(r)\n",
    "                self.data['BE_id'] += [DE[n].be]*len(r)\n",
    "                self.data['rec'] += [1]*len(r)\n",
    "                for b in r:\n",
    "                    self.data['siret'].append(BRANCHES[b].siren)\n",
    "                    self.data['rome_BB'].append(BRANCHES[b].rome)\n",
    "                    self.data['d'].append(distance[DE[n].rome][BRANCHES[b].rome])\n",
    "                    self.data['rho_BB'].append(BRANCHES[b].rho)\n",
    "                    self.data['m_BB'].append(BRANCHES[b].m[0])\n",
    "                    self.data['h'].append(BRANCHES[b].hirings) \n",
    "                    self.data['naf'].append(BRANCHES[b].naf)\n",
    "                    self.data['pi'].append(MAT.P[n][b])"
   ]
  },
  {
   "cell_type": "markdown",
   "metadata": {},
   "source": [
    "SIMULATED DATA "
   ]
  },
  {
   "cell_type": "code",
   "execution_count": 12,
   "metadata": {},
   "outputs": [],
   "source": [
    "rd.seed(123)\n",
    "N = 499\n",
    "F = 500\n",
    "max_branches = 2\n",
    "hirings_per_branches = 4.5\n",
    "\n",
    "d, b, mH, mL = 6, 3, 1.5, 0.5\n",
    "rhoH,rhoL = rho_equiv(mH,mL,b,d)\n",
    "m = [(mH,b),(mL,b)]\n",
    "rho_DE =[rhoH,rhoL]\n",
    "rho_BB =[rhoH,rhoL]\n",
    "t = [8,4]\n",
    "\n",
    "DE = [JobSeeker(rd.choice(romes),rd.choice(rho_DE),rd.choice(t),n) for n in range(N)]\n",
    "FIRMS = {f:random_firm(romes,rho_BB,m,max_branches,hirings_per_branches,siren=f) for f in range(F)}\n",
    "BRANCHES = []\n",
    "for firm in FIRMS.values():\n",
    "    BRANCHES = BRANCHES + firm.branches"
   ]
  },
  {
   "cell_type": "code",
   "execution_count": 13,
   "metadata": {},
   "outputs": [],
   "source": [
    "MAT = Matrices(distance,DE,BRANCHES)\n",
    "\n",
    "method = Method(correct_alpha=True,draws='recall',opt='Nelder-Mead')"
   ]
  },
  {
   "cell_type": "code",
   "execution_count": 14,
   "metadata": {
    "scrolled": true
   },
   "outputs": [],
   "source": [
    "res = minimize(lambda beta: -get_matches(beta,MAT,DE,BRANCHES,method),\\\n",
    "               np.array([-1,1,1]),method=method.opt)"
   ]
  },
  {
   "cell_type": "code",
   "execution_count": 15,
   "metadata": {
    "scrolled": false
   },
   "outputs": [
    {
     "data": {
      "text/plain": [
       "({'d': -3.7485369947528637,\n",
       "  'rhos*d': 3.18356616238685,\n",
       "  'm (F)': 1.3865637671234352},\n",
       " True)"
      ]
     },
     "execution_count": 15,
     "metadata": {},
     "output_type": "execute_result"
    }
   ],
   "source": [
    "interpret(res.x),res.success"
   ]
  },
  {
   "cell_type": "code",
   "execution_count": 17,
   "metadata": {},
   "outputs": [],
   "source": [
    "R = recommendations(res.x,MAT,DE,BRANCHES,method)"
   ]
  },
  {
   "cell_type": "code",
   "execution_count": 18,
   "metadata": {},
   "outputs": [
    {
     "data": {
      "text/plain": [
       "{'d_DE': {0.85: [2.85, 1512.0], 0.42: [1.66, 1492.0]},\n",
       " 'd_BB': {0.85: [2.58, 2211.0], 0.42: [1.36, 793.0]},\n",
       " 'nb_BB': {(1.5, 3): [3.75, 257.0], (0.5, 3): [1.08, 243.0]}}"
      ]
     },
     "execution_count": 18,
     "metadata": {},
     "output_type": "execute_result"
    }
   ],
   "source": [
    "stat_des(R,DE,BRANCHES,m,rho_DE,rho_BB)"
   ]
  },
  {
   "cell_type": "markdown",
   "metadata": {},
   "source": [
    "REAL DATA"
   ]
  },
  {
   "cell_type": "code",
   "execution_count": 18,
   "metadata": {},
   "outputs": [],
   "source": [
    "BB_data = pd.read_csv(f\"../bases/treated_BB_test.csv\")\n",
    "BB_data = BB_data.sort_values(by=['BE_id','siret','nb'])\n",
    "BB_data = BB_data.query(f'rome in {romes}')"
   ]
  },
  {
   "cell_type": "code",
   "execution_count": 19,
   "metadata": {},
   "outputs": [],
   "source": [
    "DE_data = pd.read_csv(f\"../bases/treated_DE_test.csv\")\n",
    "DE_data = DE_data.query(f'rome in {romes}')"
   ]
  },
  {
   "cell_type": "code",
   "execution_count": 20,
   "metadata": {},
   "outputs": [],
   "source": [
    "BE = BB_data.BE_id.unique().tolist()\n",
    "BE = BE[0:2]"
   ]
  },
  {
   "cell_type": "code",
   "execution_count": 21,
   "metadata": {},
   "outputs": [],
   "source": [
    "t = [8,4]\n",
    "mH, mL, d = 1.5, 0.5, 6\n",
    "comb = [((rho_equiv(mH,mL,b,d)),(rho_equiv(mH,mL,b,d)),\n",
    "         ((mL,b),(mH,b))) for b in [3,5,8]]"
   ]
  },
  {
   "cell_type": "code",
   "execution_count": 24,
   "metadata": {},
   "outputs": [
    {
     "name": "stdout",
     "output_type": "stream",
     "text": [
      "0 for be = 103\n",
      "0 for be = 2411\n",
      "1 for be = 103\n",
      "1 for be = 2411\n",
      "2 for be = 103\n",
      "2 for be = 2411\n"
     ]
    }
   ],
   "source": [
    "results = {}\n",
    "\n",
    "Beta = {}\n",
    "\n",
    "method = Method(correct_alpha=True,draws='recall',opt='Nelder-Mead',var=True)\n",
    "\n",
    "DES, BRANCHESS, FIRMSS, MATS, RS = [], [], [], [], []\n",
    "\n",
    "for i, (rho_DE, rho_BB, m) in enumerate(comb):\n",
    "    \n",
    "    out = Output()\n",
    "    \n",
    "    results[i] = {}\n",
    "    \n",
    "    results[i]['param'] = comb[i]\n",
    "    \n",
    "    for be in BE:\n",
    "        \n",
    "        print(f'{i} for be = {be}')\n",
    "        \n",
    "        results[i][be] = {}\n",
    "        \n",
    "        DE = gen_DE(DE_data.loc[DE_data.BE_id == be],rho_DE,t)\n",
    "        \n",
    "        DES.append(DE)\n",
    "               \n",
    "        BRANCHES, FIRMS = gen_BB(BB_data.loc[BB_data.BE_id == be],rho_BB,m)\n",
    "        \n",
    "        BRANCHESS.append(BRANCHES)\n",
    "        \n",
    "        FIRMSS.append(FIRMS)\n",
    "        \n",
    "        MAT = Matrices(distance,DE,BRANCHES)\n",
    "        \n",
    "        MATS.append(MAT)\n",
    "\n",
    "        results[i][be]['beta'] = minimize(lambda beta: -get_matches(beta,MAT,DE,BRANCHES,method),\\\n",
    "                        np.array([-1,1,1]),method=method.opt) \n",
    "        \n",
    "        R = recommendations(results[i][be]['beta'].x,MAT,DE,BRANCHES,method)\n",
    "        \n",
    "        RS.append(R) \n",
    "        \n",
    "        #print(stat_des(R,DE,FIRMS,m,rho_DE,rho_BB))\n",
    "        \n",
    "    out.fill_output(RS,MATS,DES,BRANCHESS)\n",
    "    \n",
    "    out = pd.DataFrame(out.data)\n",
    "    \n",
    "    out['d_DE'] = out['d'].groupby(out['bni']).transform('mean')\n",
    "    \n",
    "    out['d_BB'] = out['d'].groupby(out['siret']).transform('mean')\n",
    "    \n",
    "    out['tot_h'] = out['h'].groupby(out['siret']).transform('sum')\n",
    "\n",
    "    out['R'] = out['rec'].groupby(out['siret']).transform('sum')/out['tot_h']\n",
    "    \n",
    "    mean_R = out[['R','siret']].drop_duplicates()['R'].mean()\n",
    "    \n",
    "    Beta[i] = bootstrap_pd(out,nb_iter=100,true_param=[0.5,0.5,10,1.01])\n",
    "    \n",
    "    results[i]['m_BB'] = sm.ols(formula=\"R ~ m_BB + rho_BB + C(BE_id*naf)\", data=out[['siret','R','m_BB','rho_BB','BE_id','naf','tot_h']].drop_duplicates()).fit()\n",
    "    \n",
    "    results[i]['rho_BB'] = sm.ols(formula=\"d ~ rho_BB + m_BB + C(BE_id*naf)\", data=out).fit()\n",
    "    \n",
    "    results[i]['rho_DE'] = sm.ols(formula=\"d ~ rho_DE + T_DE + C(BE_id*rome_DE)\", data=out).fit()\n",
    "    \n",
    "    results[i]['t'] = {v:results[i][v].tvalues[v] for v in ['rho_DE','rho_BB','m_BB']}\n",
    "    \n",
    "    results[i]['R2'] = {v:results[i][v].rsquared for v in ['rho_DE','rho_BB','m_BB']}\n",
    "    \n",
    "    out['R_d'] = out['rec'].groupby([out['siret'],out['d']]).transform('sum')/out['tot_h']\n",
    "    \n",
    "    out['std_d_DE'] = out['d'].groupby([out['BE_id'],out['rome_DE']]).transform('std')\n",
    "    \n",
    "    out['mean_d_DE'] = out['d'].groupby([out['BE_id'],out['rome_DE']]).transform('mean')\n",
    "    \n",
    "    out['std_d_BB'] = out['d'].groupby([out['BE_id'],out['naf']]).transform('std')\n",
    "    \n",
    "    out['mean_d_BB'] = out['d'].groupby([out['BE_id'],out['naf']]).transform('mean')\n",
    "    \n",
    "    out['std_d_BB_within'] = out['d'].groupby([out['BE_id'],out['naf'],out['siret']]).transform('std')\n",
    "    \n",
    "    out['std_R'] = out[['siret','R','BE_id','naf']].drop_duplicates().R.groupby([out['BE_id'],out['naf']]).transform('std')\n",
    "    \n",
    "    out['mean_R'] = out[['siret','R','BE_id','naf']].drop_duplicates().R.groupby([out['BE_id'],out['naf']]).transform('mean')\n",
    "    \n",
    "    out['std_R_d'] = out[['siret','R_d','d','BE_id','naf']].drop_duplicates().R_d.groupby([out['BE_id'],out['naf'],out['d']]).transform('std')\n",
    "\n",
    "    out['mean_R_d'] = out[['siret','R_d','d','BE_id','naf']].drop_duplicates().R_d.groupby([out['BE_id'],out['naf'],out['d']]).transform('mean')\n",
    "    \n",
    "    sum_treat = {'d_DE' : [out[['BE_id','rome_DE','mean_d_DE']].drop_duplicates().mean_d_DE.median(),\n",
    "                         out[['BE_id','rome_DE','std_d_DE']].drop_duplicates().std_d_DE.median()],\n",
    "               'd_BB' : [out[['BE_id','naf','mean_d_BB']].drop_duplicates().mean_d_BB.median(),\n",
    "                         out[['BE_id','naf','std_d_BB']].drop_duplicates().std_d_BB.median()],\n",
    "               'R_bb' : [out[['BE_id','naf','mean_R']].drop_duplicates().mean_R.median(),\n",
    "                         out[['BE_id','naf','std_R']].drop_duplicates().std_R.median()],\n",
    "               'R_bb_d' : [out[['BE_id','naf','d','mean_R_d']].drop_duplicates().groupby(['d']).mean_R_d.median(),\n",
    "                           out[['BE_id','naf','d','std_R_d']].drop_duplicates().groupby(['d']).std_R_d.median()]\n",
    "              }\n",
    "    \n",
    "    results[i]['sum_treat'] = sum_treat"
   ]
  },
  {
   "cell_type": "code",
   "execution_count": null,
   "metadata": {},
   "outputs": [],
   "source": []
  },
  {
   "cell_type": "code",
   "execution_count": 45,
   "metadata": {},
   "outputs": [
    {
     "name": "stdout",
     "output_type": "stream",
     "text": [
      "0 {'rho_DE': 28.93221423000028, 'rho_BB': 16.36156627289, 'm_BB': -0.5191147397491268}\n",
      "1 {'rho_DE': 40.29715007998852, 'rho_BB': 22.83004105410348, 'm_BB': -1.0113968995378078}\n",
      "2 {'rho_DE': 45.96205052669977, 'rho_BB': 25.89410282877108, 'm_BB': -1.159433345109187}\n"
     ]
    }
   ],
   "source": [
    "for i in results.keys():\n",
    "    print(i,results[i]['t'])"
   ]
  },
  {
   "cell_type": "code",
   "execution_count": 46,
   "metadata": {},
   "outputs": [
    {
     "data": {
      "text/plain": [
       "<matplotlib.lines.Line2D at 0x1a33cc2ef0>"
      ]
     },
     "execution_count": 46,
     "metadata": {},
     "output_type": "execute_result"
    },
    {
     "data": {
      "image/png": "[encoded data removed]",
      "text/plain": [
       "<Figure size 432x288 with 1 Axes>"
      ]
     },
     "metadata": {
      "needs_background": "light"
     },
     "output_type": "display_data"
    }
   ],
   "source": [
    "fig, ax = plt.subplots()\n",
    "for i in results.keys():\n",
    "    ax.plot(results[i]['sum_treat']['R_bb_d'][0].index,\n",
    "            results[i]['sum_treat']['R_bb_d'][0], \n",
    "            linewidth=2,\n",
    "            label=f\"slope={results[i]['param'][2][0][1]}\")\n",
    "ax.legend()\n",
    "ax.set_title('Median of within naf mean number of recommendations by distance')\n",
    "plt.axvline(x=d,color='red',linestyle='--',alpha=0.5)"
   ]
  },
  {
   "cell_type": "code",
   "execution_count": 47,
   "metadata": {
    "scrolled": true
   },
   "outputs": [
    {
     "data": {
      "text/plain": [
       "<matplotlib.lines.Line2D at 0x1a27356be0>"
      ]
     },
     "execution_count": 47,
     "metadata": {},
     "output_type": "execute_result"
    },
    {
     "data": {
      "image/png": "[encoded data removed]",
      "text/plain": [
       "<Figure size 432x288 with 1 Axes>"
      ]
     },
     "metadata": {
      "needs_background": "light"
     },
     "output_type": "display_data"
    }
   ],
   "source": [
    "fig, ax = plt.subplots()\n",
    "for i in results.keys():\n",
    "    ax.plot(results[i]['sum_treat']['R_bb_d'][1].index,\n",
    "            results[i]['sum_treat']['R_bb_d'][1], \n",
    "            linewidth=2,\n",
    "            label=f\"slope={results[i]['param'][2][0][1]}\")\n",
    "ax.legend()\n",
    "ax.set_title('Median of within naf var number of recommendations by distance')\n",
    "plt.axvline(x=d,color='red',linestyle='--',alpha=0.5)"
   ]
  },
  {
   "cell_type": "code",
   "execution_count": 28,
   "metadata": {},
   "outputs": [
    {
     "name": "stdout",
     "output_type": "stream",
     "text": [
      "0 103 {'d': -2.9252560374976597, 'rhos*d': 2.8191208431537054, 'm (F)': 1.08360422801313} True\n",
      "1 103 {'d': -2.6120338364300566, 'rhos*d': 1.1735343157680527, 'm (F)': 0.7348750762798923} True\n",
      "2 103 {'d': -2.334366525237433, 'rhos*d': 0.4652017360835701, 'm (F)': 0.5420067829666715} True\n"
     ]
    }
   ],
   "source": [
    "for i in range(len(comb)):\n",
    "    for be in BE[0:1]: \n",
    "        print(i,be,interpret(results[i][be]['beta'].x),results[0][be]['beta'].success)"
   ]
  },
  {
   "cell_type": "code",
   "execution_count": 97,
   "metadata": {},
   "outputs": [],
   "source": [
    "import seaborn as sns"
   ]
  },
  {
   "cell_type": "code",
   "execution_count": null,
   "metadata": {},
   "outputs": [],
   "source": [
    "m_BB = out.m_BB.unique().tolist()\n",
    "fig, ax = plt.subplots(figsize=(11,7))\n",
    "sns.kdeplot(out.query(f'm_BB == {m_BB[1]}')[['siret','R']].drop_duplicates().R, color = 'orange',bw=3,ax=ax,clip=(0,100),shade=True)\n",
    "sns.kdeplot(out.query(f'm_BB == {m_BB[0]}')[['siret','R']].drop_duplicates().R, color = 'darkblue',bw=3,ax=ax,clip=(0,100),shade=True)\n",
    "ax.legend([f'm = {m_BB[1]}',f'm = {m_BB[0]}'])"
   ]
  },
  {
   "cell_type": "code",
   "execution_count": null,
   "metadata": {},
   "outputs": [],
   "source": [
    "rho_BB = out.rho_BB.unique().tolist()\n",
    "fig, ax = plt.subplots(figsize=(11,7))\n",
    "sns.kdeplot(out.query(f'rho_BB == {rho_BB[1]}').d, color = 'darkblue',bw=0.6,ax=ax,clip=(0,10),shade=True)\n",
    "sns.kdeplot(out.query(f'rho_BB == {rho_BB[0]}').d, color = 'orange',bw=0.6,ax=ax,clip=(0,10),shade=True)\n",
    "ax.legend([f'rho = {rho_BB[1]}',f'rho = {rho_BB[0]}'])"
   ]
  },
  {
   "cell_type": "code",
   "execution_count": null,
   "metadata": {},
   "outputs": [],
   "source": [
    "rho_DE = out.rho_DE.unique().tolist()\n",
    "fig, ax = plt.subplots(figsize=(11,7))\n",
    "sns.kdeplot(out.query(f'rho_DE == {rho_DE[1]}').d, color = 'darkblue',bw=0.6,ax=ax,clip=(0,10),shade=True)\n",
    "sns.kdeplot(out.query(f'rho_DE == {rho_DE[0]}').d, color = 'orange',bw=0.6,ax=ax,clip=(0,10),shade=True)\n",
    "ax.legend([f'rho = {rho_DE[1]}',f'rho = {rho_DE[0]}'])"
   ]
  },
  {
   "cell_type": "markdown",
   "metadata": {},
   "source": [
    "SIMULATE RESULTS AND POWER CALCULATIONS"
   ]
  },
  {
   "cell_type": "code",
   "execution_count": 74,
   "metadata": {},
   "outputs": [],
   "source": [
    "from scipy.optimize import Bounds "
   ]
  },
  {
   "cell_type": "code",
   "execution_count": 161,
   "metadata": {},
   "outputs": [
    {
     "data": {
      "text/plain": [
       "(4868, 25)"
      ]
     },
     "execution_count": 161,
     "metadata": {},
     "output_type": "execute_result"
    }
   ],
   "source": [
    "out.shape"
   ]
  },
  {
   "cell_type": "code",
   "execution_count": 164,
   "metadata": {},
   "outputs": [],
   "source": [
    "def simulate_results_pd(out,param=[0.5,0.2,10,3],seed=123):\n",
    "    \n",
    "    rd.seed(seed)\n",
    "    \n",
    "    l = out.shape[0]\n",
    "    \n",
    "    # True Paramaters \n",
    "    \n",
    "    rho_DE, rho_BB, m0, m1 = param \n",
    "                \n",
    "    # Draw applications\n",
    "    \n",
    "    out['pass'] = rho_DE\n",
    "    \n",
    "    out['pass'] = (rd.uniform(l) < out['pass']**out['d'])*1\n",
    "    \n",
    "    # Screening rates for applications\n",
    "    \n",
    "    out['pass'] = f(out['pass'].groupby([out['siret'],out['rome_BB']].transform('sum')/out['h'],m0,m1)*out['pass']\n",
    "    \n",
    "    # Screen applications \n",
    "    \n",
    "    out['pass'] = (rd.uniform(l) < out['pass'])*1\n",
    "    \n",
    "    # Hire screened applications\n",
    "    \n",
    "    out['pass'] = (rd.uniform(l) < out['pass']*rho_BB**out['d'])*1"
   ]
  },
  {
   "cell_type": "code",
   "execution_count": 67,
   "metadata": {},
   "outputs": [],
   "source": [
    "def bootstrap(RS,MATS,DES,BRANCHESS,nb_iter = 100,true_param=[0.7,0.2,10,3],seed=123):\n",
    "\n",
    "    rd.seed(seed)\n",
    "\n",
    "    SEED = rd.randint(1,high=nb_iter*1000,size=nb_iter)\n",
    "\n",
    "    bounds = Bounds([0,0,0,1],[1,1,np.inf,np.inf])\n",
    "\n",
    "    beta = {'rho_DE':[],'rho_BB':[],'m0':[],'m1':[]}\n",
    "\n",
    "    for i,seed in enumerate(SEED):\n",
    "    \n",
    "        print(f'{i} out of {nb_iter} bootstraps')\n",
    "    \n",
    "        simulate_results([RS[0]],[MATS[0]],[DES[0]],[BRANCHESS[0]],param=true_param,seed=seed)\n",
    "    \n",
    "        res = minimize(lambda x: likelihood([MATS[0]],x),true_param,bounds=bounds,method='trust-constr')\n",
    "    \n",
    "        beta['rho_DE'].append(res.x[0])\n",
    "    \n",
    "        beta['rho_BB'].append(res.x[1])\n",
    "        \n",
    "        beta['m0'].append(res.x[2])\n",
    "    \n",
    "        beta['m1'].append(res.x[3])\n",
    "        \n",
    "    var = {}\n",
    "    for x,betas in beta.items():\n",
    "        var[x] = np.var(betas)\n",
    "    return beta, var "
   ]
  },
  {
   "cell_type": "code",
   "execution_count": 281,
   "metadata": {},
   "outputs": [
    {
     "name": "stdout",
     "output_type": "stream",
     "text": [
      "0 for be = 103\n",
      "0 for be = 2411\n",
      "0 for be = 2713\n",
      "0 for be = 4408\n",
      "0 for be = 5321\n",
      "0 for be = 7523\n",
      "0 for be = 7622\n",
      "0 for be = 8451\n",
      "0 for be = 9408\n",
      "0 for be = 9410\n",
      "0 out of 100 bootstraps\n",
      "1 out of 100 bootstraps\n",
      "2 out of 100 bootstraps\n",
      "3 out of 100 bootstraps\n",
      "4 out of 100 bootstraps\n",
      "5 out of 100 bootstraps\n",
      "6 out of 100 bootstraps\n",
      "7 out of 100 bootstraps\n",
      "8 out of 100 bootstraps\n",
      "9 out of 100 bootstraps\n"
     ]
    },
    {
     "name": "stderr",
     "output_type": "stream",
     "text": [
      "/anaconda3/lib/python3.7/site-packages/scipy/optimize/_hessian_update_strategy.py:187: UserWarning: delta_grad == 0.0. Check if the approximated function is linear. If the function is linear better results can be obtained by defining the Hessian as zero instead of using quasi-Newton approximations.\n",
      "  'approximations.', UserWarning)\n",
      "/anaconda3/lib/python3.7/site-packages/scipy/optimize/_hessian_update_strategy.py:187: UserWarning: delta_grad == 0.0. Check if the approximated function is linear. If the function is linear better results can be obtained by defining the Hessian as zero instead of using quasi-Newton approximations.\n",
      "  'approximations.', UserWarning)\n"
     ]
    },
    {
     "name": "stdout",
     "output_type": "stream",
     "text": [
      "10 out of 100 bootstraps\n"
     ]
    },
    {
     "name": "stderr",
     "output_type": "stream",
     "text": [
      "/anaconda3/lib/python3.7/site-packages/scipy/optimize/_hessian_update_strategy.py:187: UserWarning: delta_grad == 0.0. Check if the approximated function is linear. If the function is linear better results can be obtained by defining the Hessian as zero instead of using quasi-Newton approximations.\n",
      "  'approximations.', UserWarning)\n",
      "/anaconda3/lib/python3.7/site-packages/scipy/optimize/_hessian_update_strategy.py:187: UserWarning: delta_grad == 0.0. Check if the approximated function is linear. If the function is linear better results can be obtained by defining the Hessian as zero instead of using quasi-Newton approximations.\n",
      "  'approximations.', UserWarning)\n",
      "/anaconda3/lib/python3.7/site-packages/scipy/optimize/_hessian_update_strategy.py:187: UserWarning: delta_grad == 0.0. Check if the approximated function is linear. If the function is linear better results can be obtained by defining the Hessian as zero instead of using quasi-Newton approximations.\n",
      "  'approximations.', UserWarning)\n",
      "/anaconda3/lib/python3.7/site-packages/scipy/optimize/_hessian_update_strategy.py:187: UserWarning: delta_grad == 0.0. Check if the approximated function is linear. If the function is linear better results can be obtained by defining the Hessian as zero instead of using quasi-Newton approximations.\n",
      "  'approximations.', UserWarning)\n",
      "/anaconda3/lib/python3.7/site-packages/scipy/optimize/_hessian_update_strategy.py:187: UserWarning: delta_grad == 0.0. Check if the approximated function is linear. If the function is linear better results can be obtained by defining the Hessian as zero instead of using quasi-Newton approximations.\n",
      "  'approximations.', UserWarning)\n",
      "/anaconda3/lib/python3.7/site-packages/scipy/optimize/_hessian_update_strategy.py:187: UserWarning: delta_grad == 0.0. Check if the approximated function is linear. If the function is linear better results can be obtained by defining the Hessian as zero instead of using quasi-Newton approximations.\n",
      "  'approximations.', UserWarning)\n",
      "/anaconda3/lib/python3.7/site-packages/scipy/optimize/_hessian_update_strategy.py:187: UserWarning: delta_grad == 0.0. Check if the approximated function is linear. If the function is linear better results can be obtained by defining the Hessian as zero instead of using quasi-Newton approximations.\n",
      "  'approximations.', UserWarning)\n",
      "/anaconda3/lib/python3.7/site-packages/scipy/optimize/_hessian_update_strategy.py:187: UserWarning: delta_grad == 0.0. Check if the approximated function is linear. If the function is linear better results can be obtained by defining the Hessian as zero instead of using quasi-Newton approximations.\n",
      "  'approximations.', UserWarning)\n",
      "/anaconda3/lib/python3.7/site-packages/scipy/optimize/_hessian_update_strategy.py:187: UserWarning: delta_grad == 0.0. Check if the approximated function is linear. If the function is linear better results can be obtained by defining the Hessian as zero instead of using quasi-Newton approximations.\n",
      "  'approximations.', UserWarning)\n",
      "/anaconda3/lib/python3.7/site-packages/scipy/optimize/_hessian_update_strategy.py:187: UserWarning: delta_grad == 0.0. Check if the approximated function is linear. If the function is linear better results can be obtained by defining the Hessian as zero instead of using quasi-Newton approximations.\n",
      "  'approximations.', UserWarning)\n",
      "/anaconda3/lib/python3.7/site-packages/scipy/optimize/_hessian_update_strategy.py:187: UserWarning: delta_grad == 0.0. Check if the approximated function is linear. If the function is linear better results can be obtained by defining the Hessian as zero instead of using quasi-Newton approximations.\n",
      "  'approximations.', UserWarning)\n",
      "/anaconda3/lib/python3.7/site-packages/scipy/optimize/_hessian_update_strategy.py:187: UserWarning: delta_grad == 0.0. Check if the approximated function is linear. If the function is linear better results can be obtained by defining the Hessian as zero instead of using quasi-Newton approximations.\n",
      "  'approximations.', UserWarning)\n",
      "/anaconda3/lib/python3.7/site-packages/scipy/optimize/_hessian_update_strategy.py:187: UserWarning: delta_grad == 0.0. Check if the approximated function is linear. If the function is linear better results can be obtained by defining the Hessian as zero instead of using quasi-Newton approximations.\n",
      "  'approximations.', UserWarning)\n",
      "/anaconda3/lib/python3.7/site-packages/scipy/optimize/_hessian_update_strategy.py:187: UserWarning: delta_grad == 0.0. Check if the approximated function is linear. If the function is linear better results can be obtained by defining the Hessian as zero instead of using quasi-Newton approximations.\n",
      "  'approximations.', UserWarning)\n"
     ]
    },
    {
     "name": "stdout",
     "output_type": "stream",
     "text": [
      "11 out of 100 bootstraps\n"
     ]
    },
    {
     "name": "stderr",
     "output_type": "stream",
     "text": [
      "/anaconda3/lib/python3.7/site-packages/scipy/optimize/_hessian_update_strategy.py:187: UserWarning: delta_grad == 0.0. Check if the approximated function is linear. If the function is linear better results can be obtained by defining the Hessian as zero instead of using quasi-Newton approximations.\n",
      "  'approximations.', UserWarning)\n",
      "/anaconda3/lib/python3.7/site-packages/scipy/optimize/_hessian_update_strategy.py:187: UserWarning: delta_grad == 0.0. Check if the approximated function is linear. If the function is linear better results can be obtained by defining the Hessian as zero instead of using quasi-Newton approximations.\n",
      "  'approximations.', UserWarning)\n"
     ]
    },
    {
     "name": "stdout",
     "output_type": "stream",
     "text": [
      "12 out of 100 bootstraps\n",
      "13 out of 100 bootstraps\n"
     ]
    },
    {
     "name": "stderr",
     "output_type": "stream",
     "text": [
      "/anaconda3/lib/python3.7/site-packages/scipy/optimize/_hessian_update_strategy.py:187: UserWarning: delta_grad == 0.0. Check if the approximated function is linear. If the function is linear better results can be obtained by defining the Hessian as zero instead of using quasi-Newton approximations.\n",
      "  'approximations.', UserWarning)\n"
     ]
    },
    {
     "name": "stdout",
     "output_type": "stream",
     "text": [
      "14 out of 100 bootstraps\n"
     ]
    },
    {
     "name": "stderr",
     "output_type": "stream",
     "text": [
      "/anaconda3/lib/python3.7/site-packages/scipy/optimize/_hessian_update_strategy.py:187: UserWarning: delta_grad == 0.0. Check if the approximated function is linear. If the function is linear better results can be obtained by defining the Hessian as zero instead of using quasi-Newton approximations.\n",
      "  'approximations.', UserWarning)\n"
     ]
    },
    {
     "name": "stdout",
     "output_type": "stream",
     "text": [
      "15 out of 100 bootstraps\n",
      "16 out of 100 bootstraps\n",
      "17 out of 100 bootstraps\n",
      "18 out of 100 bootstraps\n",
      "19 out of 100 bootstraps\n",
      "20 out of 100 bootstraps\n"
     ]
    },
    {
     "name": "stderr",
     "output_type": "stream",
     "text": [
      "/anaconda3/lib/python3.7/site-packages/scipy/optimize/_hessian_update_strategy.py:187: UserWarning: delta_grad == 0.0. Check if the approximated function is linear. If the function is linear better results can be obtained by defining the Hessian as zero instead of using quasi-Newton approximations.\n",
      "  'approximations.', UserWarning)\n"
     ]
    },
    {
     "name": "stdout",
     "output_type": "stream",
     "text": [
      "21 out of 100 bootstraps\n"
     ]
    },
    {
     "name": "stderr",
     "output_type": "stream",
     "text": [
      "/anaconda3/lib/python3.7/site-packages/scipy/optimize/_hessian_update_strategy.py:187: UserWarning: delta_grad == 0.0. Check if the approximated function is linear. If the function is linear better results can be obtained by defining the Hessian as zero instead of using quasi-Newton approximations.\n",
      "  'approximations.', UserWarning)\n"
     ]
    },
    {
     "name": "stdout",
     "output_type": "stream",
     "text": [
      "22 out of 100 bootstraps\n",
      "23 out of 100 bootstraps\n"
     ]
    },
    {
     "name": "stderr",
     "output_type": "stream",
     "text": [
      "/anaconda3/lib/python3.7/site-packages/scipy/optimize/_hessian_update_strategy.py:187: UserWarning: delta_grad == 0.0. Check if the approximated function is linear. If the function is linear better results can be obtained by defining the Hessian as zero instead of using quasi-Newton approximations.\n",
      "  'approximations.', UserWarning)\n",
      "/anaconda3/lib/python3.7/site-packages/scipy/optimize/_hessian_update_strategy.py:187: UserWarning: delta_grad == 0.0. Check if the approximated function is linear. If the function is linear better results can be obtained by defining the Hessian as zero instead of using quasi-Newton approximations.\n",
      "  'approximations.', UserWarning)\n",
      "/anaconda3/lib/python3.7/site-packages/scipy/optimize/_hessian_update_strategy.py:187: UserWarning: delta_grad == 0.0. Check if the approximated function is linear. If the function is linear better results can be obtained by defining the Hessian as zero instead of using quasi-Newton approximations.\n",
      "  'approximations.', UserWarning)\n"
     ]
    },
    {
     "name": "stdout",
     "output_type": "stream",
     "text": [
      "24 out of 100 bootstraps\n",
      "25 out of 100 bootstraps\n"
     ]
    },
    {
     "name": "stderr",
     "output_type": "stream",
     "text": [
      "/anaconda3/lib/python3.7/site-packages/scipy/optimize/_hessian_update_strategy.py:187: UserWarning: delta_grad == 0.0. Check if the approximated function is linear. If the function is linear better results can be obtained by defining the Hessian as zero instead of using quasi-Newton approximations.\n",
      "  'approximations.', UserWarning)\n",
      "/anaconda3/lib/python3.7/site-packages/scipy/optimize/_hessian_update_strategy.py:187: UserWarning: delta_grad == 0.0. Check if the approximated function is linear. If the function is linear better results can be obtained by defining the Hessian as zero instead of using quasi-Newton approximations.\n",
      "  'approximations.', UserWarning)\n",
      "/anaconda3/lib/python3.7/site-packages/scipy/optimize/_hessian_update_strategy.py:187: UserWarning: delta_grad == 0.0. Check if the approximated function is linear. If the function is linear better results can be obtained by defining the Hessian as zero instead of using quasi-Newton approximations.\n",
      "  'approximations.', UserWarning)\n",
      "/anaconda3/lib/python3.7/site-packages/scipy/optimize/_hessian_update_strategy.py:187: UserWarning: delta_grad == 0.0. Check if the approximated function is linear. If the function is linear better results can be obtained by defining the Hessian as zero instead of using quasi-Newton approximations.\n",
      "  'approximations.', UserWarning)\n",
      "/anaconda3/lib/python3.7/site-packages/scipy/optimize/_hessian_update_strategy.py:187: UserWarning: delta_grad == 0.0. Check if the approximated function is linear. If the function is linear better results can be obtained by defining the Hessian as zero instead of using quasi-Newton approximations.\n",
      "  'approximations.', UserWarning)\n",
      "/anaconda3/lib/python3.7/site-packages/scipy/optimize/_hessian_update_strategy.py:187: UserWarning: delta_grad == 0.0. Check if the approximated function is linear. If the function is linear better results can be obtained by defining the Hessian as zero instead of using quasi-Newton approximations.\n",
      "  'approximations.', UserWarning)\n",
      "/anaconda3/lib/python3.7/site-packages/scipy/optimize/_hessian_update_strategy.py:187: UserWarning: delta_grad == 0.0. Check if the approximated function is linear. If the function is linear better results can be obtained by defining the Hessian as zero instead of using quasi-Newton approximations.\n",
      "  'approximations.', UserWarning)\n"
     ]
    },
    {
     "name": "stdout",
     "output_type": "stream",
     "text": [
      "26 out of 100 bootstraps\n"
     ]
    },
    {
     "name": "stderr",
     "output_type": "stream",
     "text": [
      "/anaconda3/lib/python3.7/site-packages/scipy/optimize/_hessian_update_strategy.py:187: UserWarning: delta_grad == 0.0. Check if the approximated function is linear. If the function is linear better results can be obtained by defining the Hessian as zero instead of using quasi-Newton approximations.\n",
      "  'approximations.', UserWarning)\n",
      "/anaconda3/lib/python3.7/site-packages/scipy/optimize/_hessian_update_strategy.py:187: UserWarning: delta_grad == 0.0. Check if the approximated function is linear. If the function is linear better results can be obtained by defining the Hessian as zero instead of using quasi-Newton approximations.\n",
      "  'approximations.', UserWarning)\n",
      "/anaconda3/lib/python3.7/site-packages/scipy/optimize/_hessian_update_strategy.py:187: UserWarning: delta_grad == 0.0. Check if the approximated function is linear. If the function is linear better results can be obtained by defining the Hessian as zero instead of using quasi-Newton approximations.\n",
      "  'approximations.', UserWarning)\n"
     ]
    },
    {
     "name": "stdout",
     "output_type": "stream",
     "text": [
      "27 out of 100 bootstraps\n",
      "28 out of 100 bootstraps\n"
     ]
    },
    {
     "name": "stderr",
     "output_type": "stream",
     "text": [
      "/anaconda3/lib/python3.7/site-packages/scipy/optimize/_hessian_update_strategy.py:187: UserWarning: delta_grad == 0.0. Check if the approximated function is linear. If the function is linear better results can be obtained by defining the Hessian as zero instead of using quasi-Newton approximations.\n",
      "  'approximations.', UserWarning)\n"
     ]
    },
    {
     "name": "stdout",
     "output_type": "stream",
     "text": [
      "29 out of 100 bootstraps\n",
      "30 out of 100 bootstraps\n",
      "31 out of 100 bootstraps\n"
     ]
    },
    {
     "name": "stderr",
     "output_type": "stream",
     "text": [
      "/anaconda3/lib/python3.7/site-packages/scipy/optimize/_hessian_update_strategy.py:187: UserWarning: delta_grad == 0.0. Check if the approximated function is linear. If the function is linear better results can be obtained by defining the Hessian as zero instead of using quasi-Newton approximations.\n",
      "  'approximations.', UserWarning)\n"
     ]
    },
    {
     "name": "stdout",
     "output_type": "stream",
     "text": [
      "32 out of 100 bootstraps\n"
     ]
    },
    {
     "name": "stderr",
     "output_type": "stream",
     "text": [
      "/anaconda3/lib/python3.7/site-packages/scipy/optimize/_hessian_update_strategy.py:187: UserWarning: delta_grad == 0.0. Check if the approximated function is linear. If the function is linear better results can be obtained by defining the Hessian as zero instead of using quasi-Newton approximations.\n",
      "  'approximations.', UserWarning)\n"
     ]
    },
    {
     "name": "stdout",
     "output_type": "stream",
     "text": [
      "33 out of 100 bootstraps\n",
      "34 out of 100 bootstraps\n",
      "35 out of 100 bootstraps\n"
     ]
    },
    {
     "name": "stderr",
     "output_type": "stream",
     "text": [
      "/anaconda3/lib/python3.7/site-packages/scipy/optimize/_hessian_update_strategy.py:187: UserWarning: delta_grad == 0.0. Check if the approximated function is linear. If the function is linear better results can be obtained by defining the Hessian as zero instead of using quasi-Newton approximations.\n",
      "  'approximations.', UserWarning)\n"
     ]
    },
    {
     "name": "stdout",
     "output_type": "stream",
     "text": [
      "36 out of 100 bootstraps\n",
      "37 out of 100 bootstraps\n",
      "38 out of 100 bootstraps\n"
     ]
    },
    {
     "name": "stderr",
     "output_type": "stream",
     "text": [
      "/anaconda3/lib/python3.7/site-packages/scipy/optimize/_hessian_update_strategy.py:187: UserWarning: delta_grad == 0.0. Check if the approximated function is linear. If the function is linear better results can be obtained by defining the Hessian as zero instead of using quasi-Newton approximations.\n",
      "  'approximations.', UserWarning)\n"
     ]
    },
    {
     "name": "stdout",
     "output_type": "stream",
     "text": [
      "39 out of 100 bootstraps\n",
      "40 out of 100 bootstraps\n"
     ]
    },
    {
     "name": "stderr",
     "output_type": "stream",
     "text": [
      "/anaconda3/lib/python3.7/site-packages/scipy/optimize/_hessian_update_strategy.py:187: UserWarning: delta_grad == 0.0. Check if the approximated function is linear. If the function is linear better results can be obtained by defining the Hessian as zero instead of using quasi-Newton approximations.\n",
      "  'approximations.', UserWarning)\n"
     ]
    },
    {
     "name": "stdout",
     "output_type": "stream",
     "text": [
      "41 out of 100 bootstraps\n",
      "42 out of 100 bootstraps\n",
      "43 out of 100 bootstraps\n",
      "44 out of 100 bootstraps\n",
      "45 out of 100 bootstraps\n",
      "46 out of 100 bootstraps\n"
     ]
    },
    {
     "name": "stderr",
     "output_type": "stream",
     "text": [
      "/anaconda3/lib/python3.7/site-packages/scipy/optimize/_hessian_update_strategy.py:187: UserWarning: delta_grad == 0.0. Check if the approximated function is linear. If the function is linear better results can be obtained by defining the Hessian as zero instead of using quasi-Newton approximations.\n",
      "  'approximations.', UserWarning)\n"
     ]
    },
    {
     "name": "stdout",
     "output_type": "stream",
     "text": [
      "47 out of 100 bootstraps\n",
      "48 out of 100 bootstraps\n",
      "49 out of 100 bootstraps\n"
     ]
    },
    {
     "name": "stderr",
     "output_type": "stream",
     "text": [
      "/anaconda3/lib/python3.7/site-packages/scipy/optimize/_hessian_update_strategy.py:187: UserWarning: delta_grad == 0.0. Check if the approximated function is linear. If the function is linear better results can be obtained by defining the Hessian as zero instead of using quasi-Newton approximations.\n",
      "  'approximations.', UserWarning)\n"
     ]
    },
    {
     "name": "stdout",
     "output_type": "stream",
     "text": [
      "50 out of 100 bootstraps\n",
      "51 out of 100 bootstraps\n"
     ]
    },
    {
     "name": "stderr",
     "output_type": "stream",
     "text": [
      "/anaconda3/lib/python3.7/site-packages/scipy/optimize/_hessian_update_strategy.py:187: UserWarning: delta_grad == 0.0. Check if the approximated function is linear. If the function is linear better results can be obtained by defining the Hessian as zero instead of using quasi-Newton approximations.\n",
      "  'approximations.', UserWarning)\n",
      "/anaconda3/lib/python3.7/site-packages/scipy/optimize/_hessian_update_strategy.py:187: UserWarning: delta_grad == 0.0. Check if the approximated function is linear. If the function is linear better results can be obtained by defining the Hessian as zero instead of using quasi-Newton approximations.\n",
      "  'approximations.', UserWarning)\n",
      "/anaconda3/lib/python3.7/site-packages/scipy/optimize/_hessian_update_strategy.py:187: UserWarning: delta_grad == 0.0. Check if the approximated function is linear. If the function is linear better results can be obtained by defining the Hessian as zero instead of using quasi-Newton approximations.\n",
      "  'approximations.', UserWarning)\n"
     ]
    },
    {
     "name": "stdout",
     "output_type": "stream",
     "text": [
      "52 out of 100 bootstraps\n",
      "53 out of 100 bootstraps\n"
     ]
    },
    {
     "name": "stderr",
     "output_type": "stream",
     "text": [
      "/anaconda3/lib/python3.7/site-packages/scipy/optimize/_hessian_update_strategy.py:187: UserWarning: delta_grad == 0.0. Check if the approximated function is linear. If the function is linear better results can be obtained by defining the Hessian as zero instead of using quasi-Newton approximations.\n",
      "  'approximations.', UserWarning)\n",
      "/anaconda3/lib/python3.7/site-packages/scipy/optimize/_hessian_update_strategy.py:187: UserWarning: delta_grad == 0.0. Check if the approximated function is linear. If the function is linear better results can be obtained by defining the Hessian as zero instead of using quasi-Newton approximations.\n",
      "  'approximations.', UserWarning)\n"
     ]
    },
    {
     "name": "stdout",
     "output_type": "stream",
     "text": [
      "54 out of 100 bootstraps\n"
     ]
    },
    {
     "name": "stderr",
     "output_type": "stream",
     "text": [
      "/anaconda3/lib/python3.7/site-packages/scipy/optimize/_hessian_update_strategy.py:187: UserWarning: delta_grad == 0.0. Check if the approximated function is linear. If the function is linear better results can be obtained by defining the Hessian as zero instead of using quasi-Newton approximations.\n",
      "  'approximations.', UserWarning)\n"
     ]
    },
    {
     "name": "stdout",
     "output_type": "stream",
     "text": [
      "55 out of 100 bootstraps\n",
      "56 out of 100 bootstraps\n"
     ]
    },
    {
     "name": "stderr",
     "output_type": "stream",
     "text": [
      "/anaconda3/lib/python3.7/site-packages/scipy/optimize/_hessian_update_strategy.py:187: UserWarning: delta_grad == 0.0. Check if the approximated function is linear. If the function is linear better results can be obtained by defining the Hessian as zero instead of using quasi-Newton approximations.\n",
      "  'approximations.', UserWarning)\n"
     ]
    },
    {
     "name": "stdout",
     "output_type": "stream",
     "text": [
      "57 out of 100 bootstraps\n",
      "58 out of 100 bootstraps\n",
      "59 out of 100 bootstraps\n"
     ]
    },
    {
     "name": "stderr",
     "output_type": "stream",
     "text": [
      "/anaconda3/lib/python3.7/site-packages/scipy/optimize/_hessian_update_strategy.py:187: UserWarning: delta_grad == 0.0. Check if the approximated function is linear. If the function is linear better results can be obtained by defining the Hessian as zero instead of using quasi-Newton approximations.\n",
      "  'approximations.', UserWarning)\n"
     ]
    },
    {
     "name": "stdout",
     "output_type": "stream",
     "text": [
      "60 out of 100 bootstraps\n",
      "61 out of 100 bootstraps\n"
     ]
    },
    {
     "name": "stderr",
     "output_type": "stream",
     "text": [
      "/anaconda3/lib/python3.7/site-packages/scipy/optimize/_hessian_update_strategy.py:187: UserWarning: delta_grad == 0.0. Check if the approximated function is linear. If the function is linear better results can be obtained by defining the Hessian as zero instead of using quasi-Newton approximations.\n",
      "  'approximations.', UserWarning)\n"
     ]
    },
    {
     "name": "stdout",
     "output_type": "stream",
     "text": [
      "62 out of 100 bootstraps\n"
     ]
    },
    {
     "name": "stderr",
     "output_type": "stream",
     "text": [
      "/anaconda3/lib/python3.7/site-packages/scipy/optimize/_hessian_update_strategy.py:187: UserWarning: delta_grad == 0.0. Check if the approximated function is linear. If the function is linear better results can be obtained by defining the Hessian as zero instead of using quasi-Newton approximations.\n",
      "  'approximations.', UserWarning)\n"
     ]
    },
    {
     "name": "stdout",
     "output_type": "stream",
     "text": [
      "63 out of 100 bootstraps\n"
     ]
    },
    {
     "name": "stderr",
     "output_type": "stream",
     "text": [
      "/anaconda3/lib/python3.7/site-packages/scipy/optimize/_hessian_update_strategy.py:187: UserWarning: delta_grad == 0.0. Check if the approximated function is linear. If the function is linear better results can be obtained by defining the Hessian as zero instead of using quasi-Newton approximations.\n",
      "  'approximations.', UserWarning)\n"
     ]
    },
    {
     "name": "stdout",
     "output_type": "stream",
     "text": [
      "64 out of 100 bootstraps\n",
      "65 out of 100 bootstraps\n",
      "66 out of 100 bootstraps\n"
     ]
    },
    {
     "name": "stderr",
     "output_type": "stream",
     "text": [
      "/anaconda3/lib/python3.7/site-packages/scipy/optimize/_hessian_update_strategy.py:187: UserWarning: delta_grad == 0.0. Check if the approximated function is linear. If the function is linear better results can be obtained by defining the Hessian as zero instead of using quasi-Newton approximations.\n",
      "  'approximations.', UserWarning)\n"
     ]
    },
    {
     "name": "stdout",
     "output_type": "stream",
     "text": [
      "67 out of 100 bootstraps\n",
      "68 out of 100 bootstraps\n"
     ]
    },
    {
     "name": "stderr",
     "output_type": "stream",
     "text": [
      "/anaconda3/lib/python3.7/site-packages/scipy/optimize/_hessian_update_strategy.py:187: UserWarning: delta_grad == 0.0. Check if the approximated function is linear. If the function is linear better results can be obtained by defining the Hessian as zero instead of using quasi-Newton approximations.\n",
      "  'approximations.', UserWarning)\n",
      "/anaconda3/lib/python3.7/site-packages/scipy/optimize/_hessian_update_strategy.py:187: UserWarning: delta_grad == 0.0. Check if the approximated function is linear. If the function is linear better results can be obtained by defining the Hessian as zero instead of using quasi-Newton approximations.\n",
      "  'approximations.', UserWarning)\n",
      "/anaconda3/lib/python3.7/site-packages/scipy/optimize/_hessian_update_strategy.py:187: UserWarning: delta_grad == 0.0. Check if the approximated function is linear. If the function is linear better results can be obtained by defining the Hessian as zero instead of using quasi-Newton approximations.\n",
      "  'approximations.', UserWarning)\n"
     ]
    },
    {
     "name": "stdout",
     "output_type": "stream",
     "text": [
      "69 out of 100 bootstraps\n"
     ]
    },
    {
     "name": "stderr",
     "output_type": "stream",
     "text": [
      "/anaconda3/lib/python3.7/site-packages/scipy/optimize/_hessian_update_strategy.py:187: UserWarning: delta_grad == 0.0. Check if the approximated function is linear. If the function is linear better results can be obtained by defining the Hessian as zero instead of using quasi-Newton approximations.\n",
      "  'approximations.', UserWarning)\n",
      "/anaconda3/lib/python3.7/site-packages/scipy/optimize/_hessian_update_strategy.py:187: UserWarning: delta_grad == 0.0. Check if the approximated function is linear. If the function is linear better results can be obtained by defining the Hessian as zero instead of using quasi-Newton approximations.\n",
      "  'approximations.', UserWarning)\n",
      "/anaconda3/lib/python3.7/site-packages/scipy/optimize/_hessian_update_strategy.py:187: UserWarning: delta_grad == 0.0. Check if the approximated function is linear. If the function is linear better results can be obtained by defining the Hessian as zero instead of using quasi-Newton approximations.\n",
      "  'approximations.', UserWarning)\n"
     ]
    },
    {
     "name": "stdout",
     "output_type": "stream",
     "text": [
      "70 out of 100 bootstraps\n",
      "71 out of 100 bootstraps\n",
      "72 out of 100 bootstraps\n"
     ]
    },
    {
     "name": "stderr",
     "output_type": "stream",
     "text": [
      "/anaconda3/lib/python3.7/site-packages/scipy/optimize/_hessian_update_strategy.py:187: UserWarning: delta_grad == 0.0. Check if the approximated function is linear. If the function is linear better results can be obtained by defining the Hessian as zero instead of using quasi-Newton approximations.\n",
      "  'approximations.', UserWarning)\n"
     ]
    },
    {
     "name": "stdout",
     "output_type": "stream",
     "text": [
      "73 out of 100 bootstraps\n",
      "74 out of 100 bootstraps\n",
      "75 out of 100 bootstraps\n"
     ]
    },
    {
     "name": "stderr",
     "output_type": "stream",
     "text": [
      "/anaconda3/lib/python3.7/site-packages/scipy/optimize/_hessian_update_strategy.py:187: UserWarning: delta_grad == 0.0. Check if the approximated function is linear. If the function is linear better results can be obtained by defining the Hessian as zero instead of using quasi-Newton approximations.\n",
      "  'approximations.', UserWarning)\n",
      "/anaconda3/lib/python3.7/site-packages/scipy/optimize/_hessian_update_strategy.py:187: UserWarning: delta_grad == 0.0. Check if the approximated function is linear. If the function is linear better results can be obtained by defining the Hessian as zero instead of using quasi-Newton approximations.\n",
      "  'approximations.', UserWarning)\n",
      "/anaconda3/lib/python3.7/site-packages/scipy/optimize/_hessian_update_strategy.py:187: UserWarning: delta_grad == 0.0. Check if the approximated function is linear. If the function is linear better results can be obtained by defining the Hessian as zero instead of using quasi-Newton approximations.\n",
      "  'approximations.', UserWarning)\n",
      "/anaconda3/lib/python3.7/site-packages/scipy/optimize/_hessian_update_strategy.py:187: UserWarning: delta_grad == 0.0. Check if the approximated function is linear. If the function is linear better results can be obtained by defining the Hessian as zero instead of using quasi-Newton approximations.\n",
      "  'approximations.', UserWarning)\n",
      "/anaconda3/lib/python3.7/site-packages/scipy/optimize/_hessian_update_strategy.py:187: UserWarning: delta_grad == 0.0. Check if the approximated function is linear. If the function is linear better results can be obtained by defining the Hessian as zero instead of using quasi-Newton approximations.\n",
      "  'approximations.', UserWarning)\n",
      "/anaconda3/lib/python3.7/site-packages/scipy/optimize/_hessian_update_strategy.py:187: UserWarning: delta_grad == 0.0. Check if the approximated function is linear. If the function is linear better results can be obtained by defining the Hessian as zero instead of using quasi-Newton approximations.\n",
      "  'approximations.', UserWarning)\n",
      "/anaconda3/lib/python3.7/site-packages/scipy/optimize/_hessian_update_strategy.py:187: UserWarning: delta_grad == 0.0. Check if the approximated function is linear. If the function is linear better results can be obtained by defining the Hessian as zero instead of using quasi-Newton approximations.\n",
      "  'approximations.', UserWarning)\n",
      "/anaconda3/lib/python3.7/site-packages/scipy/optimize/_hessian_update_strategy.py:187: UserWarning: delta_grad == 0.0. Check if the approximated function is linear. If the function is linear better results can be obtained by defining the Hessian as zero instead of using quasi-Newton approximations.\n",
      "  'approximations.', UserWarning)\n",
      "/anaconda3/lib/python3.7/site-packages/scipy/optimize/_hessian_update_strategy.py:187: UserWarning: delta_grad == 0.0. Check if the approximated function is linear. If the function is linear better results can be obtained by defining the Hessian as zero instead of using quasi-Newton approximations.\n",
      "  'approximations.', UserWarning)\n",
      "/anaconda3/lib/python3.7/site-packages/scipy/optimize/_hessian_update_strategy.py:187: UserWarning: delta_grad == 0.0. Check if the approximated function is linear. If the function is linear better results can be obtained by defining the Hessian as zero instead of using quasi-Newton approximations.\n",
      "  'approximations.', UserWarning)\n",
      "/anaconda3/lib/python3.7/site-packages/scipy/optimize/_hessian_update_strategy.py:187: UserWarning: delta_grad == 0.0. Check if the approximated function is linear. If the function is linear better results can be obtained by defining the Hessian as zero instead of using quasi-Newton approximations.\n",
      "  'approximations.', UserWarning)\n"
     ]
    },
    {
     "name": "stdout",
     "output_type": "stream",
     "text": [
      "76 out of 100 bootstraps\n",
      "77 out of 100 bootstraps\n"
     ]
    },
    {
     "name": "stderr",
     "output_type": "stream",
     "text": [
      "/anaconda3/lib/python3.7/site-packages/scipy/optimize/_hessian_update_strategy.py:187: UserWarning: delta_grad == 0.0. Check if the approximated function is linear. If the function is linear better results can be obtained by defining the Hessian as zero instead of using quasi-Newton approximations.\n",
      "  'approximations.', UserWarning)\n"
     ]
    },
    {
     "name": "stdout",
     "output_type": "stream",
     "text": [
      "78 out of 100 bootstraps\n",
      "79 out of 100 bootstraps\n",
      "80 out of 100 bootstraps\n",
      "81 out of 100 bootstraps\n"
     ]
    },
    {
     "name": "stderr",
     "output_type": "stream",
     "text": [
      "/anaconda3/lib/python3.7/site-packages/scipy/optimize/_hessian_update_strategy.py:187: UserWarning: delta_grad == 0.0. Check if the approximated function is linear. If the function is linear better results can be obtained by defining the Hessian as zero instead of using quasi-Newton approximations.\n",
      "  'approximations.', UserWarning)\n"
     ]
    },
    {
     "name": "stdout",
     "output_type": "stream",
     "text": [
      "82 out of 100 bootstraps\n",
      "83 out of 100 bootstraps\n"
     ]
    },
    {
     "name": "stderr",
     "output_type": "stream",
     "text": [
      "/anaconda3/lib/python3.7/site-packages/scipy/optimize/_hessian_update_strategy.py:187: UserWarning: delta_grad == 0.0. Check if the approximated function is linear. If the function is linear better results can be obtained by defining the Hessian as zero instead of using quasi-Newton approximations.\n",
      "  'approximations.', UserWarning)\n"
     ]
    },
    {
     "name": "stdout",
     "output_type": "stream",
     "text": [
      "84 out of 100 bootstraps\n",
      "85 out of 100 bootstraps\n",
      "86 out of 100 bootstraps\n",
      "87 out of 100 bootstraps\n",
      "88 out of 100 bootstraps\n",
      "89 out of 100 bootstraps\n",
      "90 out of 100 bootstraps\n",
      "91 out of 100 bootstraps\n"
     ]
    },
    {
     "name": "stderr",
     "output_type": "stream",
     "text": [
      "/anaconda3/lib/python3.7/site-packages/scipy/optimize/_hessian_update_strategy.py:187: UserWarning: delta_grad == 0.0. Check if the approximated function is linear. If the function is linear better results can be obtained by defining the Hessian as zero instead of using quasi-Newton approximations.\n",
      "  'approximations.', UserWarning)\n",
      "/anaconda3/lib/python3.7/site-packages/scipy/optimize/_hessian_update_strategy.py:187: UserWarning: delta_grad == 0.0. Check if the approximated function is linear. If the function is linear better results can be obtained by defining the Hessian as zero instead of using quasi-Newton approximations.\n",
      "  'approximations.', UserWarning)\n",
      "/anaconda3/lib/python3.7/site-packages/scipy/optimize/_hessian_update_strategy.py:187: UserWarning: delta_grad == 0.0. Check if the approximated function is linear. If the function is linear better results can be obtained by defining the Hessian as zero instead of using quasi-Newton approximations.\n",
      "  'approximations.', UserWarning)\n"
     ]
    },
    {
     "name": "stdout",
     "output_type": "stream",
     "text": [
      "92 out of 100 bootstraps\n",
      "93 out of 100 bootstraps\n",
      "94 out of 100 bootstraps\n",
      "95 out of 100 bootstraps\n",
      "96 out of 100 bootstraps\n",
      "97 out of 100 bootstraps\n"
     ]
    },
    {
     "name": "stderr",
     "output_type": "stream",
     "text": [
      "/anaconda3/lib/python3.7/site-packages/scipy/optimize/_hessian_update_strategy.py:187: UserWarning: delta_grad == 0.0. Check if the approximated function is linear. If the function is linear better results can be obtained by defining the Hessian as zero instead of using quasi-Newton approximations.\n",
      "  'approximations.', UserWarning)\n",
      "/anaconda3/lib/python3.7/site-packages/scipy/optimize/_hessian_update_strategy.py:187: UserWarning: delta_grad == 0.0. Check if the approximated function is linear. If the function is linear better results can be obtained by defining the Hessian as zero instead of using quasi-Newton approximations.\n",
      "  'approximations.', UserWarning)\n",
      "/anaconda3/lib/python3.7/site-packages/scipy/optimize/_hessian_update_strategy.py:187: UserWarning: delta_grad == 0.0. Check if the approximated function is linear. If the function is linear better results can be obtained by defining the Hessian as zero instead of using quasi-Newton approximations.\n",
      "  'approximations.', UserWarning)\n"
     ]
    },
    {
     "name": "stdout",
     "output_type": "stream",
     "text": [
      "98 out of 100 bootstraps\n",
      "99 out of 100 bootstraps\n"
     ]
    }
   ],
   "source": [
    "rd.seed(123)\n",
    "\n",
    "t = [8,4]\n",
    "\n",
    "mH, mL, d = 1.5, 0.5, 6\n",
    "comb = [((rho_equiv(mH,mL,b,d)),(rho_equiv(mH,mL,b,d)),\n",
    "         ((mL,b),(mH,b))) for b in [10]]\n",
    "\n",
    "method = Method(correct_alpha=True,draws='recall',opt='Nelder-Mead',var=True)\n",
    "\n",
    "DES, BRANCHESS, MATS, RS = [], [], [], []\n",
    "\n",
    "Betas, Vars = {}, {}\n",
    "\n",
    "SEED = rd.randint(1,high=len(comb)*1000,size=len(comb))\n",
    "\n",
    "for i, (rho_DE, rho_BB, m) in enumerate(comb):\n",
    "    \n",
    "    for be in BE:\n",
    "        \n",
    "        print(f'{i} for be = {be}')\n",
    "        \n",
    "        DE = gen_DE(DE_data.loc[DE_data.BE_id == be],rho_DE,t)\n",
    "        \n",
    "        DES.append(DE)\n",
    "               \n",
    "        BRANCHES, FIRMS = gen_BB(BB_data.loc[BB_data.BE_id == be],rho_BB,m)\n",
    "        \n",
    "        BRANCHESS.append(BRANCHES)\n",
    "        \n",
    "        MAT = Matrices(distance,DE,BRANCHES)\n",
    "        \n",
    "        MATS.append(MAT)\n",
    "\n",
    "        res = minimize(lambda beta: -get_matches(beta,MAT,DE,BRANCHES,method),\\\n",
    "                        np.array([1,1,-1]),method=method.opt) \n",
    "        \n",
    "        R = recommendations(res.x,MAT,DE,BRANCHES,method)\n",
    "        \n",
    "        RS.append(R)\n",
    "\n",
    "    Betas[i], Vars[i] = bootstrap(RS,MATS,DES,BRANCHESS,nb_iter=100,seed=SEED[i])"
   ]
  },
  {
   "cell_type": "code",
   "execution_count": 282,
   "metadata": {},
   "outputs": [
    {
     "data": {
      "text/plain": [
       "<matplotlib.lines.Line2D at 0x1a763a4828>"
      ]
     },
     "execution_count": 282,
     "metadata": {},
     "output_type": "execute_result"
    },
    {
     "data": {
      "image/png": "[encoded data removed]",
      "text/plain": [
       "<Figure size 792x504 with 1 Axes>"
      ]
     },
     "metadata": {
      "needs_background": "light"
     },
     "output_type": "display_data"
    }
   ],
   "source": [
    "fig, ax = plt.subplots(figsize=(11,7))\n",
    "for i,beta in Betas.items():\n",
    "    sns.kdeplot(beta['m0'],bw=2,ax=ax,shade=False,label=f'{comb[i][2][0][1]}')\n",
    "plt.axvline(x=true_param[2],color='black',linestyle='--',alpha=0.5)"
   ]
  }
 ],
 "metadata": {
  "kernelspec": {
   "display_name": "Python 3",
   "language": "python",
   "name": "python3"
  },
  "language_info": {
   "codemirror_mode": {
    "name": "ipython",
    "version": 3
   },
   "file_extension": ".py",
   "mimetype": "text/x-python",
   "name": "python",
   "nbconvert_exporter": "python",
   "pygments_lexer": "ipython3",
   "version": "3.7.3"
  }
 },
 "nbformat": 4,
 "nbformat_minor": 2
}
