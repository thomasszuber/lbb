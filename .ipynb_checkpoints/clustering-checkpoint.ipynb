{
 "cells": [
  {
   "cell_type": "code",
   "execution_count": 1,
   "metadata": {},
   "outputs": [],
   "source": [
    "import numpy as np \n",
    "import pandas as pd\n",
    "import networkx as nx\n",
    "import matplotlib as plt \n",
    "import markov_clustering as mc\n",
    "import random\n",
    "import csv\n",
    "import matplotlib.pyplot as plt\n",
    "%matplotlib inline\n",
    "from itertools import combinations\n",
    "from scipy.stats import describe\n",
    "from collections import Counter"
   ]
  },
  {
   "cell_type": "markdown",
   "metadata": {},
   "source": [
    "**Retrieve graph** "
   ]
  },
  {
   "cell_type": "code",
   "execution_count": 2,
   "metadata": {},
   "outputs": [],
   "source": [
    "%run rome.py\n",
    "romes = list(graph.keys())"
   ]
  },
  {
   "cell_type": "markdown",
   "metadata": {},
   "source": [
    "**Export number of connections by ROME code**"
   ]
  },
  {
   "cell_type": "code",
   "execution_count": 3,
   "metadata": {},
   "outputs": [],
   "source": [
    "connections = {'rome':list(graph.keys()),'connections':[len(connex) for connex in graph.values()]}\n",
    "pd.DataFrame(connections).to_csv('../results/connections.csv',index=False)"
   ]
  },
  {
   "cell_type": "markdown",
   "metadata": {},
   "source": [
    "**Read data for correlations:**"
   ]
  },
  {
   "cell_type": "code",
   "execution_count": 4,
   "metadata": {},
   "outputs": [],
   "source": [
    "data = pd.read_csv(\"../bases/rome_tension.csv\")\n",
    "data = data[['rome5','BE_id','T']]\n",
    "data = data.pivot(index='BE_id',columns='rome5',values='T')\n",
    "data = data.sub(data.mean(axis=1),axis=0)"
   ]
  },
  {
   "cell_type": "markdown",
   "metadata": {},
   "source": [
    "**Define undirected graph**"
   ]
  },
  {
   "cell_type": "code",
   "execution_count": 14,
   "metadata": {},
   "outputs": [],
   "source": [
    "EG = nx.Graph()\n",
    "EG.add_nodes_from(romes)\n",
    "weights = {}\n",
    "edge, noedge = 0, 0\n",
    "for rome1 in romes:\n",
    "    weights[rome1] = {}\n",
    "    s = 0\n",
    "    for rome2 in graph[rome1]:\n",
    "        corr = np.exp(data[rome1].corr(data[rome2]))\n",
    "        weights[rome1][rome2] = corr\n",
    "        s += weights[rome1][rome2]\n",
    "    for rome2 in weights[rome1].keys():\n",
    "        weights[rome1][rome2] =  weights[rome1][rome2]/s\n",
    "\n",
    "for rome1 in romes:\n",
    "    current_edges = list(EG.edges)\n",
    "    for rome2 in weights[rome1].keys():\n",
    "        if rome1 not in weights[rome2].keys(): w = weights[rome1][rome2]/2\n",
    "        if rome1 in weights[rome2].keys(): w = (weights[rome1][rome2]+weights[rome2][rome1])/2\n",
    "        if (rome2,rome1) not in current_edges:\n",
    "                EG.add_edge(rome1,rome2,weight=w)\n",
    "                \n",
    "matrix = nx.adjacency_matrix(EG)"
   ]
  },
  {
   "cell_type": "markdown",
   "metadata": {},
   "source": [
    "**Run MCL algorithm for different inflation parameters:** "
   ]
  },
  {
   "cell_type": "code",
   "execution_count": 15,
   "metadata": {},
   "outputs": [],
   "source": [
    "inflations = [round(1.36 + i/1000,ndigits=3) for i in range(10)]\n",
    "results = {'clusters':{},\n",
    "           'lonely':{},\n",
    "           'mean_size':{},\n",
    "           'median_size':{},\n",
    "           'max_size':{},\n",
    "           'var_size':{},\n",
    "           'average_within':{},\n",
    "           'average_shortest_path':{}}\n",
    "clustered_romes = pd.DataFrame()\n",
    "clustered_romes['rome'] = romes\n",
    "store_CL = {}\n",
    "for inf in inflations:\n",
    "    result = mc.run_mcl(matrix,inflation=inf)\n",
    "    clusters = mc.get_clusters(result)\n",
    "    CL = [[romes[x] for x in c] for c in clusters]\n",
    "    store_CL[inf] = CL \n",
    "    results['clusters'][inf] = len(CL)\n",
    "    results['lonely'][inf] = sum([len(cl) == 1 for cl in CL])\n",
    "    results['mean_size'][inf] = np.mean([len(c) for c in CL])\n",
    "    results['median_size'][inf] = np.median([len(c) for c in CL])\n",
    "    results['max_size'][inf] = np.max([len(c) for c in CL])\n",
    "    results['var_size'][inf] = np.var([len(c) for c in CL])\n",
    "    results['average_within'][inf] = 0\n",
    "    results['average_shortest_path'][inf] = 0\n",
    "    \n",
    "    clusters = []\n",
    "    groups = []\n",
    "    shortest = []\n",
    "    \n",
    "    s = 0\n",
    "    for i, clus in enumerate(CL):\n",
    "        clusters += clus\n",
    "        groups += [i+1]*len(clus)\n",
    "        s += len(clus)\n",
    "        results['average_within'][inf] += data.filter(clus).mean().values.var()/(results['clusters'][inf]-results['lonely'][inf])\n",
    "        n = 0\n",
    "        p = 0\n",
    "        for c in combinations(clus,2):\n",
    "            p += nx.shortest_path_length(EG,c[0],c[1])\n",
    "            n += 1\n",
    "        if n > 0: \n",
    "            shortest +=  [p/n]*len(clus)\n",
    "            results['average_shortest_path'][inf] += (p/n)*len(clus)/len(romes)\n",
    "        else : shortest +=  [0]*len(clus)\n",
    "    tmp = pd.DataFrame()\n",
    "    tmp['rome'] = clusters\n",
    "    tmp[f'group_{inf}'] = groups\n",
    "    tmp[f'shortest_{inf}'] = shortest\n",
    "    tmp = tmp.sort_values('rome')\n",
    "    clustered_romes = pd.merge(clustered_romes,tmp,on='rome',how='right')\n",
    "    for key in ['mean_size','median_size','average_shortest_path','max_size']:\n",
    "        results[key][inf] = round(results[key][inf],ndigits=1)\n",
    "    results['average_within'][inf] = round(results['average_within'][inf],ndigits = 4)\n",
    "    results['lonely'][inf] = results['lonely'][inf]/results['clusters'][inf]\n",
    "    "
   ]
  },
  {
   "cell_type": "markdown",
   "metadata": {},
   "source": [
    "Save descriptive statistics:"
   ]
  },
  {
   "cell_type": "code",
   "execution_count": 16,
   "metadata": {},
   "outputs": [],
   "source": [
    "pd.DataFrame(results).to_latex('../results/mcl_results_exp_fe.tex')"
   ]
  },
  {
   "cell_type": "markdown",
   "metadata": {},
   "source": [
    "Load list of ROME codes: "
   ]
  },
  {
   "cell_type": "code",
   "execution_count": 17,
   "metadata": {},
   "outputs": [],
   "source": [
    "arbo = pd.read_csv(\"../bases/liste_rome.csv\")\n",
    "arbo = arbo.append({'rome':'L1510','label':\"Films d'animation et effets spéciaux\"},ignore_index=True)"
   ]
  },
  {
   "cell_type": "markdown",
   "metadata": {},
   "source": [
    "Add labels:"
   ]
  },
  {
   "cell_type": "code",
   "execution_count": 18,
   "metadata": {},
   "outputs": [],
   "source": [
    "clustered_romes = pd.merge(clustered_romes,arbo,on='rome',how='left')"
   ]
  },
  {
   "cell_type": "markdown",
   "metadata": {},
   "source": [
    "Save full results: "
   ]
  },
  {
   "cell_type": "code",
   "execution_count": 38,
   "metadata": {},
   "outputs": [],
   "source": [
    "for i in inflations: \n",
    "    tmp = clustered_romes.filter(['rome',f'group_{i}',f'shortest_{i}','rome_lab'])\n",
    "    tmp.columns = 'rome', 'group','shortest','rome_lab'\n",
    "    tmp = tmp.sort_values('group').reset_index(drop=True)\n",
    "    tmp = tmp.filter(['rome','group','rome_lab','shortest'])\n",
    "    index = str(i)\n",
    "    index = index.replace('.','_')\n",
    "    tmp.to_csv(f'../results/clustered_romes_{index}_exp_fe.csv',index=False)"
   ]
  },
  {
   "cell_type": "markdown",
   "metadata": {},
   "source": [
    "**SELECT SPECIFICATION AND COMPUTE CONNEX GROUPS**\n",
    "(Select inflation parameter 1.362 to have 100 groups). "
   ]
  },
  {
   "cell_type": "code",
   "execution_count": 5,
   "metadata": {},
   "outputs": [],
   "source": [
    "clustered_romes = pd.read_csv('../results/clustered_romes_1_362_exp_fe.csv')\n",
    "clusters = clustered_romes.group.unique().tolist()\n",
    "clusters = {i:clustered_romes.loc[clustered_romes.group == i, 'rome'].tolist() for i in clusters}"
   ]
  },
  {
   "cell_type": "code",
   "execution_count": 6,
   "metadata": {},
   "outputs": [
    {
     "name": "stdout",
     "output_type": "stream",
     "text": [
      "      rome  group                                           rome_lab  shortest\n",
      "0    E1106      1                   Journalisme et information média  1.800000\n",
      "1    E1108      1                         Traduction, interprétariat  1.800000\n",
      "2    E1103      1                                      Communication  1.800000\n",
      "3    E1401      1            Développement et promotion publicitaire  1.800000\n",
      "4    E1107      1                        Organisation d'événementiel  1.800000\n",
      "5    L1304      2     Réalisation cinématographique et audiovisuelle  2.942857\n",
      "6    E1205      2                Réalisation de contenus multimédias  2.942857\n",
      "7    L1301      2                Mise en scène de spectacles vivants  2.942857\n",
      "8    M1806      2  Expertise et support technique en systèmes d'i...  2.942857\n",
      "9    H1204      2                                  Design industriel  2.942857\n",
      "10   M1810      2  Production et exploitation de systèmes d'infor...  2.942857\n",
      "11   M1801      2           Administration de systèmes d'information  2.942857\n",
      "12   M1803      2               Direction des systèmes d'information  2.942857\n",
      "13   M1804      2     Études et développement de réseaux de télécoms  2.942857\n",
      "14   M1805      2               Études et développement informatique  2.942857\n",
      "15   M1802      2  Conseil et maîtrise d'ouvrage en systèmes d'in...  2.942857\n",
      "16   E1306      2                                          Prépresse  2.942857\n",
      "17   L1510      2               Films d'animation et effets spéciaux  2.942857\n",
      "18   E1102      2                     Écriture d'ouvrages, de livres  2.942857\n",
      "19   E1104      2                 Conception de contenus multimédias  2.942857\n",
      "20   L1303      3            Promotion d'artistes et de spectacles *  1.666667\n",
      "21   E1105      3                             Coordination d'édition  1.666667\n",
      "22   L1302      3  Production et administration spectacle, cinéma...  1.666667\n",
      "23   E1305      3     Préparation et correction en édition et presse  1.666667\n",
      "24   G1202      4      Animation d'activités culturelles ou ludiques  1.866667\n",
      "25   E1101      4                       Animation de site multimédia  1.866667\n",
      "26   M1404      4                   Management et gestion d'enquêtes  1.866667\n",
      "27   K1601      4    Gestion de l'information et de la documentation  1.866667\n",
      "28   C1201      4                      Accueil et services bancaires  1.866667\n",
      "29   D1408      4                           Téléconseil et télévente  1.866667\n",
      "30   J1402      5                                         Diététique  2.615385\n",
      "31   H1302      5  Management et ingénierie Hygiène Sécurité Envi...  2.615385\n",
      "32   I1102      5  Management et ingénierie de maintenance indust...  2.615385\n",
      "33   K2203      5     Management et inspection en propreté de locaux  2.615385\n",
      "34   K2302      5   Management et inspection en environnement urbain  2.615385\n",
      "35   K2306      5        Supervision d'exploitation éco industrielle  2.615385\n",
      "36   H2502      5             Management et ingénierie de production  2.615385\n",
      "37   K2502      5                      Management de sécurité privée  2.615385\n",
      "38   K1704      5                 Management de la sécurité publique  2.615385\n",
      "39   H1502      5      Management et ingénierie qualité industrielle  2.615385\n",
      "40   H1501      5    Direction de laboratoire d'analyse industrielle  2.615385\n",
      "41   M1402      5  Conseil en organisation et management d'entrep...  2.615385\n",
      "42   H1101      5             Assistance et support technique client  2.615385\n",
      "43   K1404      5  Mise en œuvre et pilotage de la politique des ...  2.615385\n",
      "44   I1605      6                                Mécanique de marine  1.600000\n",
      "45   I1103      6    Supervision d'entretien et gestion de véhicules  1.600000\n",
      "46   I1604      6                            Mécanique automobile **  1.600000\n",
      "47   I1607      6  Réparation de cycles, motocycles et motoculteu...  1.600000\n",
      "48   I1603      6  Maintenance d'engins de chantier, de levage, m...  1.600000\n",
      "49   N4104      7                      Courses et livraisons express  1.571429\n",
      "50   G1702      7                                  Personnel du hall  1.571429\n",
      "51   N4105      7  Conduite et livraison par tournées sur courte ...  1.571429\n",
      "52   L1506      7                               Machinerie spectacle  1.571429\n",
      "53   N4103      7          Conduite de transport en commun sur route  1.571429\n",
      "54   N4102      7              Conduite de transport de particuliers  1.571429\n",
      "55   N4101      7  Conduite de transport de marchandises sur long...  1.571429\n",
      "56   N1102      7                                       Déménagement  1.571429\n",
      "57   F1108      8                           Métré de la construction  1.600000\n",
      "58   I1101      8  Direction et ingénierie en entretien infrastru...  1.600000\n",
      "59   H1102      8                Management et ingénierie d'affaires  1.600000\n",
      "60   F1106      8                        Ingénierie et études du BTP  1.600000\n",
      "61   F1101      8                               Architecture du BTP*  1.600000\n",
      "62   H1503      9  Intervention technique en laboratoire d'analys...  1.466667\n",
      "63   H1201      9           Expertise technique couleur en industrie  1.466667\n",
      "64   H1210      9  Intervention technique en études, recherche et...  1.466667\n",
      "65   J1302      9                                 Analyses médicales  1.466667\n",
      "66   H1505      9  Intervention technique en formulation et analy...  1.466667\n",
      "67   H1506      9  Intervention technique qualité en mécanique et...  1.466667\n",
      "68   I1602     10                             Maintenance d'aéronefs  1.933333\n",
      "69   H1504     10  Intervention technique en contrôle essai quali...  1.933333\n",
      "70   I1402     10             Réparation de biens électrodomestiques  1.933333\n",
      "71   I1305     10           Installation et maintenance électronique  1.933333\n",
      "72   H1209     10  Intervention technique en études et développem...  1.933333\n",
      "73   H1208     10  Intervention technique en études et conception...  1.933333\n",
      "74   C1106     11                     Expertise risques en assurance  1.666667\n",
      "75   C1107     11                       Indemnisations en assurances  1.666667\n",
      "76   C1103     11                             Courtage en assurances  1.666667\n",
      "77   C1108     11   Management de groupe et de service en assurances  1.666667\n",
      "78   C1110     11                          Souscription d'assurances  1.666667\n",
      "79   C1104     11             Direction d'exploitation en assurances  1.666667\n",
      "80   C1101     12     Conception développement produits d'assurances  2.022222\n",
      "81   M1702     12                                Analyse de tendance  2.022222\n",
      "82   M1705     12                                          Marketing  2.022222\n",
      "83   M1101     12                                             Achats  2.022222\n",
      "84   E1402     12                          Élaboration de plan média  2.022222\n",
      "85   M1703     12                   Management et gestion de produit  2.022222\n",
      "86   M1707     12                              Stratégie commerciale  2.022222\n",
      "87   C1204     12  Conception et expertise produits bancaires et ...  2.022222\n",
      "88   K2401     12  Recherche en sciences de l'homme et de la société  2.022222\n",
      "89   C1105     12                  Études actuarielles en assurances  2.022222\n",
      "90   K1501     13       Application des règles financières publiques  2.127273\n",
      "91   C1504     13                            Transaction immobilière  2.127273\n",
      "92   D1404     13      Relation commerciale en vente de véhicules **  2.127273\n",
      "93   C1503     13                    Management de projet immobilier  2.127273\n",
      "94   C1502     13                       Gestion locative immobilière  2.127273\n",
      "95   C1501     13                                Gérance immobilière  2.127273\n",
      "96   D1402     13  Relation commerciale grands comptes et entreprise  2.127273\n",
      "97   M1203     13                                       Comptabilité  2.127273\n",
      "98   C1102     13                    Conseil clientèle en assurances  2.127273\n",
      "99   C1203     13                    Relation clients banque/finance  2.127273\n",
      "100  C1206     13                      Gestion de clientèle bancaire  2.127273\n",
      "101  C1109     14                 Rédaction et gestion en assurances  2.066667\n",
      "102  K1901     14                       Aide et médiation judiciaire  2.066667\n",
      "103  K1902     14                            Collaboration juridique  2.066667\n",
      "104  K1903     14                       Défense et conseil juridique  2.066667\n",
      "105  M1608     14                              Secrétariat comptable  2.066667\n",
      "106  M1607     14                                        Secrétariat  2.066667\n",
      "107  E1301     15                  Conduite de machines d'impression  1.619048\n",
      "108  H2802     15  Conduite d'installation de production de matér...  1.619048\n",
      "109  H2803     15      Façonnage et émaillage en industrie céramique  1.619048\n",
      "110  H3301     15           Conduite d'équipement de conditionnement  1.619048\n",
      "111  E1302     15          Conduite de machines de façonnage routage  1.619048\n",
      "112  H3201     15  Conduite d'équipement de formage des plastique...  1.619048\n",
      "113  H3101     15  Conduite d'équipement de fabrication de papier...  1.619048\n",
      "114  J1201     16                                  Biologie médicale  1.388889\n",
      "115  J1202     16                                          Pharmacie  1.388889\n",
      "116  K2402     16  Recherche en sciences de l'univers, de la mati...  1.388889\n",
      "117  K1402     16                        Conseil en Santé Publique *  1.388889\n",
      "118  J1102     16                Médecine généraliste et spécialisée  1.388889\n",
      "119  K2108     16                             Enseignement supérieur  1.388889\n",
      "120  A1504     16                                      Santé animale  1.388889\n",
      "121  J1103     16                                  Médecine dentaire  1.388889\n",
      "122  J1101     16                             Médecine de prévention  1.388889\n",
      "123  H2301     17  Conduite d'équipement de production chimique o...  1.200000\n",
      "124  H2805     17     Pilotage d'installation de production verrière  1.200000\n",
      "125  H2801     17   Conduite d'équipement de transformation du verre  1.200000\n",
      "126  H2701     17  Pilotage d'installation énergétique et pétroch...  1.200000\n",
      "127  H2804     17  Pilotage de centrale à béton prêt à l'emploi, ...  1.200000\n",
      "128  H2404     18  Conduite de machine de production et transform...  1.300000\n",
      "129  H2408     18           Conduite de machine d'impression textile  1.300000\n",
      "130  H2413     18   Préparation de fils, montage de métiers textiles  1.300000\n",
      "131  H2403     18  Conduite de machine de fabrication de produits...  1.300000\n",
      "132  H2405     18          Conduite de machine de textiles nontissés  1.300000\n",
      "133  D1405     19                    Conseil en information médicale  2.288172\n",
      "134  J1104     19         Suivi de la grossesse et de l'accouchement  2.288172\n",
      "135  J1412     19                     Rééducation en psychomotricité  2.288172\n",
      "136  J1407     19                                        Orthoptique  2.288172\n",
      "137  K1103     19  Développement personnel et bien-être de la per...  2.288172\n",
      "138  K1203     19  Encadrement technique en insertion professionn...  2.288172\n",
      "139  K2112     19            Orientation scolaire et professionnelle  2.288172\n",
      "140  K1104     19                                        Psychologie  2.288172\n",
      "141  J1406     19                                        Orthophonie  2.288172\n",
      "142  M1502     19              Développement des ressources humaines  2.288172\n",
      "143  B1401     19  Réalisation d'objets en lianes, fibres et brin...  2.288172\n",
      "144  M1302     19          Direction de petite ou moyenne entreprise  2.288172\n",
      "145  J1506     19                      Soins infirmiers généralistes  2.288172\n",
      "146  K2102     19                           Coordination pédagogique  2.288172\n",
      "147  K2101     19                               Conseil en formation  2.288172\n",
      "148  K1202     19                        Éducation de jeunes enfants  2.288172\n",
      "149  J1507     19       Soins infirmiers spécialisés en puériculture  2.288172\n",
      "150  J1502     19  Coordination de services médicaux ou paramédicaux  2.288172\n",
      "151  K2103     19        Direction d'établissement et d'enseignement  2.288172\n",
      "152  J1503     19         Soins infirmiers spécialisés en anesthésie  2.288172\n",
      "153  J1306     19                                  Imagerie médicale  2.288172\n",
      "154  K1801     19  Conseil en emploi et insertion socioprofession...  2.288172\n",
      "155  J1409     19                             Pédicurie et podologie  2.288172\n",
      "156  J1504     19    Soins infirmiers spécialisés en bloc opératoire  2.288172\n",
      "157  K1403     19  Management de structure de santé, sociale ou p...  2.288172\n",
      "158  J1403     19                                       Ergothérapie  2.288172\n",
      "159  J1505     19         Soins infirmiers spécialisés en prévention  2.288172\n",
      "160  K2111     19                          Formation professionnelle  2.288172\n",
      "161  K2110     19                 Formation en conduite de véhicules  2.288172\n",
      "162  J1408     19                         Ostéopathie et chiropraxie  2.288172\n",
      "163  J1404     19                                     Kinésithérapie  2.288172\n",
      "164  C1401     20                    Gestion en banque et assurances  1.600000\n",
      "165  M1601     20                          Accueil et renseignements  1.600000\n",
      "166  E1307     20                                       Reprographie  1.600000\n",
      "167  M1606     20                                  Saisie de données  1.600000\n",
      "168  M1602     20                         Opérations administratives  1.600000\n",
      "169  M1401     20                                Conduite d'enquêtes  1.600000\n",
      "170  G1206     21                       Personnel technique des jeux  2.290909\n",
      "171  A1204     21                   Protection du patrimoine naturel  2.290909\n",
      "172  N4401     21                        Circulation du réseau ferré  2.290909\n",
      "173  D1508     21                Encadrement du personnel de caisses  2.290909\n",
      "174  N4302     21                  Contrôle des transports en commun  2.290909\n",
      "175  N4402     21  Exploitation et manœuvre des remontées mécaniques  2.290909\n",
      "176  K1707     21                            Surveillance municipale  2.290909\n",
      "177  K1706     21                                  Sécurité publique  2.290909\n",
      "178  G1205     21  Personnel d'attractions ou de structures de lo...  2.290909\n",
      "179  N4301     21                                 Conduite sur rails  2.290909\n",
      "180  K2503     21                   Sécurité et surveillance privées  2.290909\n",
      "181  K1405     22  Représentation de l'État sur le territoire nat...  1.333333\n",
      "182  M1301     22  Direction de grande entreprise ou d'établissem...  1.333333\n",
      "183  M1503     22                 Management des ressources humaines  1.333333\n",
      "184  J1303     23                        Assistance médico-technique  1.666667\n",
      "185  M1609     23  Secrétariat et assistanat médical ou médico-so...  1.666667\n",
      "186  K2603     23                                      Thanatopraxie  1.666667\n",
      "187  K2602     23                     Conseil en services funéraires  1.666667\n",
      "188  K1302     24                        Assistance auprès d'adultes  2.085714\n",
      "189  K1101     24              Accompagnement et médiation familiale  2.085714\n",
      "190  K1207     24                        Intervention socioéducative  2.085714\n",
      "191  K2601     24                   Conduite d'opérations funéraires  2.085714\n",
      "192  K1301     24                        Accompagnement médicosocial  2.085714\n",
      "193  J1304     24                               Aide en puériculture  2.085714\n",
      "194  K1201     24                                     Action sociale  2.085714\n",
      "195  K1303     24                        Assistance auprès d'enfants  2.085714\n",
      "196  K1102     24  Aide aux bénéficiaires d'une mesure de protect...  2.085714\n",
      "197  K1205     24                   Information et médiation sociale  2.085714\n",
      "198  K1204     24                     Facilitation de la vie sociale  2.085714\n",
      "199  J1501     24             Soins d'hygiène, de confort du patient  2.085714\n",
      "200  K1304     24                               Services domestiques  2.085714\n",
      "201  K1305     24                  Intervention sociale et familiale  2.085714\n",
      "202  G1203     24  Animation de loisirs auprès d'enfants ou d'ado...  2.085714\n",
      "203  M1807     25  Exploitation de systèmes de communication et d...  1.600000\n",
      "204  F1605     25            Montage réseaux électriques et télécoms  1.600000\n",
      "205  F1602     25                               Électricité bâtiment  1.600000\n",
      "206  I1307     25  Installation et maintenance télécoms et couran...  1.600000\n",
      "207  I1401     25            Maintenance informatique et bureautique  1.600000\n",
      "208  F1603     26  Installation d'équipements sanitaires et therm...  1.000000\n",
      "209  I1308     26            Maintenance d'installation de chauffage  1.000000\n",
      "210  I1306     26  Installation et maintenance en froid, conditio...  1.000000\n",
      "211  F1608     27                        Pose de revêtements rigides  2.000000\n",
      "212  F1706     27                 Préfabrication en béton industriel  2.000000\n",
      "213  F1701     27                              Construction en béton  2.000000\n",
      "214  F1601     27  Application et décoration en plâtre, stuc et s...  2.000000\n",
      "215  F1611     27             Réalisation et restauration de façades  2.000000\n",
      "216  F1613     27                Travaux d'étanchéité et d'isolation  2.000000\n",
      "217  F1703     27                                         Maçonnerie  2.000000\n",
      "218  F1606     27                               Peinture en bâtiment  2.000000\n",
      "219  F1610     28                Pose et restauration de couvertures  1.619048\n",
      "220  F1607     28                       Pose de fermetures menuisées  1.619048\n",
      "221  F1604     28                              Montage d'agencements  1.619048\n",
      "222  H2201     28                      Assemblage d'ouvrages en bois  1.619048\n",
      "223  F1502     28                  Montage de structures métalliques  1.619048\n",
      "224  F1503     28        Réalisation - installation d'ossatures bois  1.619048\n",
      "225  F1501     28        Montage de structures et de charpentes bois  1.619048\n",
      "226  I1202     29         Entretien et surveillance du tracé routier  1.666667\n",
      "227  I1203     29             Maintenance de bâtiments et des locaux  1.666667\n",
      "228  K2304     29             Revalorisation de produits industriels  1.666667\n",
      "229  K2303     29                      Nettoyage des espaces urbains  1.666667\n",
      "230  K2305     29               Salubrité et traitement de nuisibles  1.666667\n",
      "231  I1201     29           Entretien d'affichage et mobilier urbain  1.666667\n",
      "232  K2301     29               Distribution et assainissement d'eau  1.666667\n",
      "233  K2501     29                              Gardiennage de locaux  1.666667\n",
      "234  F1609     29                        Pose de revêtements souples  1.666667\n",
      "235  B1402     30      Reliure et restauration de livres et archives  0.000000\n",
      "236  F1702     31                    Construction de routes et voies  1.333333\n",
      "237  F1401     31                      Extraction liquide et gazeuse  1.333333\n",
      "238  N4403     31                           Manœuvre du réseau ferré  1.333333\n",
      "239  F1402     31                                  Extraction solide  1.333333\n",
      "240  F1705     31                              Pose de canalisations  1.333333\n",
      "241  F1704     31   Préparation du gros œuvre et des travaux publics  1.333333\n",
      "242  N2205     32   Direction d'escale et exploitation aéroportuaire  1.928571\n",
      "243  N1301     32  Conception et organisation de la chaîne logist...  1.928571\n",
      "244  H1206     32  Management et ingénierie études, recherche et ...  1.928571\n",
      "245  H1401     32  Management et ingénierie gestion industrielle ...  1.928571\n",
      "246  H1402     32  Management et ingénierie méthodes et industria...  1.928571\n",
      "247  N4201     32  Direction d'exploitation des transports routie...  1.928571\n",
      "248  N1302     32                       Direction de site logistique  1.928571\n",
      "249  N4202     32  Direction d'exploitation des transports routie...  1.928571\n",
      "250  N3103     33                                Navigation fluviale  2.895425\n",
      "251  D1204     33    Location de véhicules ou de matériel de loisirs  2.895425\n",
      "252  N3101     33              Encadrement de la navigation maritime  2.895425\n",
      "253  N3102     33                 Équipage de la navigation maritime  2.895425\n",
      "254  K1705     33                         Sécurité civile et secours  2.895425\n",
      "255  N4204     33  Intervention technique d'exploitation des tran...  2.895425\n",
      "256  A1404     33                                        Aquaculture  2.895425\n",
      "257  A1406     33                   Encadrement équipage de la pêche  2.895425\n",
      "258  N1303     33   Intervention technique d'exploitation logistique  2.895425\n",
      "259  J1305     33                   Conduite de véhicules sanitaires  2.895425\n",
      "260  I1502     33                Intervention en milieu subaquatique  2.895425\n",
      "261  N2204     33                               Préparation des vols  2.895425\n",
      "262  A1415     33                               Équipage de la pêche  2.895425\n",
      "263  N3202     33                  Exploitation du transport fluvial  2.895425\n",
      "264  N3201     33  Exploitation des opérations portuaires et du t...  2.895425\n",
      "265  K1701     33                            Personnel de la Défense  2.895425\n",
      "266  N4203     33  Intervention technique d'exploitation des tran...  2.895425\n",
      "267  N1202     33  Gestion des opérations de circulation internat...  2.895425\n",
      "268  N1101     34       Conduite d'engins de déplacement des charges  1.533333\n",
      "269  F1302     34   Conduite d'engins de terrassement et de carrière  1.533333\n",
      "270  N3203     34                              Manutention portuaire  1.533333\n",
      "271  N1104     34  Manœuvre et conduite d'engins lourds de manute...  1.533333\n",
      "272  F1301     34                                   Conduite de grue  1.533333\n",
      "273  N2203     34             Exploitation des pistes aéroportuaires  1.533333\n",
      "274  N2202     35                 Contrôle de la navigation aérienne  0.000000\n",
      "275  G1502     36                  Personnel polyvalent d'hôtellerie  1.476190\n",
      "276  G1503     36                    Management du personnel d'étage  1.476190\n",
      "277  G1101     36                                Accueil touristique  1.476190\n",
      "278  N2101     36                    Navigation commerciale aérienne  1.476190\n",
      "279  N2201     36                   Personnel d'escale aéroportuaire  1.476190\n",
      "280  G1701     36                         Conciergerie en hôtellerie  1.476190\n",
      "281  G1703     36                            Réception en hôtellerie  1.476190\n",
      "282  H2410     37  Mise en forme, repassage et finitions en indus...  1.944444\n",
      "283  H2101     37                    Abattage et découpe des viandes  1.944444\n",
      "284  K2201     37                         Blanchisserie industrielle  1.944444\n",
      "285  H2409     37           Coupe cuir, textile et matériaux souples  1.944444\n",
      "286  H2406     37          Conduite de machine de traitement textile  1.944444\n",
      "287  G1501     37                                  Personnel d'étage  1.944444\n",
      "288  H2415     37        Contrôle en industrie du cuir et du textile  1.944444\n",
      "289  D1205     37             Nettoyage d'articles textiles ou cuirs  1.944444\n",
      "290  H2407     37  Conduite de machine de transformation et de fi...  1.944444\n",
      "291  D1207     38                           Retouches en habillement  1.916667\n",
      "292  H2401     38    Assemblage – montage d'articles en cuirs, peaux  1.916667\n",
      "293  D1206     38  Réparation d'articles en cuir et matériaux sou...  1.916667\n",
      "294  H2411     38     Montage de prototype cuir et matériaux souples  1.916667\n",
      "295  H2402     38  Assemblage – montage de vêtements et produits ...  1.916667\n",
      "296  J1411     38                              Prothèses et orthèses  1.916667\n",
      "297  B1802     38  Réalisation d'articles en cuir et matériaux so...  1.916667\n",
      "298  B1806     38             Tapisserie - décoration en ameublement  1.916667\n",
      "299  J1410     38                                Prothèses dentaires  1.916667\n",
      "300  H2414     39  Préparation et finition d'articles en cuir et ...  0.000000\n",
      "301  H2204     40  Encadrement des industries de l'ameublement et...  1.000000\n",
      "302  H2209     40      Intervention technique en ameublement et bois  1.000000\n",
      "303  B1603     41  Réalisation d'ouvrages en bijouterie, joailler...  2.015152\n",
      "304  A1502     41                                  Podologie animale  2.015152\n",
      "305  B1602     41  Réalisation d'objets artistiques et fonctionne...  2.015152\n",
      "306  B1302     41            Décoration d'objets d'art et artisanaux  2.015152\n",
      "307  B1303     41                                 Gravure - ciselure  2.015152\n",
      "308  B1201     41  Réalisation d'objets décoratifs et utilitaires...  2.015152\n",
      "309  F1612     41                    Taille et décoration de pierres  2.015152\n",
      "310  B1601     41                                   Métallerie d'art  2.015152\n",
      "311  B1501     41  Fabrication et réparation d'instruments de mus...  2.015152\n",
      "312  B1101     41                        Création en arts plastiques  2.015152\n",
      "313  H2208     41          Réalisation d'ouvrages décoratifs en bois  2.015152\n",
      "314  D1201     41  Achat vente d'objets d'art, anciens ou d'occasion  2.015152\n",
      "315  L1401     42                              Sportif professionnel  1.000000\n",
      "316  L1203     42                                     Art dramatique  1.000000\n",
      "317  L1204     42                     Arts du cirque et arts visuels  1.000000\n",
      "318  H3303     43  Préparation de matières et produits industriel...  1.400000\n",
      "319  H2203     43  Conduite d'installation de production de panne...  1.400000\n",
      "320  H3102     43           Conduite d'installation de pâte à papier  1.400000\n",
      "321  H2202     43  Conduite d'équipement de fabrication de l'ameu...  1.400000\n",
      "322  H2205     43            Première transformation de bois d'œuvre  1.400000\n",
      "323  H2207     44                     Réalisation de meubles en bois  0.000000\n",
      "324  H2206     45      Réalisation de menuiserie bois et tonnellerie  1.000000\n",
      "325  D1213     45           Vente en gros de matériel et équipements  1.000000\n",
      "326  I1601     45            Installation et maintenance en nautisme  1.000000\n",
      "327  A1410     46                             Élevage ovin ou caprin  2.285714\n",
      "328  A1407     46                             Élevage bovin ou équin  2.285714\n",
      "329  A1411     46                                     Élevage porcin  2.285714\n",
      "330  A1501     46                             Aide aux soins animaux  2.285714\n",
      "331  A1409     46                     Élevage de lapins et volailles  2.285714\n",
      "332  A1503     46                             Toilettage des animaux  2.285714\n",
      "333  D1507     46                      Mise en rayon libre - service  2.285714\n",
      "334  A1408     46         Élevage d'animaux sauvages ou de compagnie  2.285714\n",
      "335  M1604     47                            Assistanat de direction  1.333333\n",
      "336  M1605     47              Assistanat technique et administratif  1.333333\n",
      "337  M1501     47                  Assistanat en ressources humaines  1.333333\n",
      "338  D1401     47                              Assistanat commercial  1.333333\n",
      "339  L1505     48            Image cinématographique et télévisuelle  0.000000\n",
      "340  L1509     49                                     Régie générale  1.333333\n",
      "341  L1508     49                       Prise de son et sonorisation  1.333333\n",
      "342  L1504     49                                Éclairage spectacle  1.333333\n",
      "343  E1304     50                               Façonnage et routage  1.000000\n",
      "344  N1103     50             Magasinage et préparation de commandes  1.000000\n",
      "345  M1603     50                        Distribution de documents *  1.000000\n",
      "346  H2902     51                            Chaudronnerie - tôlerie  1.300000\n",
      "347  H2911     51              Réalisation de structures métalliques  1.300000\n",
      "348  H2914     51               Réalisation et montage en tuyauterie  1.300000\n",
      "349  H2913     51                                     Soudage manuel  1.300000\n",
      "350  I1606     51                       Réparation de carrosserie **  1.300000\n",
      "351  D1203     52                                      Hydrothérapie  1.700000\n",
      "352  D1202     52                                           Coiffure  1.700000\n",
      "353  D1208     52                     Soins esthétiques et corporels  1.700000\n",
      "354  J1301     52     Personnel polyvalent des services hospitaliers  1.700000\n",
      "355  L1501     52                   Coiffure et maquillage spectacle  1.700000\n",
      "356  D1214     53  Vente en habillement et accessoires de la pers...  1.500000\n",
      "357  B1804     53             Réalisation d'ouvrages d'art en fils *  1.500000\n",
      "358  J1307     53                           Préparation en pharmacie  1.500000\n",
      "359  D1212     53         Vente en décoration et équipement du foyer  1.500000\n",
      "360  D1209     53                                  Vente de végétaux  1.500000\n",
      "361  D1505     53                                Personnel de caisse  1.500000\n",
      "362  D1210     53                                Vente en animalerie  1.500000\n",
      "363  B1801     53              Réalisation d'articles de chapellerie  1.500000\n",
      "364  D1211     53              Vente en articles de sport et loisirs  1.500000\n",
      "365  I1503     54         Intervention en milieux et produits nocifs  0.000000\n",
      "366  I1501     55                     Intervention en grande hauteur  1.333333\n",
      "367  K2204     55                                Nettoyage de locaux  1.333333\n",
      "368  K2202     55                                   Lavage de vitres  1.333333\n",
      "369  A1412     56                Fabrication et affinage de fromages  1.000000\n",
      "370  H2102     56    Conduite d'équipement de production alimentaire  1.000000\n",
      "371  A1413     56               Fermentation de boissons alcoolisées  1.000000\n",
      "372  D1501     57                                 Animation de vente  1.666667\n",
      "373  L1202     57                                   Musique et chant  1.666667\n",
      "374  L1103     57          Présentation de spectacles ou d'émissions  1.666667\n",
      "375  L1101     57                     Animation musicale et scénique  1.666667\n",
      "376  L1102     58                     Mannequinat et pose artistique  0.000000\n",
      "377  K2109     59            Enseignement technique et professionnel  1.166667\n",
      "378  K2104     59  Éducation et surveillance au sein d'établissem...  1.166667\n",
      "379  K2107     59               Enseignement général du second degré  1.166667\n",
      "380  K2106     59                            Enseignement des écoles  1.166667\n",
      "381  K2105     60                            Enseignement artistique  0.000000\n",
      "382  M1706     61                               Promotion des ventes  1.476190\n",
      "383  M1704     61                      Management relation clientèle  1.476190\n",
      "384  D1504     61        Direction de magasin de grande distribution  1.476190\n",
      "385  D1406     61                       Management en force de vente  1.476190\n",
      "386  M1102     61                               Direction des achats  1.476190\n",
      "387  M1701     61                          Administration des ventes  1.476190\n",
      "388  D1509     61   Management de département en grande distribution  1.476190\n",
      "389  D1407     62                      Relation technico-commerciale  1.000000\n",
      "390  N1201     62                              Affrètement transport  1.000000\n",
      "391  D1503     63  Management/gestion de rayon produits non alime...  1.700000\n",
      "392  D1502     63  Management/gestion de rayon produits alimentaires  1.700000\n",
      "393  J1401     63                                     Audioprothèses  1.700000\n",
      "394  D1301     63                    Management de magasin de détail  1.700000\n",
      "395  D1403     63        Relation commerciale auprès de particuliers  1.700000\n",
      "396  F1103     64       Contrôle et diagnostic technique du bâtiment  2.000000\n",
      "397  H1301     64                           Inspection de conformité  2.000000\n",
      "398  H1303     64  Intervention technique en Hygiène Sécurité Env...  2.000000\n",
      "399  F1204     64                Sécurité et protection santé du BTP  2.000000\n",
      "400  M1809     64                         Information météorologique  2.000000\n",
      "401  F1107     64                             Mesures topographiques  2.000000\n",
      "402  M1808     64                           Information géographique  2.000000\n",
      "403  A1401     65  Aide agricole de production fruitière ou viticole  1.000000\n",
      "404  H3302     65  Opérations manuelles d'assemblage, tri ou emba...  1.000000\n",
      "405  A1402     65  Aide agricole de production légumière ou végétale  1.000000\n",
      "406  N1105     65                    Manutention manuelle de charges  1.000000\n",
      "407  D1103     66                             Charcuterie - traiteur  1.972222\n",
      "408  D1101     66                                          Boucherie  1.972222\n",
      "409  G1605     66                             Plonge en restauration  1.972222\n",
      "410  G1602     66                               Personnel de cuisine  1.972222\n",
      "411  D1107     66                    Vente en gros de produits frais  1.972222\n",
      "412  D1106     66                              Vente en alimentation  1.972222\n",
      "413  D1105     66                                       Poissonnerie  1.972222\n",
      "414  G1601     66                 Management du personnel de cuisine  1.972222\n",
      "415  D1104     66   Pâtisserie, confiserie, chocolaterie et glacerie  1.972222\n",
      "416  G1804     67                                        Sommellerie  2.218182\n",
      "417  G1802     67              Management du service en restauration  2.218182\n",
      "418  G1803     67                            Service en restauration  2.218182\n",
      "419  G1402     67                    Management d'hôtel - restaurant  2.218182\n",
      "420  D1102     67                         Boulangerie - viennoiserie  2.218182\n",
      "421  G1403     67  Gestion de structure de loisirs ou d'hébergeme...  2.218182\n",
      "422  G1604     67                    Fabrication de crêpes ou pizzas  2.218182\n",
      "423  G1603     67               Personnel polyvalent en restauration  2.218182\n",
      "424  G1404     67  Management d'établissement de restauration col...  2.218182\n",
      "425  G1801     67                                Café, bar brasserie  2.218182\n",
      "426  G1401     67       Assistance de direction d'hôtel - restaurant  2.218182\n",
      "427  F1201     68                         Conduite de travaux du BTP  1.500000\n",
      "428  F1202     68                       Direction de chantier du BTP  1.500000\n",
      "429  F1105     68                                 Études géologiques  1.500000\n",
      "430  F1203     68  Direction et ingénierie d'exploitation de gise...  1.500000\n",
      "431  M1403     69           Études et prospectives socio-économiques  1.500000\n",
      "432  M1207     69                          Trésorerie et financement  1.500000\n",
      "433  M1201     69                   Analyse et ingénierie financière  1.500000\n",
      "434  C1202     69            Analyse de crédits et risques bancaires  1.500000\n",
      "435  M1206     70       Management de groupe ou de service comptable  1.333333\n",
      "436  M1204     70                                Contrôle de gestion  1.333333\n",
      "437  M1202     70         Audit et contrôle comptables et financiers  1.333333\n",
      "438  M1205     70             Direction administrative et financière  1.333333\n",
      "439  H3202     71  Réglage d'équipement de formage des plastiques...  1.892857\n",
      "440  I1301     71           Installation et maintenance d'ascenseurs  1.892857\n",
      "441  H2901     71               Ajustement et montage de fabrication  1.892857\n",
      "442  B1604     71         Réparation - montage en systèmes horlogers  1.892857\n",
      "443  H2912     71    Réglage d'équipement de production industrielle  1.892857\n",
      "444  I1302     71         Installation et maintenance d'automatismes  1.892857\n",
      "445  I1310     71                 Maintenance mécanique industrielle  1.892857\n",
      "446  I1304     71  Installation et maintenance d'équipements indu...  1.892857\n",
      "447  C1205     72         Conseil en gestion de patrimoine financier  1.333333\n",
      "448  C1301     72                    Front office marchés financiers  1.333333\n",
      "449  C1303     72  Gestion de portefeuilles sur les marchés finan...  1.333333\n",
      "450  C1302     72   Gestion back et middle-office marchés financiers  1.333333\n",
      "451  K1904     73                                       Magistrature  0.000000\n",
      "452  G1102     74                        Promotion du tourisme local  1.800000\n",
      "453  K1802     74                                Développement local  1.800000\n",
      "454  K1602     74                     Gestion de patrimoine culturel  1.800000\n",
      "455  K1206     74                       Intervention socioculturelle  1.800000\n",
      "456  G1301     74                Conception de produits touristiques  1.800000\n",
      "457  G1302     74              Optimisation de produits touristiques  1.800000\n",
      "458  G1303     75                                   Vente de voyages  0.000000\n",
      "459  H2906     76  Conduite d'installation automatisée ou robotis...  1.533333\n",
      "460  H2903     76                    Conduite d'équipement d'usinage  1.533333\n",
      "461  H3403     76                   Conduite de traitement thermique  1.533333\n",
      "462  H2907     76   Conduite d'installation de production des métaux  1.533333\n",
      "463  H3404     76                              Peinture industrielle  1.533333\n",
      "464  H3402     76        Conduite de traitement par dépôt de surface  1.533333\n",
      "465  H3203     76      Fabrication de pièces en matériaux composites  1.533333\n",
      "466  H2904     76    Conduite d'équipement de déformation des métaux  1.533333\n",
      "467  H2905     76  Conduite d'équipement de formage et découpage ...  1.533333\n",
      "468  H3401     76       Conduite de traitement d'abrasion de surface  1.533333\n",
      "469  H2604     77   Montage de produits électriques et électroniques  1.904762\n",
      "470  H2601     77                                Bobinage électrique  1.904762\n",
      "471  H2603     77  Conduite d'installation automatisée de product...  1.904762\n",
      "472  H2909     77                     Montage - assemblage mécanique  1.904762\n",
      "473  H2602     77             Câblage électrique et électromécanique  1.904762\n",
      "474  H2605     77                    Montage et câblage électronique  1.904762\n",
      "475  I1309     77                             Maintenance électrique  1.904762\n",
      "476  N2102     78          Pilotage et navigation technique aérienne  1.333333\n",
      "477  K1703     78             Direction opérationnelle de la défense  1.333333\n",
      "478  K1702     78     Direction de la sécurité civile et des secours  1.333333\n",
      "479  K1505     79  Protection des consommateurs et contrôle des é...  1.666667\n",
      "480  K1504     79            Contrôle et inspection du Trésor Public  1.666667\n",
      "481  K1503     79                  Contrôle et inspection des impôts  1.666667\n",
      "482  K1502     79       Contrôle et inspection des Affaires Sociales  1.666667\n",
      "483  H2504     80  Encadrement d'équipe en industrie de transform...  1.600000\n",
      "484  E1303     80              Encadrement des industries graphiques  1.600000\n",
      "485  H2505     80  Encadrement d'équipe ou d'atelier en matériaux...  1.600000\n",
      "486  E1308     80    Intervention technique en industries graphiques  1.600000\n",
      "487  H1404     80  Intervention technique en méthodes et industri...  1.600000\n",
      "488  H1403     80  Intervention technique en gestion industrielle...  1.600000\n",
      "489  H2503     81  Pilotage d'unité élémentaire de production méc...  1.000000\n",
      "490  H2501     81  Encadrement de production de matériel électriq...  1.000000\n",
      "491  H2908     82              Modelage de matériaux non métalliques  1.000000\n",
      "492  H2910     82                                      Moulage sable  1.000000\n",
      "493  A1414     83                         Horticulture et maraîchage  1.333333\n",
      "494  A1405     83                       Arboriculture et viticulture  1.333333\n",
      "495  A1203     83                        Entretien des espaces verts  1.333333\n",
      "496  A1202     83                     Entretien des espaces naturels  1.333333\n",
      "497  A1403     84                Aide d'élevage agricole et aquacole  0.000000\n",
      "498  A1301     85     Conseil et assistance technique en agriculture  0.000000\n",
      "499  A1302     86    Contrôle et diagnostic technique en agriculture  0.000000\n",
      "500  A1303     87  Ingénierie en agriculture et environnement nat...  0.000000\n",
      "501  L1507     88                         Montage et post-production  0.000000\n",
      "502  F1102     89        Conception aménagement d'espaces intérieurs  1.600000\n",
      "503  B1701     89  Conservation et reconstitution d'espèces animales  1.600000\n",
      "504  B1301     89                         Décoration d'espaces vente  1.600000\n",
      "505  D1506     89                                      Marchandisage  1.600000\n",
      "506  L1503     89                     Décor et accessoires spectacle  1.600000\n",
      "507  B1805     90                                           Stylisme  1.500000\n",
      "508  H1205     90  Études – modèles en industrie des matériaux so...  1.500000\n",
      "509  B1803     90  Réalisation de vêtements sur mesure ou en peti...  1.500000\n",
      "510  H2412     90                             Patronnage - gradation  1.500000\n",
      "511  L1502     90                     Costume et Habillage spectacle  1.500000\n",
      "512  G1201     91  Accompagnement de voyages, d'activités culture...  1.333333\n",
      "513  G1204     91                   Éducation en activités sportives  1.333333\n",
      "514  L1201     91                                              Danse  1.333333\n",
      "515  H1202     92  Conception et dessin produits électriques et é...  1.333333\n",
      "516  H1203     92           Conception et dessin produits mécaniques  1.333333\n",
      "517  F1104     92                                         Dessin BTP  1.333333\n",
      "518  H1207     92                             Rédaction technique **  1.333333\n",
      "519  I1303     93  Installation et maintenance de distributeurs a...  0.000000\n",
      "520  C1207     94                Management en exploitation bancaire  0.000000\n",
      "521  A1201     95                            Bûcheronnage et élagage  1.666667\n",
      "522  A1101     95  Conduite d'engins d'exploitation agricole et f...  1.666667\n",
      "523  A1205     95                                       Sylviculture  1.666667\n",
      "524  A1416     95                               Polyculture, élevage  1.666667\n",
      "525  A1417     96                                        Saliculture  0.000000\n",
      "526  J1405     97                               Optique – lunetterie  0.000000\n",
      "527  E1202     98        Production en laboratoire cinématographique  1.333333\n",
      "528  E1201     98                                       Photographie  1.333333\n",
      "529  E1203     98           Production en laboratoire photographique  1.333333\n",
      "530  K1401     99  Conception et pilotage de la politique des pou...  0.000000\n",
      "531  E1204    100                                  Projection cinéma  0.000000\n"
     ]
    }
   ],
   "source": [
    "with pd.option_context('display.max_rows', None, 'display.max_columns', None):\n",
    "    print(clustered_romes)"
   ]
  },
  {
   "cell_type": "markdown",
   "metadata": {},
   "source": [
    "Purge origina graph from within group connexions: "
   ]
  },
  {
   "cell_type": "code",
   "execution_count": 7,
   "metadata": {},
   "outputs": [],
   "source": [
    "purged_graph = {}\n",
    "for rome, romes in graph.items():\n",
    "    g = clustered_romes.loc[clustered_romes.rome == rome,'group'].values.tolist()[0]\n",
    "    group = clustered_romes.loc[clustered_romes.group == g,'rome'].values.tolist()\n",
    "    purged_graph[rome] = [x for x in romes if x not in group]"
   ]
  },
  {
   "cell_type": "markdown",
   "metadata": {},
   "source": [
    "Compute the 1/(herfindal of connexions) by group: (DIVIDE BY SIZE OF EACH GROUP BEFORE COMPUTING SHARES) "
   ]
  },
  {
   "cell_type": "code",
   "execution_count": 8,
   "metadata": {},
   "outputs": [],
   "source": [
    "g = nx.DiGraph(graph)\n",
    "r = 0.5\n",
    "pi = [r**k for k in range(0,532)]\n",
    "herfs = {}\n",
    "shares = {}\n",
    "prob = {}\n",
    "prob_tot = {}\n",
    "herfs_prob_tot = {}\n",
    "for i,group in clusters.items():\n",
    "    shares[i] = {}\n",
    "    prob[i] = {}\n",
    "    prob_tot[i] = {}\n",
    "    groups = (j for j in clusters.keys() if j != i)\n",
    "    for j in groups:\n",
    "        li = len(group)\n",
    "        lj = len(clusters[j])\n",
    "        shares[i][j] = 0\n",
    "        prob_tot[i][j] = 0\n",
    "        for rome1 in group:\n",
    "            shares[i][j] += sum([rome2 in clusters[j] for rome2 in purged_graph[rome1]])/lj\n",
    "            for rome2 in clusters[j]:\n",
    "                try:\n",
    "                    p = np.prod(pi[0:nx.shortest_path_length(g,rome1,rome2)])\n",
    "                except:\n",
    "                    p = 0\n",
    "                prob_tot[i][j] += p/(lj*li)\n",
    "        prob[i][j] = [sum([rome2 in clusters[j] for rome2 in purged_graph[rome1]])/(lj) for rome1 in group]\n",
    "    tot = sum(shares[i].values())\n",
    "    if tot > 0:\n",
    "        shares[i] = {j:(v/tot) for j,v in shares[i].items()}\n",
    "        herfs[i] = int(round(1/sum([v**2 for v in shares[i].values()])))\n",
    "    else: \n",
    "        herfs[i] = 0\n",
    "    prob[i] = {j:np.mean(p) for j,p in prob[i].items() if sum(p) > 0}\n",
    "shares = {i:{j:s for j,s in shares[i].items() if s > 0} for i in shares.keys()} \n",
    "shares = {i:dict(sorted(shares[i].items(),key=lambda x: x[1],reverse=True)) for i in shares.keys()}\n",
    "prob = {i:dict(sorted(prob[i].items(),key=lambda x: x[1],reverse=True)) for i in prob.keys()}\n",
    "prob_tot = {i:dict(sorted(prob_tot[i].items(),key=lambda x: x[1],reverse=True)) for i in prob_tot.keys()}\n",
    "prob_tot = {i:{j:p for j,p in prob_tot[i].items() if p > 0.01} for i in prob_tot.keys()}"
   ]
  },
  {
   "cell_type": "code",
   "execution_count": 9,
   "metadata": {},
   "outputs": [],
   "source": [
    "distance = {'rome':[],'connex':[],'dist':[]}\n",
    "for rome in graph.keys():\n",
    "    distance['rome'].append(rome)\n",
    "    distance['connex'].append(rome)\n",
    "    distance['dist'].append(0)\n",
    "    for connex in (x for x in graph.keys() if x != rome):\n",
    "        distance['rome'].append(rome)\n",
    "        distance['connex'].append(connex)\n",
    "        try: \n",
    "            d = nx.shortest_path_length(g,rome,connex)\n",
    "        except:\n",
    "            d = '.'\n",
    "        distance['dist'].append(d)\n",
    "        "
   ]
  },
  {
   "cell_type": "code",
   "execution_count": 15,
   "metadata": {},
   "outputs": [],
   "source": [
    "pd.DataFrame(distance).to_csv('../results/rome_dist.csv',index=False)"
   ]
  },
  {
   "cell_type": "code",
   "execution_count": 18,
   "metadata": {},
   "outputs": [
    {
     "data": {
      "text/plain": [
       "2"
      ]
     },
     "execution_count": 18,
     "metadata": {},
     "output_type": "execute_result"
    }
   ],
   "source": [
    "nx.shortest_path_length(g,'E1106','E1401')"
   ]
  },
  {
   "cell_type": "markdown",
   "metadata": {},
   "source": [
    "Prepare data for correlations"
   ]
  },
  {
   "cell_type": "code",
   "execution_count": 40,
   "metadata": {},
   "outputs": [],
   "source": [
    "correlations = {}\n",
    "for i,romesi in clusters.items():\n",
    "    li = len(romesi)\n",
    "    correlations[i] = {}\n",
    "    groups = (j for j in clusters.keys() if j != i)\n",
    "    for j in groups:\n",
    "        romesj = clusters[j]\n",
    "        correlations[i][j] = 0\n",
    "        for romei in romesi:\n",
    "            lj = 0\n",
    "            for romej in romesj:\n",
    "                try:\n",
    "                    correlations[i][j] += data[romei].corr(data[romej])\n",
    "                    lj += 1\n",
    "                except:\n",
    "                    lj = lj \n",
    "            if lj > 0: \n",
    "                correlations[i][j] = correlations[i][j]/lj\n",
    "        correlations[i][j] = correlations[i][j]/li\n",
    "    correlations[i] = dict(sorted(correlations[i].items(),key=lambda x: x[1],reverse=True))"
   ]
  },
  {
   "cell_type": "code",
   "execution_count": 118,
   "metadata": {},
   "outputs": [],
   "source": [
    "clustered_graph_export = {'group_rome':[],'connex':[],'share':[],'prob':[],'herfs':[],'corr':[],'size':[]}\n",
    "for i, groups in shares.items():\n",
    "    l = len(groups)\n",
    "    clustered_graph_export['group_rome'] += [i]*(1+l)\n",
    "    clustered_graph_export['connex'] += [i] + list(groups.keys())\n",
    "    clustered_graph_export['share'] += ['.'] + list(groups.values())\n",
    "    clustered_graph_export['prob'] += ['.'] + list(prob[i].values())\n",
    "    clustered_graph_export['herfs'] += [herfs[i]]*(1+l)\n",
    "    clustered_graph_export['corr'] += ['.'] + [correlations[i][j] for j in groups.keys()]\n",
    "    clustered_graph_export['size'] += [len(cluster_groups[i])]*(1+l)"
   ]
  },
  {
   "cell_type": "code",
   "execution_count": 119,
   "metadata": {
    "scrolled": true
   },
   "outputs": [],
   "source": [
    "pd.DataFrame(clustered_graph_export).to_csv('../results/connex_clusters.csv',index=False)"
   ]
  },
  {
   "cell_type": "code",
   "execution_count": 129,
   "metadata": {},
   "outputs": [],
   "source": [
    "clustered_graph_export_prob_tot = {'group_rome':[],'connex':[],'prob_tot':[],'size':[]}\n",
    "for i, groups in prob_tot.items():\n",
    "    l = len(groups)\n",
    "    clustered_graph_export_prob_tot['group_rome'] += [i]*(1+l)\n",
    "    clustered_graph_export_prob_tot['connex'] += [i] + list(groups.keys())\n",
    "    clustered_graph_export_prob_tot['prob_tot'] += ['.'] + list(groups.values())\n",
    "    clustered_graph_export_prob_tot['size'] += [len(cluster_groups[i])]*(1+l)"
   ]
  },
  {
   "cell_type": "code",
   "execution_count": 130,
   "metadata": {},
   "outputs": [],
   "source": [
    "pd.DataFrame(clustered_graph_export_prob_tot).to_csv('../results/connex_clusters_prob_tot.csv',index=False)"
   ]
  },
  {
   "cell_type": "markdown",
   "metadata": {},
   "source": [
    "Compute the groups j from which i can receive DE:"
   ]
  },
  {
   "cell_type": "code",
   "execution_count": 30,
   "metadata": {},
   "outputs": [],
   "source": [
    "from_group = {}\n",
    "for j in clustered_graph_trimmed.keys():\n",
    "    from_group[j] = []\n",
    "    for i, connex in clustered_graph_trimmed.items():\n",
    "        if len(connex) > 0:\n",
    "            if j == connex[0]:\n",
    "                from_group[j].append(i)"
   ]
  },
  {
   "cell_type": "code",
   "execution_count": 31,
   "metadata": {},
   "outputs": [],
   "source": [
    "graph_lengths = Counter([len(connex) for connex in graph.values()])\n",
    "purged_graph_lengths = Counter([len(connex) for connex in purged_graph.values()])\n",
    "clustered_graph_lengths = Counter([len(connex) for connex in clustered_graph.values()])\n",
    "clustered_graph_trimmed_lengths = Counter([len(connex) for connex in clustered_graph_trimmed.values()])"
   ]
  },
  {
   "cell_type": "code",
   "execution_count": 32,
   "metadata": {},
   "outputs": [
    {
     "data": {
      "image/png": "[encoded data removed]",
      "text/plain": [
       "<Figure size 720x504 with 1 Axes>"
      ]
     },
     "metadata": {
      "needs_background": "light"
     },
     "output_type": "display_data"
    }
   ],
   "source": [
    "fig, axs = plt.subplots(sharex=True,figsize=(10,7))\n",
    "axs.bar(graph_lengths.keys(),graph_lengths.values(),alpha=0.5)\n",
    "axs.bar(purged_graph_lengths.keys(),purged_graph_lengths.values(),alpha=0.5)\n",
    "axs.legend(['Original graph','Purged graph'],prop={'size':14})\n",
    "fig.savefig('../results/connex_romes.png')"
   ]
  },
  {
   "cell_type": "code",
   "execution_count": 33,
   "metadata": {},
   "outputs": [
    {
     "data": {
      "image/png": "[encoded data removed]",
      "text/plain": [
       "<Figure size 720x504 with 1 Axes>"
      ]
     },
     "metadata": {
      "needs_background": "light"
     },
     "output_type": "display_data"
    }
   ],
   "source": [
    "fig, axs = plt.subplots(sharex=True,figsize=(10,7))\n",
    "axs.bar(clustered_graph_lengths.keys(),clustered_graph_lengths.values(),color='g',alpha=0.4)\n",
    "axs.bar(clustered_graph_trimmed_lengths.keys(),clustered_graph_trimmed_lengths.values(),color='0.5',alpha=0.2,ecolor='black',hatch='o')\n",
    "axs.legend(['Original clustered graph','Purged clustered graph'],prop={'size':14})\n",
    "fig.savefig('../results/connex_clusters.png')"
   ]
  },
  {
   "cell_type": "code",
   "execution_count": 398,
   "metadata": {},
   "outputs": [
    {
     "name": "stdout",
     "output_type": "stream",
     "text": [
      "143\n",
      "153\n",
      "173\n"
     ]
    }
   ],
   "source": [
    "clustered_romes = pd.read_csv('../results/clustered_romes_2_1_no_weights.csv')\n",
    "clusters = clustered_romes.group.unique().tolist()\n",
    "print(len(clusters))\n",
    "cluster_groups = {i+1:clustered_romes.loc[clustered_romes.group == clus, 'rome'].tolist() for i, clus in enumerate(clusters)}\n",
    "cluster_size_no_weight = Counter([len(group) for group in cluster_groups.values()])\n",
    "\n",
    "clustered_romes = pd.read_csv('../results/clustered_romes_1_3_fe.csv')\n",
    "clusters = clustered_romes.group.unique().tolist()\n",
    "print(len(clusters))\n",
    "cluster_groups = {i+1:clustered_romes.loc[clustered_romes.group == clus, 'rome'].tolist() for i, clus in enumerate(clusters)}\n",
    "cluster_size_fe = Counter([len(group) for group in cluster_groups.values()])\n",
    "\n",
    "clustered_romes = pd.read_csv('../results/clustered_romes_1_5_exp_fe.csv')\n",
    "clusters = clustered_romes.group.unique().tolist()\n",
    "print(len(clusters))\n",
    "cluster_groups = {i+1:clustered_romes.loc[clustered_romes.group == clus, 'rome'].tolist() for i, clus in enumerate(clusters)}\n",
    "cluster_size_exp_fe = Counter([len(group) for group in cluster_groups.values()])"
   ]
  },
  {
   "cell_type": "code",
   "execution_count": 422,
   "metadata": {},
   "outputs": [
    {
     "data": {
      "image/png": "[encoded data removed]",
      "text/plain": [
       "<Figure size 720x504 with 1 Axes>"
      ]
     },
     "metadata": {
      "needs_background": "light"
     },
     "output_type": "display_data"
    }
   ],
   "source": [
    "fig, axs = plt.subplots(sharex=True,figsize=(10,7))\n",
    "axs.bar(cluster_size_fe.keys(),cluster_size_fe.values(),alpha=0.4)\n",
    "axs.bar(cluster_size_no_weight.keys(),cluster_size_no_weight.values(),alpha=0.6,)\n",
    "axs.bar(cluster_size_exp_fe.keys(),cluster_size_exp_fe.values(),color='0.4',hatch='/',alpha=0.1)\n",
    "axs.legend(['WEIGHTS','NO WEIGHTS','EXP WEIGHTS'],prop={'size':14})\n",
    "fig.savefig('../results/cluster_sizes.png')"
   ]
  },
  {
   "cell_type": "markdown",
   "metadata": {},
   "source": [
    "### Work on distributions"
   ]
  },
  {
   "cell_type": "code",
   "execution_count": 17,
   "metadata": {},
   "outputs": [],
   "source": [
    "n = 1000\n",
    "R = range(1,6)\n",
    "D = {}\n",
    "for r in R: \n",
    "    D[r] = {} \n",
    "    D[r]['x'] = list(range(1,n+1))\n",
    "    tot = n*(n+1)/2\n",
    "    D[r]['y'] = [i/tot for i in range(1,n+1)]\n",
    "    D[r]['y'] = [i**r for i in D[r]['y']]\n",
    "    tot = sum(D[r]['y'])\n",
    "    D[r]['y'] = [i/tot for i in D[r]['y']]"
   ]
  },
  {
   "cell_type": "code",
   "execution_count": 18,
   "metadata": {},
   "outputs": [
    {
     "data": {
      "image/png": "[encoded data removed]",
      "text/plain": [
       "<Figure size 720x504 with 1 Axes>"
      ]
     },
     "metadata": {
      "needs_background": "light"
     },
     "output_type": "display_data"
    }
   ],
   "source": [
    "fig, axs = plt.subplots(figsize=(10,7))\n",
    "for r in R: \n",
    "    axs.plot(D[r]['x'],D[r]['y'])\n",
    "axs.legend([f'r = {r}' for r in R],prop={'size':14})\n",
    "#axs.set_title(f'Distribution of {n} firms with power varying from {R[0]} to {R[-1]}')\n",
    "fig.savefig('../results/distribution_40_firms.png')"
   ]
  },
  {
   "cell_type": "code",
   "execution_count": null,
   "metadata": {},
   "outputs": [],
   "source": [
    "def count_by(df,var):\n",
    "    nb = df.groupby([var],group_keys=False).size()\n",
    "    nb = pd.DataFrame({var:nb.index,'nb_'+var:nb.values})\n",
    "    nb = pd.merge(df,nb,on=var,how='left')\n",
    "    return nb\n",
    "\n",
    "tree = pd.read_csv(\"../bases/fap_pcs_rome.csv\")\n",
    "tree.columns = 'fap','fap_lab','pcs','pcs_lab','rome','qual','rome_lab'\n",
    "tree = tree.filter(items=['fap','fap_lab','rome','rome_lab'])\n",
    "tree['fap']= tree['fap'].fillna(method='ffill')\n",
    "tree['fap_lab']= tree['fap_lab'].fillna(method='ffill')\n",
    "tree = tree.dropna(subset=['rome'],axis=0)\n",
    "tree = count_by(tree,'rome')\n",
    "arbo = tree.filter(['rome','rome_lab'])\n",
    "arbo = arbo.drop_duplicates('rome')"
   ]
  }
 ],
 "metadata": {
  "kernelspec": {
   "display_name": "Python 3",
   "language": "python",
   "name": "python3"
  },
  "language_info": {
   "codemirror_mode": {
    "name": "ipython",
    "version": 3
   },
   "file_extension": ".py",
   "mimetype": "text/x-python",
   "name": "python",
   "nbconvert_exporter": "python",
   "pygments_lexer": "ipython3",
   "version": "3.7.3"
  }
 },
 "nbformat": 4,
 "nbformat_minor": 2
}
