{
 "cells": [
  {
   "cell_type": "code",
   "execution_count": 32,
   "metadata": {},
   "outputs": [],
   "source": [
    "import numpy as np\n",
    "import numpy.random as rd\n",
    "from scipy.optimize import minimize "
   ]
  },
  {
   "cell_type": "code",
   "execution_count": 138,
   "metadata": {},
   "outputs": [],
   "source": [
    "def normalize(X):\n",
    "    return X/np.sum(X)\n",
    "\n",
    "def zero_trunc(X):\n",
    "    return normalize([np.max([x,0.0]) for x in X])\n",
    "\n",
    "def linear_trans(X,a,b):\n",
    "    return zero_trunc([a*x+b for x in X]) \n",
    "\n",
    "def cut_and_normalize(X,i):\n",
    "    return normalize(X.pop(i))\n",
    "\n",
    "def convexify(X,r=1):\n",
    "    X = [x**r for x in X]\n",
    "    return normalize(X)\n",
    "\n",
    "def transform(X,v):\n",
    "    X = linear_trans(X,v[1],v[2])\n",
    "    X = convexify(X,v[0])\n",
    "    return X\n",
    "\n",
    "def dist(N):\n",
    "    return normalize(list(range(1,N+1)))\n",
    "\n",
    "def norm_by_max(X,p_max,start=2,method='BFGS'):\n",
    "    if p_max*len(X) < 1:\n",
    "        print('Impossible to reach objective: distribution unchanged.')\n",
    "        return X\n",
    "    else:\n",
    "        def f(v):\n",
    "            return abs(max(convexify(X,v))-p_max)\n",
    "        res = minimize(f,start,method=method)\n",
    "        return convexify(X,res.x)\n",
    "        "
   ]
  },
  {
   "cell_type": "code",
   "execution_count": 140,
   "metadata": {},
   "outputs": [
    {
     "data": {
      "text/plain": [
       "array([[0.08249516],\n",
       "       [0.08995938],\n",
       "       [0.09463495],\n",
       "       [0.09809897],\n",
       "       [0.10087295],\n",
       "       [0.10319758],\n",
       "       [0.10520478],\n",
       "       [0.10697503],\n",
       "       [0.1085612 ],\n",
       "       [0.11      ]])"
      ]
     },
     "execution_count": 140,
     "metadata": {},
     "output_type": "execute_result"
    }
   ],
   "source": [
    "rd.seed(123)\n",
    "\n",
    "k = 10\n",
    "nk = 10 \n",
    "R = 50\n",
    "p = 0.5\n",
    "sk = 0.5\n",
    "\n",
    "#p_max = p*k/(sk*R)\n",
    "p_max = 0.11\n",
    "bb = norm_by_max(dist(nk),p_max)\n",
    "bb"
   ]
  },
  {
   "cell_type": "code",
   "execution_count": 135,
   "metadata": {},
   "outputs": [
    {
     "data": {
      "text/plain": [
       "array([0.01818182, 0.03636364, 0.05454545, 0.07272727, 0.09090909,\n",
       "       0.10909091, 0.12727273, 0.14545455, 0.16363636, 0.18181818])"
      ]
     },
     "execution_count": 135,
     "metadata": {},
     "output_type": "execute_result"
    }
   ],
   "source": [
    "dist(nk)"
   ]
  },
  {
   "cell_type": "code",
   "execution_count": null,
   "metadata": {},
   "outputs": [],
   "source": []
  },
  {
   "cell_type": "code",
   "execution_count": null,
   "metadata": {},
   "outputs": [],
   "source": []
  }
 ],
 "metadata": {
  "kernelspec": {
   "display_name": "Python 3",
   "language": "python",
   "name": "python3"
  },
  "language_info": {
   "codemirror_mode": {
    "name": "ipython",
    "version": 3
   },
   "file_extension": ".py",
   "mimetype": "text/x-python",
   "name": "python",
   "nbconvert_exporter": "python",
   "pygments_lexer": "ipython3",
   "version": "3.7.3"
  }
 },
 "nbformat": 4,
 "nbformat_minor": 2
}
