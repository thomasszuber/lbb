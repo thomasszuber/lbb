{
 "cells": [
  {
   "cell_type": "code",
   "execution_count": 11,
   "metadata": {},
   "outputs": [],
   "source": [
    "import numpy as np \n",
    "import pandas as pd\n",
    "import networkx as nx\n",
    "import matplotlib as plt \n",
    "import markov_clustering as mc\n",
    "import random\n",
    "import csv"
   ]
  },
  {
   "cell_type": "code",
   "execution_count": 2,
   "metadata": {},
   "outputs": [],
   "source": [
    "run rome.py"
   ]
  },
  {
   "cell_type": "code",
   "execution_count": 3,
   "metadata": {},
   "outputs": [],
   "source": [
    "data = pd.read_csv(\"../bases/rome_tension.csv\")"
   ]
  },
  {
   "cell_type": "code",
   "execution_count": 4,
   "metadata": {},
   "outputs": [],
   "source": [
    "data = data[['rome5','BE_id','T']]\n",
    "data = data.pivot(index='BE_id',columns='rome5',values='T')"
   ]
  },
  {
   "cell_type": "code",
   "execution_count": 5,
   "metadata": {},
   "outputs": [],
   "source": [
    "romes = list(graph.keys())"
   ]
  },
  {
   "cell_type": "markdown",
   "metadata": {},
   "source": [
    "### Undirected graph"
   ]
  },
  {
   "cell_type": "code",
   "execution_count": 26,
   "metadata": {},
   "outputs": [
    {
     "data": {
      "text/plain": [
       "225"
      ]
     },
     "execution_count": 26,
     "metadata": {},
     "output_type": "execute_result"
    }
   ],
   "source": [
    "G = nx.Graph()\n",
    "G.add_nodes_from(romes)\n",
    "weights = {}\n",
    "R = 1\n",
    "for rome1 in romes:\n",
    "    weights[rome1] = {}\n",
    "    s = 0\n",
    "    for rome2 in graph[rome1]:\n",
    "        if True: # replace by rome1[0] = rome2[0]\n",
    "            weights[rome1][rome2] = np.float_power(data[rome1].corr(data[rome2]),R)\n",
    "            s += weights[rome1][rome2]\n",
    "    for rome2 in graph[rome1]:\n",
    "        if True: # replace by rome1[0] = rome2[0]\n",
    "             weights[rome1][rome2] =  weights[rome1][rome2]/s\n",
    "\n",
    "for rome1 in romes:\n",
    "    current_edges = list(G.edges)\n",
    "    for rome2 in graph[rome1]:\n",
    "        if True: # replace by rome1[0] = rome2[0]\n",
    "            if rome1 not in graph[rome2]: w = weights[rome1][rome2]/2\n",
    "            if rome1 in graph[rome2]: w = (weights[rome1][rome2]+weights[rome2][rome1])\n",
    "            if (rome2,rome1) not in current_edges:\n",
    "                G.add_edge(rome1,rome2,weight=w)\n",
    "                \n",
    "matrix = nx.adjacency_matrix(G)\n",
    "result = mc.run_mcl(matrix,inflation=2.0)\n",
    "clusters = mc.get_clusters(result)\n",
    "len(clusters)"
   ]
  },
  {
   "cell_type": "code",
   "execution_count": 27,
   "metadata": {},
   "outputs": [],
   "source": [
    "CL = [[romes[x] for x in c] for c in clusters]"
   ]
  },
  {
   "cell_type": "code",
   "execution_count": 28,
   "metadata": {},
   "outputs": [
    {
     "data": {
      "text/plain": [
       "82"
      ]
     },
     "execution_count": 28,
     "metadata": {},
     "output_type": "execute_result"
    }
   ],
   "source": [
    "sum([len(cl) == 1 for cl in CL])"
   ]
  },
  {
   "cell_type": "code",
   "execution_count": 29,
   "metadata": {},
   "outputs": [],
   "source": [
    "i = 1\n",
    "with open('../bases/undirected_clusters.csv', 'w') as csv_file:\n",
    "    writer = csv.writer(csv_file)\n",
    "    for cl in CL:\n",
    "        for rome in cl:\n",
    "           writer.writerow([f'g{i}', rome])\n",
    "        i += 1"
   ]
  },
  {
   "cell_type": "markdown",
   "metadata": {},
   "source": [
    "### Directed graph"
   ]
  },
  {
   "cell_type": "code",
   "execution_count": 21,
   "metadata": {},
   "outputs": [
    {
     "data": {
      "text/plain": [
       "177"
      ]
     },
     "execution_count": 21,
     "metadata": {},
     "output_type": "execute_result"
    }
   ],
   "source": [
    "DG = nx.DiGraph()\n",
    "DG.add_nodes_from(romes)\n",
    "weights = {}\n",
    "R = 1\n",
    "for rome1 in romes:\n",
    "    weights[rome1] = {}\n",
    "    s = 0\n",
    "    for rome2 in graph[rome1]:\n",
    "        if True: # replace by rome1[0] = rome2[0]\n",
    "            weights[rome1][rome2] = np.float_power(data[rome1].corr(data[rome2]),R)\n",
    "            s += weights[rome1][rome2]\n",
    "    for rome2 in graph[rome1]:\n",
    "        w = weights[rome1][rome2]/s\n",
    "        if w > 0.2: # replace by rome1[0] = rome2[0]\n",
    "            DG.add_edge(rome1,rome2)\n",
    "\n",
    "matrix = nx.adjacency_matrix(DG)\n",
    "result = mc.run_mcl(matrix,inflation=2)\n",
    "clusters = mc.get_clusters(result)\n",
    "len(clusters) "
   ]
  },
  {
   "cell_type": "code",
   "execution_count": 22,
   "metadata": {},
   "outputs": [],
   "source": [
    "CL = [[romes[x] for x in c] for c in clusters]"
   ]
  },
  {
   "cell_type": "code",
   "execution_count": 23,
   "metadata": {},
   "outputs": [
    {
     "data": {
      "text/plain": [
       "39"
      ]
     },
     "execution_count": 23,
     "metadata": {},
     "output_type": "execute_result"
    }
   ],
   "source": [
    "sum([len(cl) == 1 for cl in CL])"
   ]
  },
  {
   "cell_type": "code",
   "execution_count": 25,
   "metadata": {},
   "outputs": [],
   "source": [
    "i = 1\n",
    "with open('../bases/directed_clusters.csv', 'w') as csv_file:\n",
    "    writer = csv.writer(csv_file)\n",
    "    for cl in CL:\n",
    "        for rome in cl:\n",
    "           writer.writerow([f'g{i}', rome])\n",
    "        i += 1"
   ]
  },
  {
   "cell_type": "code",
   "execution_count": null,
   "metadata": {},
   "outputs": [],
   "source": []
  },
  {
   "cell_type": "code",
   "execution_count": null,
   "metadata": {},
   "outputs": [],
   "source": []
  }
 ],
 "metadata": {
  "kernelspec": {
   "display_name": "Python 3",
   "language": "python",
   "name": "python3"
  },
  "language_info": {
   "codemirror_mode": {
    "name": "ipython",
    "version": 3
   },
   "file_extension": ".py",
   "mimetype": "text/x-python",
   "name": "python",
   "nbconvert_exporter": "python",
   "pygments_lexer": "ipython3",
   "version": "3.7.3"
  }
 },
 "nbformat": 4,
 "nbformat_minor": 2
}
