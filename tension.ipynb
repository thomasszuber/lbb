{
 "cells": [
  {
   "cell_type": "code",
   "execution_count": 146,
   "metadata": {},
   "outputs": [],
   "source": [
    "import pandas as pd\n",
    "from itertools import combinations, combinations_with_replacement\n",
    "import numpy as np\n",
    "import csv"
   ]
  },
  {
   "cell_type": "code",
   "execution_count": 147,
   "metadata": {},
   "outputs": [],
   "source": [
    "def urns_and_balls(U, B ,urns_max=False, urns_min=False, urns_names=False, zeros=False):\n",
    "    \"\"\"\n",
    "    Distributes B balls into U urns\n",
    "    - if zeros == True  : empty urns allowed \n",
    "    - if zeros == False : empty urns not allowed \n",
    "    \"\"\"\n",
    "    if type(urns_max) == bool: urns_max = np.ones(U,dtype=int)*B\n",
    "    else: urns_max = np.array(urns_max)\n",
    "    if type(urns_min) == bool: urns_min = np.zeros(U,dtype=int)\n",
    "    else: urns_max = np.array(urns_max)\n",
    "        \n",
    "    if zeros == True:\n",
    "        C = combinations_with_replacement(range(B+1),U-1)\n",
    "        a = np.ones(B,dtype=int)\n",
    "        g = []\n",
    "        for c in C:\n",
    "            x = [sum(a[:c[0]])]\n",
    "            for i in range(len(c)-1): \n",
    "                x.append(sum(a[c[i]:c[i+1]]))\n",
    "            x.append(sum(a[c[-1]:]))\n",
    "            if all([i <= j for i,j in zip(x,urns_max)]) and all([i >= j for i,j in zip(x,urns_min)]):\n",
    "                if type(urns_names) == bool: g.append(x)\n",
    "                else: g.append(dict(zip(urns_names,x)))\n",
    "    \n",
    "    if zeros == False:\n",
    "        if B < U: print(f'WARNING: Number of balls {B} has to be greater than or equal to the number of urns {U}.')\n",
    "        C = combinations(range(1,B),U-1)\n",
    "        C = [list(c) for c in C]\n",
    "        a = np.ones(B,dtype=int)\n",
    "        g = []\n",
    "        for c in C:\n",
    "            x = [sum(a[0:c[0]])]\n",
    "            for i in range(len(c)-1): \n",
    "                x.append(sum(a[c[i]:c[i+1]]))\n",
    "            x.append(sum(a[c[-1]:]))\n",
    "            if all([i <= j for i,j in zip(x,urns_max)]) and all([i >= j for i,j in zip(x,urns_min)]):\n",
    "                if type(urns_names) == bool: g.append(x)\n",
    "                else: g.append(dict(zip(urns_names,x)))\n",
    "    return g"
   ]
  },
  {
   "cell_type": "code",
   "execution_count": 148,
   "metadata": {},
   "outputs": [],
   "source": [
    "# Load Data \n",
    "\n",
    "data = pd.read_csv(\"rome_tension.csv\")\n",
    "\n",
    "# Define tree\n",
    "\n",
    "data.sort_values(by=['rome1','rome3','rome5'])\n",
    "cat = data.drop(columns=['BE_id','T']).drop_duplicates()\n",
    "tree1 = dict(cat.groupby(by='rome1')['rome3'].unique())\n",
    "tree3 = dict(cat.groupby(by='rome3')['rome5'].unique())\n",
    "tree = {key1:{key3:list(tree3[key3]) for key3 in tree1[key1]} for key1 in tree1.keys()}\n",
    "\n",
    "# Delete these groups: they are too big!! \n",
    "del tree['H']\n",
    "del tree['K']\n",
    "del tree['N']\n",
    "\n",
    "# Parameter for draws \n",
    "n_nodes = {key1:{key3:len(tree[key1][key3]) for key3 in tree[key1].keys()} for key1 in tree.keys()}\n",
    "n_groups = {key1:len(tree[key1]) for key1 in tree.keys()}"
   ]
  },
  {
   "cell_type": "markdown",
   "metadata": {},
   "source": [
    "Be careful !!! All draws that have strictly positive entries must come from a zeros=False draw with G as number of groups to redistribute. This problem arises as soon as one seeks to attribute G groups to n nodes with G > n (which could only happen here if we tried to redistribute groups at the top level. \n",
    "\n",
    "So if G > n ask for all zero draws with G-1 groups but delete among those groups those who have all strictly positive entries. (for instance drop draws if product > 0) "
   ]
  },
  {
   "cell_type": "code",
   "execution_count": 149,
   "metadata": {},
   "outputs": [],
   "source": [
    "draws3 = {key:urns_and_balls(n_groups[key],\n",
    "                           n_groups[key]-1,\n",
    "                           urns_max=list(n_nodes[key].values()),\n",
    "                           urns_names=tree[key].keys(),\n",
    "                           zeros=True) \\\n",
    "          for key in tree.keys()}"
   ]
  },
  {
   "cell_type": "code",
   "execution_count": 150,
   "metadata": {},
   "outputs": [
    {
     "name": "stdout",
     "output_type": "stream",
     "text": [
      "A\n",
      "B\n",
      "C\n",
      "D\n",
      "E\n",
      "F\n",
      "G\n",
      "I\n",
      "J\n",
      "L\n",
      "M\n"
     ]
    }
   ],
   "source": [
    "final_groups = {}\n",
    "for key1 in tree.keys():\n",
    "    print(key1)\n",
    "    sigma = float('Inf')\n",
    "    best_groups = {}\n",
    "    for draw3 in draws3[key1]:\n",
    "        zeros = []\n",
    "        ones = []\n",
    "        others = {}\n",
    "        groups = {}\n",
    "        i = 0\n",
    "        for key3, nb_groups in draw3.items():\n",
    "            if nb_groups == 0: zeros.append(key3)\n",
    "            if nb_groups == 1: ones.append(key3)\n",
    "            if nb_groups > 1 : others[key3] = nb_groups\n",
    "        if len(zeros) > 0: groups[f'g{i}'] = []\n",
    "        for key3 in zeros:\n",
    "            for rome5 in tree[key1][key3]:\n",
    "                groups[f'g{i}'].append(rome5)\n",
    "        for key3 in ones:\n",
    "            i += 1\n",
    "            groups[f'g{i}'] = tree[key1][key3]\n",
    "        for key3, nb_groups in others.items():\n",
    "            if nb_groups == n_nodes[key1][key3]:\n",
    "                best_groups5 = [[rome5] for rome5 in tree[key1][key3]]\n",
    "            else:\n",
    "                draws5 = urns_and_balls(n_nodes[key1][key3],\n",
    "                                        nb_groups-1,\n",
    "                                        urns_max=np.ones(n_nodes[key1][key3],dtype=int),\n",
    "                                        zeros=True,\n",
    "                                        urns_names=tree[key1][key3])\n",
    "                best_groups5 = []\n",
    "                sigma5 = float('Inf')\n",
    "                for draw5 in draws5:\n",
    "                    groups5 = []\n",
    "                    groups5.append([rome5 for rome5, nb in draw5.items() if nb == 0])\n",
    "                    groups5 = [x for x in groups5 if len(x) > 0]\n",
    "                    for rome5, nb in draw5.items():\n",
    "                        if nb == 1: groups5.append([rome5])\n",
    "                    groups5_var = sum([data.loc[data['rome5'].isin(group)]['T'].var() for group in groups5])\n",
    "                    if groups5_var < sigma5: \n",
    "                        sigma5 = groups5_var\n",
    "                        best_groups5 = groups5\n",
    "            for group in best_groups5:\n",
    "                i += 1\n",
    "                groups[f'g{i}'] = group\n",
    "        groups_var = sum([data.loc[data['rome5'].isin(group)]['T'].var() for group in groups.values()])\n",
    "        if groups_var < sigma:\n",
    "            sigma = groups_var\n",
    "            best_groups = groups\n",
    "            best_draw = draw3\n",
    "    final_groups[key1] = best_groups"
   ]
  },
  {
   "cell_type": "code",
   "execution_count": 151,
   "metadata": {},
   "outputs": [],
   "source": [
    "final_output = {}\n",
    "i = 0\n",
    "for key1, groups1 in final_groups.items():\n",
    "    for groups5 in groups1.values():\n",
    "        i += 1\n",
    "        for rome5 in groups5:\n",
    "            final_output[rome5] = i\n",
    "with open('optimal_grouping.csv', 'w') as csv_file:\n",
    "    writer = csv.writer(csv_file)\n",
    "    for key, value in final_output.items():\n",
    "       writer.writerow([key, value])"
   ]
  }
 ],
 "metadata": {
  "kernelspec": {
   "display_name": "Python 3",
   "language": "python",
   "name": "python3"
  },
  "language_info": {
   "codemirror_mode": {
    "name": "ipython",
    "version": 3
   },
   "file_extension": ".py",
   "mimetype": "text/x-python",
   "name": "python",
   "nbconvert_exporter": "python",
   "pygments_lexer": "ipython3",
   "version": "3.7.3"
  }
 },
 "nbformat": 4,
 "nbformat_minor": 2
}
